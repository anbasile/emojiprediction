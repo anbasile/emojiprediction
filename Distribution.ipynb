{
 "cells": [
  {
   "cell_type": "code",
   "execution_count": 1,
   "metadata": {
    "collapsed": true
   },
   "outputs": [],
   "source": [
    "%matplotlib inline\n",
    "import matplotlib.pyplot as plt\n",
    "import pandas as pd"
   ]
  },
  {
   "cell_type": "code",
   "execution_count": 10,
   "metadata": {},
   "outputs": [
    {
     "data": {
      "text/plain": [
       "0     19682\n",
       "1     13505\n",
       "2      9253\n",
       "3      6769\n",
       "4      6444\n",
       "5      4387\n",
       "6      3833\n",
       "7      3651\n",
       "8      3501\n",
       "9      3370\n",
       "10     3125\n",
       "11     2907\n",
       "12     2786\n",
       "13     2694\n",
       "14     2613\n",
       "15     2537\n",
       "16     2583\n",
       "17     2508\n",
       "18     2534\n",
       "Name: label, dtype: int64"
      ]
     },
     "execution_count": 10,
     "metadata": {},
     "output_type": "execute_result"
    }
   ],
   "source": [
    "es_labels = pd.read_table('es.labels')\n",
    "es_labels.columns = ['label']\n",
    "es_count = (es_labels['label'].value_counts()).sort_index()\n",
    "es_count"
   ]
  },
  {
   "cell_type": "code",
   "execution_count": 14,
   "metadata": {},
   "outputs": [
    {
     "ename": "SyntaxError",
     "evalue": "invalid character in identifier (<ipython-input-14-5f583eec423c>, line 1)",
     "output_type": "error",
     "traceback": [
      "\u001b[0;36m  File \u001b[0;32m\"<ipython-input-14-5f583eec423c>\"\u001b[0;36m, line \u001b[0;32m1\u001b[0m\n\u001b[0;31m    es_emojis = [❤️,😍,😂,💕,🔥,😊,😎,✨,💙,😘,📷,🇺🇸,☀️,💜,😉,💯,😁,🌲,📸,😜]\u001b[0m\n\u001b[0m                  ^\u001b[0m\n\u001b[0;31mSyntaxError\u001b[0m\u001b[0;31m:\u001b[0m invalid character in identifier\n"
     ]
    }
   ],
   "source": [
    "es_emojis = [❤️,😍,😂,💕,🔥,😊,😎,✨,💙,😘,📷,🇺🇸,☀️,💜,😉,💯,😁,🌲,📸,😜]"
   ]
  },
  {
   "cell_type": "code",
   "execution_count": 12,
   "metadata": {},
   "outputs": [
    {
     "data": {
      "text/plain": [
       "0     106466\n",
       "1      51327\n",
       "2      50436\n",
       "3      27067\n",
       "4      24426\n",
       "5      23112\n",
       "6      21118\n",
       "7      18162\n",
       "8      16846\n",
       "9      15985\n",
       "10     15947\n",
       "11     15182\n",
       "12     13717\n",
       "13     12839\n",
       "14     13359\n",
       "15     13264\n",
       "16     12958\n",
       "17     12714\n",
       "18     13142\n",
       "19     12197\n",
       "Name: label, dtype: int64"
      ]
     },
     "execution_count": 12,
     "metadata": {},
     "output_type": "execute_result"
    }
   ],
   "source": [
    "en_labels = pd.read_table('us.labels')\n",
    "en_labels.columns = ['label']\n",
    "en_count = (en_labels['label'].value_counts()).sort_index()\n",
    "en_count"
   ]
  },
  {
   "cell_type": "code",
   "execution_count": 8,
   "metadata": {},
   "outputs": [
    {
     "data": {
      "image/png": "[encoded data removed]",
      "text/plain": [
       "<matplotlib.figure.Figure at 0x11365cb00>"
      ]
     },
     "metadata": {},
     "output_type": "display_data"
    }
   ],
   "source": [
    "es_count.plot.bar()\n",
    "plt.show()"
   ]
  },
  {
   "cell_type": "code",
   "execution_count": 40,
   "metadata": {},
   "outputs": [
    {
     "data": {
      "image/png": "[encoded data removed]",
      "text/plain": [
       "<matplotlib.figure.Figure at 0x10c612f98>"
      ]
     },
     "metadata": {},
     "output_type": "display_data"
    }
   ],
   "source": [
    "en_count.plot.bar()\n",
    "plt.show()"
   ]
  },
  {
   "cell_type": "code",
   "execution_count": null,
   "metadata": {
    "collapsed": true
   },
   "outputs": [],
   "source": []
  }
 ],
 "metadata": {
  "kernelspec": {
   "display_name": "Python 3",
   "language": "python",
   "name": "python3"
  },
  "language_info": {
   "codemirror_mode": {
    "name": "ipython",
    "version": 3
   },
   "file_extension": ".py",
   "mimetype": "text/x-python",
   "name": "python",
   "nbconvert_exporter": "python",
   "pygments_lexer": "ipython3",
   "version": "3.6.3"
  }
 },
 "nbformat": 4,
 "nbformat_minor": 2
}
