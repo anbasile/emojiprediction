{
 "cells": [
  {
   "cell_type": "code",
   "execution_count": 1,
   "metadata": {
    "collapsed": true
   },
   "outputs": [],
   "source": [
    "from sklearn.pipeline import Pipeline\n",
    "from sklearn.feature_extraction.text import TfidfVectorizer\n",
    "from sklearn.naive_bayes import MultinomialNB\n",
    "from sklearn.model_selection import cross_val_score\n",
    "import numpy as np"
   ]
  },
  {
   "cell_type": "code",
   "execution_count": 2,
   "metadata": {
    "collapsed": true
   },
   "outputs": [],
   "source": [
    "# loads the datasets and labels\n",
    "with open('../data/us.text') as f:\n",
    "    eng_text= f.readlines()\n",
    "    \n",
    "with open('../data/us.labels') as f:\n",
    "    eng_labels = f.readlines()\n",
    "\n",
    "with open('../data/es.text') as f:\n",
    "    esp_text = f.readlines()\n",
    "\n",
    "with open('../data/es.labels') as f:\n",
    "    esp_labels = f.readlines()"
   ]
  },
  {
   "cell_type": "code",
   "execution_count": 3,
   "metadata": {
    "collapsed": true
   },
   "outputs": [],
   "source": [
    "# asserts that the number of tweets and labels are equal\n",
    "assert len(eng_text) == len(eng_labels)\n",
    "assert len(esp_text) == len(esp_labels)"
   ]
  },
  {
   "cell_type": "code",
   "execution_count": 4,
   "metadata": {},
   "outputs": [],
   "source": [
    "# strips the tweets and labels of extra chars\n",
    "eng_text = [tweet.strip() for tweet in eng_text]\n",
    "eng_labels = [int(label.strip()) for label in eng_labels]\n",
    "esp_text = [tweet.strip() for tweet in esp_text]\n",
    "esp_labels = [int(label.strip()) for label in esp_labels]"
   ]
  },
  {
   "cell_type": "code",
   "execution_count": 5,
   "metadata": {},
   "outputs": [
    {
     "name": "stdout",
     "output_type": "stream",
     "text": [
      "490265\n",
      "98683\n"
     ]
    }
   ],
   "source": [
    "print(len(eng_text))\n",
    "print(len(esp_text))"
   ]
  },
  {
   "cell_type": "code",
   "execution_count": 6,
   "metadata": {
    "collapsed": true
   },
   "outputs": [],
   "source": [
    "# shuffle the dataset with the same seed\n",
    "np.random.seed(4132)\n",
    "np.random.shuffle(eng_text)\n",
    "np.random.seed(4132)\n",
    "np.random.shuffle(eng_labels)\n",
    "np.random.seed(4132)\n",
    "np.random.shuffle(esp_text)\n",
    "np.random.seed(4132)\n",
    "np.random.shuffle(esp_labels)\n"
   ]
  },
  {
   "cell_type": "code",
   "execution_count": 7,
   "metadata": {},
   "outputs": [
    {
     "data": {
      "text/plain": [
       "array([ 0.21672407,  0.21726356,  0.21785389,  0.21898439,  0.21963706])"
      ]
     },
     "execution_count": 7,
     "metadata": {},
     "output_type": "execute_result"
    }
   ],
   "source": [
    "pipe = Pipeline([('tfidf', TfidfVectorizer()),\n",
    "                 ('clf', MultinomialNB())])\n",
    "\n",
    "cross_val_score(pipe, esp_text, esp_labels, cv=5)"
   ]
  },
  {
   "cell_type": "code",
   "execution_count": null,
   "metadata": {
    "collapsed": true
   },
   "outputs": [],
   "source": []
  }
 ],
 "metadata": {
  "kernelspec": {
   "display_name": "Python 3",
   "language": "python",
   "name": "python3"
  },
  "language_info": {
   "codemirror_mode": {
    "name": "ipython",
    "version": 3
   },
   "file_extension": ".py",
   "mimetype": "text/x-python",
   "name": "python",
   "nbconvert_exporter": "python",
   "pygments_lexer": "ipython3",
   "version": "3.6.3"
  }
 },
 "nbformat": 4,
 "nbformat_minor": 2
}
