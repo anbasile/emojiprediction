{
 "cells": [
  {
   "cell_type": "code",
   "execution_count": 1,
   "metadata": {
    "scrolled": true
   },
   "outputs": [
    {
     "name": "stderr",
     "output_type": "stream",
     "text": [
      "IOPub data rate exceeded.\n",
      "The notebook server will temporarily stop sending output\n",
      "to the client in order to avoid crashing it.\n",
      "To change this limit, set the config variable\n",
      "`--NotebookApp.iopub_data_rate_limit`.\n"
     ]
    },
    {
     "data": {
      "text/html": [
       "<script>requirejs.config({paths: { 'plotly': ['https://cdn.plot.ly/plotly-latest.min']},});if(!window.Plotly) {{require(['plotly'],function(plotly) {window.Plotly=plotly;});}}</script>"
      ],
      "text/vnd.plotly.v1+html": [
       "<script>requirejs.config({paths: { 'plotly': ['https://cdn.plot.ly/plotly-latest.min']},});if(!window.Plotly) {{require(['plotly'],function(plotly) {window.Plotly=plotly;});}}</script>"
      ]
     },
     "metadata": {},
     "output_type": "display_data"
    }
   ],
   "source": [
    "import plotly\n",
    "import plotly.plotly as py\n",
    "import plotly.graph_objs as go\n",
    "import numpy as np\n",
    "import pandas as pd\n",
    "import cufflinks as cf\n",
    "cf.go_offline()\n",
    "plotly.offline.init_notebook_mode(connected=True) # must use to plot within notebook\n",
    "# also must use plotly.offline.iplot() for offline plot"
   ]
  },
  {
   "cell_type": "markdown",
   "metadata": {},
   "source": [
    "# English Distributions"
   ]
  },
  {
   "cell_type": "code",
   "execution_count": 2,
   "metadata": {
    "collapsed": true
   },
   "outputs": [],
   "source": [
    "# loads the English tweet data and gets the total counts per emoji\n",
    "en_labels = pd.read_table('../data/us.labels')\n",
    "en_labels.columns = ['count']\n",
    "en_count = (en_labels['count'].value_counts()).sort_index()"
   ]
  },
  {
   "cell_type": "code",
   "execution_count": 3,
   "metadata": {
    "collapsed": true
   },
   "outputs": [],
   "source": [
    "# list of top 20 emojis for English tweets\n",
    "en_emojis = pd.Series(['❤️','😍','😂','💕','🔥','😊','😎','✨','💙','😘','📷','🇺🇸','☀️','💜','😉','💯','😁','🌲','📸','😜'], name='emoji')\n",
    "en_count = pd.concat([en_emojis, en_count], axis=1)"
   ]
  },
  {
   "cell_type": "code",
   "execution_count": 4,
   "metadata": {},
   "outputs": [
    {
     "data": {
      "text/html": [
       "<div>\n",
       "<style scoped>\n",
       "    .dataframe tbody tr th:only-of-type {\n",
       "        vertical-align: middle;\n",
       "    }\n",
       "\n",
       "    .dataframe tbody tr th {\n",
       "        vertical-align: top;\n",
       "    }\n",
       "\n",
       "    .dataframe thead th {\n",
       "        text-align: right;\n",
       "    }\n",
       "</style>\n",
       "<table border=\"1\" class=\"dataframe\">\n",
       "  <thead>\n",
       "    <tr style=\"text-align: right;\">\n",
       "      <th></th>\n",
       "      <th>emoji</th>\n",
       "      <th>count</th>\n",
       "    </tr>\n",
       "  </thead>\n",
       "  <tbody>\n",
       "    <tr>\n",
       "      <th>0</th>\n",
       "      <td>❤️</td>\n",
       "      <td>106466</td>\n",
       "    </tr>\n",
       "    <tr>\n",
       "      <th>1</th>\n",
       "      <td>😍</td>\n",
       "      <td>51327</td>\n",
       "    </tr>\n",
       "    <tr>\n",
       "      <th>2</th>\n",
       "      <td>😂</td>\n",
       "      <td>50436</td>\n",
       "    </tr>\n",
       "    <tr>\n",
       "      <th>3</th>\n",
       "      <td>💕</td>\n",
       "      <td>27067</td>\n",
       "    </tr>\n",
       "    <tr>\n",
       "      <th>4</th>\n",
       "      <td>🔥</td>\n",
       "      <td>24426</td>\n",
       "    </tr>\n",
       "    <tr>\n",
       "      <th>5</th>\n",
       "      <td>😊</td>\n",
       "      <td>23112</td>\n",
       "    </tr>\n",
       "    <tr>\n",
       "      <th>6</th>\n",
       "      <td>😎</td>\n",
       "      <td>21118</td>\n",
       "    </tr>\n",
       "    <tr>\n",
       "      <th>7</th>\n",
       "      <td>✨</td>\n",
       "      <td>18162</td>\n",
       "    </tr>\n",
       "    <tr>\n",
       "      <th>8</th>\n",
       "      <td>💙</td>\n",
       "      <td>16846</td>\n",
       "    </tr>\n",
       "    <tr>\n",
       "      <th>9</th>\n",
       "      <td>😘</td>\n",
       "      <td>15985</td>\n",
       "    </tr>\n",
       "    <tr>\n",
       "      <th>10</th>\n",
       "      <td>📷</td>\n",
       "      <td>15947</td>\n",
       "    </tr>\n",
       "    <tr>\n",
       "      <th>11</th>\n",
       "      <td>🇺🇸</td>\n",
       "      <td>15182</td>\n",
       "    </tr>\n",
       "    <tr>\n",
       "      <th>12</th>\n",
       "      <td>☀️</td>\n",
       "      <td>13717</td>\n",
       "    </tr>\n",
       "    <tr>\n",
       "      <th>13</th>\n",
       "      <td>💜</td>\n",
       "      <td>12839</td>\n",
       "    </tr>\n",
       "    <tr>\n",
       "      <th>14</th>\n",
       "      <td>😉</td>\n",
       "      <td>13359</td>\n",
       "    </tr>\n",
       "    <tr>\n",
       "      <th>15</th>\n",
       "      <td>💯</td>\n",
       "      <td>13264</td>\n",
       "    </tr>\n",
       "    <tr>\n",
       "      <th>16</th>\n",
       "      <td>😁</td>\n",
       "      <td>12958</td>\n",
       "    </tr>\n",
       "    <tr>\n",
       "      <th>17</th>\n",
       "      <td>🌲</td>\n",
       "      <td>12714</td>\n",
       "    </tr>\n",
       "    <tr>\n",
       "      <th>18</th>\n",
       "      <td>📸</td>\n",
       "      <td>13142</td>\n",
       "    </tr>\n",
       "    <tr>\n",
       "      <th>19</th>\n",
       "      <td>😜</td>\n",
       "      <td>12197</td>\n",
       "    </tr>\n",
       "  </tbody>\n",
       "</table>\n",
       "</div>"
      ],
      "text/plain": [
       "   emoji   count\n",
       "0     ❤️  106466\n",
       "1      😍   51327\n",
       "2      😂   50436\n",
       "3      💕   27067\n",
       "4      🔥   24426\n",
       "5      😊   23112\n",
       "6      😎   21118\n",
       "7      ✨   18162\n",
       "8      💙   16846\n",
       "9      😘   15985\n",
       "10     📷   15947\n",
       "11    🇺🇸   15182\n",
       "12    ☀️   13717\n",
       "13     💜   12839\n",
       "14     😉   13359\n",
       "15     💯   13264\n",
       "16     😁   12958\n",
       "17     🌲   12714\n",
       "18     📸   13142\n",
       "19     😜   12197"
      ]
     },
     "execution_count": 4,
     "metadata": {},
     "output_type": "execute_result"
    }
   ],
   "source": [
    "en_count"
   ]
  },
  {
   "cell_type": "code",
   "execution_count": 5,
   "metadata": {
    "collapsed": true
   },
   "outputs": [],
   "source": [
    "# stores the data for the plot.ly plot for English tweets\n",
    "en_data = go.Data([\n",
    "            go.Bar(\n",
    "              x = en_count['emoji'],\n",
    "              y = en_count['count'],\n",
    "        )])"
   ]
  },
  {
   "cell_type": "code",
   "execution_count": 6,
   "metadata": {},
   "outputs": [],
   "source": [
    "# stores info about the plot layout for English tweets\n",
    "en_layout = go.Layout(\n",
    "    xaxis=dict(\n",
    "        title='Emoji',\n",
    "        showgrid=False,\n",
    "        showticklabels=True,\n",
    "        dtick=1\n",
    "    ),\n",
    "        yaxis=dict(\n",
    "        title='# of Tweets',\n",
    "        showgrid=True,\n",
    "        showticklabels=True,\n",
    "    ),\n",
    "    title = 'Distribution of English Tweets per Emoji Category'\n",
    ")"
   ]
  },
  {
   "cell_type": "code",
   "execution_count": 7,
   "metadata": {},
   "outputs": [
    {
     "data": {
      "application/vnd.plotly.v1+json": {
       "data": [
        {
         "type": "bar",
         "x": [
          "❤️",
          "😍",
          "😂",
          "💕",
          "🔥",
          "😊",
          "😎",
          "✨",
          "💙",
          "😘",
          "📷",
          "🇺🇸",
          "☀️",
          "💜",
          "😉",
          "💯",
          "😁",
          "🌲",
          "📸",
          "😜"
         ],
         "y": [
          106466,
          51327,
          50436,
          27067,
          24426,
          23112,
          21118,
          18162,
          16846,
          15985,
          15947,
          15182,
          13717,
          12839,
          13359,
          13264,
          12958,
          12714,
          13142,
          12197
         ]
        }
       ],
       "layout": {
        "title": "Distribution of English Tweets per Emoji Category",
        "xaxis": {
         "dtick": 1,
         "showgrid": false,
         "showticklabels": true,
         "title": "Emoji"
        },
        "yaxis": {
         "showgrid": true,
         "showticklabels": true,
         "title": "# of Tweets"
        }
       }
      },
      "text/html": [
       "<div id=\"082989d7-ddd8-46e4-939e-513ef1dc10a4\" style=\"height: 525px; width: 100%;\" class=\"plotly-graph-div\"></div><script type=\"text/javascript\">require([\"plotly\"], function(Plotly) { window.PLOTLYENV=window.PLOTLYENV || {};window.PLOTLYENV.BASE_URL=\"https://plot.ly\";Plotly.newPlot(\"082989d7-ddd8-46e4-939e-513ef1dc10a4\", [{\"type\": \"bar\", \"x\": [\"\\u2764\\ufe0f\", \"\\ud83d\\ude0d\", \"\\ud83d\\ude02\", \"\\ud83d\\udc95\", \"\\ud83d\\udd25\", \"\\ud83d\\ude0a\", \"\\ud83d\\ude0e\", \"\\u2728\", \"\\ud83d\\udc99\", \"\\ud83d\\ude18\", \"\\ud83d\\udcf7\", \"\\ud83c\\uddfa\\ud83c\\uddf8\", \"\\u2600\\ufe0f\", \"\\ud83d\\udc9c\", \"\\ud83d\\ude09\", \"\\ud83d\\udcaf\", \"\\ud83d\\ude01\", \"\\ud83c\\udf32\", \"\\ud83d\\udcf8\", \"\\ud83d\\ude1c\"], \"y\": [106466, 51327, 50436, 27067, 24426, 23112, 21118, 18162, 16846, 15985, 15947, 15182, 13717, 12839, 13359, 13264, 12958, 12714, 13142, 12197]}], {\"xaxis\": {\"title\": \"Emoji\", \"showgrid\": false, \"showticklabels\": true, \"dtick\": 1}, \"yaxis\": {\"title\": \"# of Tweets\", \"showgrid\": true, \"showticklabels\": true}, \"title\": \"Distribution of English Tweets per Emoji Category\"}, {\"showLink\": true, \"linkText\": \"Export to plot.ly\"})});</script>"
      ],
      "text/vnd.plotly.v1+html": [
       "<div id=\"082989d7-ddd8-46e4-939e-513ef1dc10a4\" style=\"height: 525px; width: 100%;\" class=\"plotly-graph-div\"></div><script type=\"text/javascript\">require([\"plotly\"], function(Plotly) { window.PLOTLYENV=window.PLOTLYENV || {};window.PLOTLYENV.BASE_URL=\"https://plot.ly\";Plotly.newPlot(\"082989d7-ddd8-46e4-939e-513ef1dc10a4\", [{\"type\": \"bar\", \"x\": [\"\\u2764\\ufe0f\", \"\\ud83d\\ude0d\", \"\\ud83d\\ude02\", \"\\ud83d\\udc95\", \"\\ud83d\\udd25\", \"\\ud83d\\ude0a\", \"\\ud83d\\ude0e\", \"\\u2728\", \"\\ud83d\\udc99\", \"\\ud83d\\ude18\", \"\\ud83d\\udcf7\", \"\\ud83c\\uddfa\\ud83c\\uddf8\", \"\\u2600\\ufe0f\", \"\\ud83d\\udc9c\", \"\\ud83d\\ude09\", \"\\ud83d\\udcaf\", \"\\ud83d\\ude01\", \"\\ud83c\\udf32\", \"\\ud83d\\udcf8\", \"\\ud83d\\ude1c\"], \"y\": [106466, 51327, 50436, 27067, 24426, 23112, 21118, 18162, 16846, 15985, 15947, 15182, 13717, 12839, 13359, 13264, 12958, 12714, 13142, 12197]}], {\"xaxis\": {\"title\": \"Emoji\", \"showgrid\": false, \"showticklabels\": true, \"dtick\": 1}, \"yaxis\": {\"title\": \"# of Tweets\", \"showgrid\": true, \"showticklabels\": true}, \"title\": \"Distribution of English Tweets per Emoji Category\"}, {\"showLink\": true, \"linkText\": \"Export to plot.ly\"})});</script>"
      ]
     },
     "metadata": {},
     "output_type": "display_data"
    }
   ],
   "source": [
    "en_fig = go.Figure(data=en_data,layout=en_layout)\n",
    "plotly.offline.iplot(en_fig)\n",
    "# en_count.iplot(kind = 'bar', yTitle = '# of Tweets', title = 'Distribution of English Tweets per Emoji Category')"
   ]
  },
  {
   "cell_type": "markdown",
   "metadata": {},
   "source": [
    "# Spanish Distributions"
   ]
  },
  {
   "cell_type": "code",
   "execution_count": 8,
   "metadata": {
    "collapsed": true
   },
   "outputs": [],
   "source": [
    "# loads the Spanish tweet data and gets total counts per emoji\n",
    "es_labels = pd.read_table('../data/es.labels')\n",
    "es_labels.columns = ['count']\n",
    "es_count = (es_labels['count'].value_counts()).sort_index()"
   ]
  },
  {
   "cell_type": "code",
   "execution_count": 9,
   "metadata": {},
   "outputs": [
    {
     "data": {
      "text/html": [
       "<div>\n",
       "<style scoped>\n",
       "    .dataframe tbody tr th:only-of-type {\n",
       "        vertical-align: middle;\n",
       "    }\n",
       "\n",
       "    .dataframe tbody tr th {\n",
       "        vertical-align: top;\n",
       "    }\n",
       "\n",
       "    .dataframe thead th {\n",
       "        text-align: right;\n",
       "    }\n",
       "</style>\n",
       "<table border=\"1\" class=\"dataframe\">\n",
       "  <thead>\n",
       "    <tr style=\"text-align: right;\">\n",
       "      <th></th>\n",
       "      <th>emoji</th>\n",
       "      <th>count</th>\n",
       "    </tr>\n",
       "  </thead>\n",
       "  <tbody>\n",
       "    <tr>\n",
       "      <th>0</th>\n",
       "      <td>❤️</td>\n",
       "      <td>19682</td>\n",
       "    </tr>\n",
       "    <tr>\n",
       "      <th>1</th>\n",
       "      <td>😍</td>\n",
       "      <td>13505</td>\n",
       "    </tr>\n",
       "    <tr>\n",
       "      <th>2</th>\n",
       "      <td>😂</td>\n",
       "      <td>9253</td>\n",
       "    </tr>\n",
       "    <tr>\n",
       "      <th>3</th>\n",
       "      <td>💕</td>\n",
       "      <td>6769</td>\n",
       "    </tr>\n",
       "    <tr>\n",
       "      <th>4</th>\n",
       "      <td>😊</td>\n",
       "      <td>6444</td>\n",
       "    </tr>\n",
       "    <tr>\n",
       "      <th>5</th>\n",
       "      <td>😘</td>\n",
       "      <td>4387</td>\n",
       "    </tr>\n",
       "    <tr>\n",
       "      <th>6</th>\n",
       "      <td>💪</td>\n",
       "      <td>3833</td>\n",
       "    </tr>\n",
       "    <tr>\n",
       "      <th>7</th>\n",
       "      <td>😉</td>\n",
       "      <td>3651</td>\n",
       "    </tr>\n",
       "    <tr>\n",
       "      <th>8</th>\n",
       "      <td>👌</td>\n",
       "      <td>3501</td>\n",
       "    </tr>\n",
       "    <tr>\n",
       "      <th>9</th>\n",
       "      <td>🇪🇸</td>\n",
       "      <td>3370</td>\n",
       "    </tr>\n",
       "    <tr>\n",
       "      <th>10</th>\n",
       "      <td>😎</td>\n",
       "      <td>3125</td>\n",
       "    </tr>\n",
       "    <tr>\n",
       "      <th>11</th>\n",
       "      <td>💙</td>\n",
       "      <td>2907</td>\n",
       "    </tr>\n",
       "    <tr>\n",
       "      <th>12</th>\n",
       "      <td>💜</td>\n",
       "      <td>2786</td>\n",
       "    </tr>\n",
       "    <tr>\n",
       "      <th>13</th>\n",
       "      <td>😜</td>\n",
       "      <td>2694</td>\n",
       "    </tr>\n",
       "    <tr>\n",
       "      <th>14</th>\n",
       "      <td>💞</td>\n",
       "      <td>2613</td>\n",
       "    </tr>\n",
       "    <tr>\n",
       "      <th>15</th>\n",
       "      <td>✨</td>\n",
       "      <td>2537</td>\n",
       "    </tr>\n",
       "    <tr>\n",
       "      <th>16</th>\n",
       "      <td>🎶</td>\n",
       "      <td>2583</td>\n",
       "    </tr>\n",
       "    <tr>\n",
       "      <th>17</th>\n",
       "      <td>💘</td>\n",
       "      <td>2508</td>\n",
       "    </tr>\n",
       "    <tr>\n",
       "      <th>18</th>\n",
       "      <td>😁</td>\n",
       "      <td>2534</td>\n",
       "    </tr>\n",
       "  </tbody>\n",
       "</table>\n",
       "</div>"
      ],
      "text/plain": [
       "   emoji  count\n",
       "0     ❤️  19682\n",
       "1      😍  13505\n",
       "2      😂   9253\n",
       "3      💕   6769\n",
       "4      😊   6444\n",
       "5      😘   4387\n",
       "6      💪   3833\n",
       "7      😉   3651\n",
       "8      👌   3501\n",
       "9     🇪🇸   3370\n",
       "10     😎   3125\n",
       "11     💙   2907\n",
       "12     💜   2786\n",
       "13     😜   2694\n",
       "14     💞   2613\n",
       "15     ✨   2537\n",
       "16     🎶   2583\n",
       "17     💘   2508\n",
       "18     😁   2534"
      ]
     },
     "execution_count": 9,
     "metadata": {},
     "output_type": "execute_result"
    }
   ],
   "source": [
    "# list of top *19* emojis for Spanish tweets\n",
    "# (not 20 becuase missing labels)\n",
    "es_emojis = pd.Series(['❤️','😍','😂','💕','😊','😘','💪','😉','👌','🇪🇸','😎','💙','💜','😜','💞','✨','🎶','💘','😁'], name='emoji')\n",
    "es_count = pd.concat([es_emojis, es_count], axis=1)\n",
    "es_count"
   ]
  },
  {
   "cell_type": "code",
   "execution_count": 10,
   "metadata": {
    "collapsed": true
   },
   "outputs": [],
   "source": [
    "# stores the data for the plot.ly plot for Spanish tweets\n",
    "es_data  = go.Data([\n",
    "            go.Bar(\n",
    "              x = es_count['emoji'],\n",
    "              y = es_count['count'],\n",
    "        )])"
   ]
  },
  {
   "cell_type": "code",
   "execution_count": 11,
   "metadata": {
    "collapsed": true
   },
   "outputs": [],
   "source": [
    "# stores info about the plot layout for Spanish tweets\n",
    "# (create a function for this?)\n",
    "es_layout = go.Layout(\n",
    "    xaxis=dict(\n",
    "    title='Emoji',\n",
    "    showgrid=False,\n",
    "    showticklabels=True,\n",
    "    dtick=1\n",
    "    ),\n",
    "    yaxis=dict(\n",
    "    title='# of Tweets',\n",
    "    showgrid=True,\n",
    "    showticklabels=True,\n",
    "    ),\n",
    "    title = 'Distribution of Spanish Tweets per Emoji Category'\n",
    ")"
   ]
  },
  {
   "cell_type": "code",
   "execution_count": 12,
   "metadata": {},
   "outputs": [
    {
     "data": {
      "application/vnd.plotly.v1+json": {
       "data": [
        {
         "type": "bar",
         "x": [
          "❤️",
          "😍",
          "😂",
          "💕",
          "😊",
          "😘",
          "💪",
          "😉",
          "👌",
          "🇪🇸",
          "😎",
          "💙",
          "💜",
          "😜",
          "💞",
          "✨",
          "🎶",
          "💘",
          "😁"
         ],
         "y": [
          19682,
          13505,
          9253,
          6769,
          6444,
          4387,
          3833,
          3651,
          3501,
          3370,
          3125,
          2907,
          2786,
          2694,
          2613,
          2537,
          2583,
          2508,
          2534
         ]
        }
       ],
       "layout": {
        "title": "Distribution of Spanish Tweets per Emoji Category",
        "xaxis": {
         "dtick": 1,
         "showgrid": false,
         "showticklabels": true,
         "title": "Emoji"
        },
        "yaxis": {
         "showgrid": true,
         "showticklabels": true,
         "title": "# of Tweets"
        }
       }
      },
      "text/html": [
       "<div id=\"0ae2faff-c672-4da4-a867-64eb3194409d\" style=\"height: 525px; width: 100%;\" class=\"plotly-graph-div\"></div><script type=\"text/javascript\">require([\"plotly\"], function(Plotly) { window.PLOTLYENV=window.PLOTLYENV || {};window.PLOTLYENV.BASE_URL=\"https://plot.ly\";Plotly.newPlot(\"0ae2faff-c672-4da4-a867-64eb3194409d\", [{\"type\": \"bar\", \"x\": [\"\\u2764\\ufe0f\", \"\\ud83d\\ude0d\", \"\\ud83d\\ude02\", \"\\ud83d\\udc95\", \"\\ud83d\\ude0a\", \"\\ud83d\\ude18\", \"\\ud83d\\udcaa\", \"\\ud83d\\ude09\", \"\\ud83d\\udc4c\", \"\\ud83c\\uddea\\ud83c\\uddf8\", \"\\ud83d\\ude0e\", \"\\ud83d\\udc99\", \"\\ud83d\\udc9c\", \"\\ud83d\\ude1c\", \"\\ud83d\\udc9e\", \"\\u2728\", \"\\ud83c\\udfb6\", \"\\ud83d\\udc98\", \"\\ud83d\\ude01\"], \"y\": [19682, 13505, 9253, 6769, 6444, 4387, 3833, 3651, 3501, 3370, 3125, 2907, 2786, 2694, 2613, 2537, 2583, 2508, 2534]}], {\"xaxis\": {\"title\": \"Emoji\", \"showgrid\": false, \"showticklabels\": true, \"dtick\": 1}, \"yaxis\": {\"title\": \"# of Tweets\", \"showgrid\": true, \"showticklabels\": true}, \"title\": \"Distribution of Spanish Tweets per Emoji Category\"}, {\"showLink\": true, \"linkText\": \"Export to plot.ly\"})});</script>"
      ],
      "text/vnd.plotly.v1+html": [
       "<div id=\"0ae2faff-c672-4da4-a867-64eb3194409d\" style=\"height: 525px; width: 100%;\" class=\"plotly-graph-div\"></div><script type=\"text/javascript\">require([\"plotly\"], function(Plotly) { window.PLOTLYENV=window.PLOTLYENV || {};window.PLOTLYENV.BASE_URL=\"https://plot.ly\";Plotly.newPlot(\"0ae2faff-c672-4da4-a867-64eb3194409d\", [{\"type\": \"bar\", \"x\": [\"\\u2764\\ufe0f\", \"\\ud83d\\ude0d\", \"\\ud83d\\ude02\", \"\\ud83d\\udc95\", \"\\ud83d\\ude0a\", \"\\ud83d\\ude18\", \"\\ud83d\\udcaa\", \"\\ud83d\\ude09\", \"\\ud83d\\udc4c\", \"\\ud83c\\uddea\\ud83c\\uddf8\", \"\\ud83d\\ude0e\", \"\\ud83d\\udc99\", \"\\ud83d\\udc9c\", \"\\ud83d\\ude1c\", \"\\ud83d\\udc9e\", \"\\u2728\", \"\\ud83c\\udfb6\", \"\\ud83d\\udc98\", \"\\ud83d\\ude01\"], \"y\": [19682, 13505, 9253, 6769, 6444, 4387, 3833, 3651, 3501, 3370, 3125, 2907, 2786, 2694, 2613, 2537, 2583, 2508, 2534]}], {\"xaxis\": {\"title\": \"Emoji\", \"showgrid\": false, \"showticklabels\": true, \"dtick\": 1}, \"yaxis\": {\"title\": \"# of Tweets\", \"showgrid\": true, \"showticklabels\": true}, \"title\": \"Distribution of Spanish Tweets per Emoji Category\"}, {\"showLink\": true, \"linkText\": \"Export to plot.ly\"})});</script>"
      ]
     },
     "metadata": {},
     "output_type": "display_data"
    }
   ],
   "source": [
    "es_fig = go.Figure(data=es_data,layout=es_layout)\n",
    "plotly.offline.iplot(es_fig)\n",
    "# es_count.iplot(kind ='bar', yTitle = 'Number of Tweets', title ='Distribution of Spanish Tweets per Emoji Category')"
   ]
  }
 ],
 "metadata": {
  "kernelspec": {
   "display_name": "emojiprediction",
   "language": "python",
   "name": "emojiprediction"
  },
  "language_info": {
   "codemirror_mode": {
    "name": "ipython",
    "version": 3
   },
   "file_extension": ".py",
   "mimetype": "text/x-python",
   "name": "python",
   "nbconvert_exporter": "python",
   "pygments_lexer": "ipython3",
   "version": "3.6.3"
  }
 },
 "nbformat": 4,
 "nbformat_minor": 2
}
