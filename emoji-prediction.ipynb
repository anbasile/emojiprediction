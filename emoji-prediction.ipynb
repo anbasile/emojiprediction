{
 "cells": [
  {
   "cell_type": "code",
   "execution_count": 18,
   "metadata": {},
   "outputs": [],
   "source": [
    "from sklearn.model_selection import cross_val_score\n",
    "import numpy as np\n",
    "from collections import Counter"
   ]
  },
  {
   "cell_type": "code",
   "execution_count": 9,
   "metadata": {},
   "outputs": [],
   "source": [
    "# load dataset\n",
    "with open('data/trial_semeval2018task2/es_trial.text') as f: X_es = f.readlines()\n",
    "with open('data/trial_semeval2018task2/us_trial.text') as f: X_us = f.readlines()\n",
    "with open('data/trial_semeval2018task2/es_trial.labels') as f: Y_es = f.readlines()\n",
    "with open('data/trial_semeval2018task2/us_trial.labels') as f: Y_us = f.readlines()"
   ]
  },
  {
   "cell_type": "code",
   "execution_count": 25,
   "metadata": {},
   "outputs": [],
   "source": [
    "# make sure X = y\n",
    "assert len(X_es) == len(Y_es)\n",
    "assert len(X_us) == len(Y_us)"
   ]
  },
  {
   "cell_type": "code",
   "execution_count": 26,
   "metadata": {},
   "outputs": [],
   "source": [
    "# shuffle the dataset\n",
    "np.random.seed = 1989\n",
    "np.random.shuffle(Y_es)\n",
    "np.random.seed = 1989\n",
    "np.random.shuffle(X_es)"
   ]
  },
  {
   "cell_type": "code",
   "execution_count": 39,
   "metadata": {},
   "outputs": [
    {
     "data": {
      "text/plain": [
       "array([ 'No road trip is complete without my @user from a special friend #batonrouge #travistritt…\\n',\n",
       "       'Time to make the donoughts! That LA light and livin turns me out @ Los Angeles, California\\n',\n",
       "       \"Such friends who hadn't seen each other in a while. It was great #Slc #Utah #801 #bar #fun…\\n\",\n",
       "       \"Couldn't have said it better myself. ======&gt; anamidence:Today my sister and I went to…\\n\",\n",
       "       'Congrats go out to Saturday Night Live.\\n',\n",
       "       'Good times with my girl.. Happy 29th @ Fernandina Bch Fla\\n',\n",
       "       'The news talking about this was a moral victory for OKC #SodiumChloride\\n',\n",
       "       'Lol. : @user @ Bottom Lounge\\n',\n",
       "       '@user This Cubs fan will always say Hi to you #Cubs #Bears @user\\n',\n",
       "       \"I did dis @ Joseph's College Cosmetology\\n\",\n",
       "       \"I didn't think I looked that bad usually @ DeVault IU Alumni…\\n\",\n",
       "       'Goodnight New York, we remember @ Pier59 Studios\\n',\n",
       "       'We had to do it after the win. Check out the jig #aamufootball #mannequinchallange @ Jackson…\\n',\n",
       "       'Beacon Hill has my#ootd @ Beacon Hill, Boston\\n',\n",
       "       \"It's the most wonderful time of the year @ Secret Forest Tree Farm\\n\",\n",
       "       'Spotted this beauty in Ross Park today @ Lamborghini Mercy\\n',\n",
       "       'Little date. (@ Starbucks in Huntsville, AL)\\n',\n",
       "       '@ The White House\\n',\n",
       "       \"It ain't a party without the dj dropping that @user #1AMVibes 1/3 @ Kinfolk\\n\",\n",
       "       \"It's KEY day for another happy home buyer!! I have a lovely surprise for her... #realestate…\\n\",\n",
       "       'Counting the days till Denver\\n',\n",
       "       '3am rooftop smoking, minding our business. @ Embassy Suites Orlando International Drive\\n',\n",
       "       'Nyansapo: wisdom, intelligence, ingenuity, and patience #tattoo #tattedbychannelle5 #adinkra @user\\n',\n",
       "       'Boba and Bubbles night! : ambalikauma @ San Jose State University\\n',\n",
       "       'A squad that gets fake tats together is the squad for me @ Hanover College\\n',\n",
       "       'Got these sent to my table from an \"Admirer\" through the #GiftCaddies app! Download the app…\\n',\n",
       "       'Happy 46th Anniversary to the two coolest cats I know! #momanddad #anniversary #yaboth @user\\n',\n",
       "       'This dog is too human @ Madison, Wisconsin\\n',\n",
       "       'This woman wins best Christmas card @ Escape From New York Pizza\\n',\n",
       "       \"Humpday bonus round with my beautiful friend Macie! She's ..Model: macsilv Photographer…\\n\",\n",
       "       \"Huey is home!!! (@ Cameli's Gourmet Pizza Joint in Atlanta, GA)\\n\",\n",
       "       'Study in light and texture #Christmas2016 @ Nassau, Bahamas Islands\\n',\n",
       "       'Just the 3 of us #familyfirst #disneyland #twins #mygirls @user\\n',\n",
       "       \"Our 12 Days of Christmas specials start today!Today's special is a 12 oz Tub of frosting- Buy…\\n\",\n",
       "       'So much fun today#piervillage #longbranch #longbranchbeach #longbranchnj #summer #august @user\\n',\n",
       "       '@user @user thank u for the GUD vibrations @ Rams…\\n',\n",
       "       'Tonight is going to be | 6:30 pm Leaders Meeting | 7 pm Party Time #MyCityYouth @ C3 Church\\n',\n",
       "       'Happy #MCM to my favorite Jersey road trip buddies also s/o to…\\n',\n",
       "       'My #SonShine #squad #booboo #selfie @ Dallas, Texas\\n',\n",
       "       'insanely beautiful inside &amp; out! #ladygaga #ladygagafan #oscarssowhite #oscars #oscars2016…\\n',\n",
       "       'Auto Show was a success today! @ North American International…\\n',\n",
       "       'My boy got us a necklace #longdistancerelationships #mylove #iloveyou #iknow #Starwars #mybaby…\\n',\n",
       "       'I was my instructors makeup model today. @ Capri College Waterloo\\n',\n",
       "       'drdre will beat abitch down @ Detroit\\n',\n",
       "       'Post #sb50 selfie with #mvp @user @ Kyle Field\\n',\n",
       "       \"Even though we lost, I'm glad I still got to spend time with my bestfriends #wareagleanyways…\\n\",\n",
       "       'Another day, another wedding with the best @ Grace Valley Farm\\n',\n",
       "       'Hold a true friend with both hands. ~ African proverb #promszn …\\n',\n",
       "       'playing at @user tonight - doors at 8 - by my fellow bad girl @user at…\\n',\n",
       "       \"Tis' the season @ New York, New York\\n\",\n",
       "       '#GDLFashion @user @user grab their 12th WIN of the season! #TENvsNE : Charles Krupa/AP @ New…\\n',\n",
       "       'merry christmas eve from your fav sisters @ Lubbock, Texas\\n',\n",
       "       '@ Blue Ivory\\n',\n",
       "       \"When it comes to games, some of us just don't get it #headsup #kitten @user #June2013 @user\\n\",\n",
       "       'Happy Holidays you guys @ Beavercreek, Ohio\\n',\n",
       "       '️ @ French Camp, California\\n',\n",
       "       \"Bro went to a block party in Dallas crazy fun Ps I'm drunk af\\n\",\n",
       "       'Love my Texan @ Tarleton State University\\n',\n",
       "       'Turning 20 in 2 days and still get carded at the movies @ Allendale, Michigan\\n',\n",
       "       'When in traffic, enjoy the view :) #annarborsunrise #loveyourlife @ Gallup Park\\n',\n",
       "       'Going #guerilla in the jungles of Ventura Blvd #onset #bts #cinematography by @user @user\\n',\n",
       "       'appreciation post for my fav sophomore, luv ya kt @ Silver Lake Regional High School\\n',\n",
       "       \"Gosh isn't she beautiful @ Bridgeway Academy\\n\",\n",
       "       'Woke up this way!! @ Washington Village Apartments\\n',\n",
       "       'friends make everything better @ Putt Putt Fun Center &amp; Go Carts\\n',\n",
       "       'So good to be home. @user #fearless #fearlessla #fearlesschurch #church #easter…\\n',\n",
       "       's/o 2 @user @ House of Blues Houston\\n',\n",
       "       'Nothing to add except tagging people. @ Chelsea Community Hospital Head Pain Unit\\n',\n",
       "       'Sunset #FL @ The Ritz-Carlton Beach Club\\n',\n",
       "       '@user just killed her photoshoot. Make sure to follow this babe @ Virginia Beach,…\\n',\n",
       "       'thanks to everyone who made my sixteen the sweetest (obvi had to…\\n',\n",
       "       'hey i u @ City of Thomasville\\n',\n",
       "       \"Happy Father's Day to my wonderful husband , my father, and my brothers Happy fathers day…\\n\",\n",
       "       \".I am very fawn-d of you. @ O'Fallon, Illinois\\n\",\n",
       "       \"Always stay by my side ya ejakk please don't leave me even though the situation is getting…\\n\",\n",
       "       'A loving heart is the truest wisdom smiljana13 #love #soulmate…\\n',\n",
       "       'When you are #1 in the state and #23 in the nation @ Carolina Forest High School\\n',\n",
       "       'Just be here with me.. #slflmoline #slfl @ Moline, Illinois\\n',\n",
       "       'Getting shot #bts today with jimmyrockandroll joyhellinga and lilymanzano_directorofficial…\\n',\n",
       "       'Great way to end the weekend with my best friend! Love you Rayn @ King…\\n',\n",
       "       \"When you're done ur exams and decide to make a master piece @ Glendon Campus, York University\\n\",\n",
       "       '️ @ Dallas, Texas\\n',\n",
       "       'Our between-class beach trips are coming to an end... Three more days @ The Beach on Palm…\\n',\n",
       "       'This just went down...it was worth it. There was orange zest in the sherbet. #sorrynotsorry…\\n',\n",
       "       'BB @ Washington, District of Columbia\\n',\n",
       "       '#NationalGingerbreadDay (at @user in New York, NY)\\n',\n",
       "       'my girl is derby doll of the week #proudmom @ El Campo High School\\n',\n",
       "       'Doing what I do best, busting skeet @ Etowah Valley Sporting Clays\\n',\n",
       "       'Another fun day with these beauties! #hair #girlday #family #lovetheseladies #lookout @ Salon…\\n',\n",
       "       \"Happy birthday to my bff here's a picture of us being all VIP and shit in the Drake Lounge @user\\n\",\n",
       "       'designsbyaliciap #designsbyaliciap #aliciap #aliciapiller #newarrivals #newarrivalsdaily…\\n',\n",
       "       '@ Magnolia Nightclub\\n',\n",
       "       'Thankyou reynamarieee_ for driving across the world to do your gorg hair …\\n',\n",
       "       '\"@JamFxmous: Only thing I ever wanted was somebody that wanted me much as I wanted them the way a relationship should be \"\\n',\n",
       "       'Kiss my grits Last night in Savannah! Heading to a new city tomorrow. #savannah #georgia #ootd…\\n',\n",
       "       'They love me out here! #paparazziLife @ Oakland-SF Bay Bridge\\n',\n",
       "       'Every Minnie needs her Mickey @ Walt Disney World\\n',\n",
       "       'Good Morning To You @ Bladensburg, Maryland\\n',\n",
       "       'My #beautiful #wife #captianamerica @ Howard Beach-Crossbay\\n',\n",
       "       'Workity work work work ! Covering at the bar tonight. COME SEE ME. #bocaraton #holloways…\\n'],\n",
       "      dtype='<U147')"
      ]
     },
     "execution_count": 39,
     "metadata": {},
     "output_type": "execute_result"
    }
   ],
   "source": [
    "# take a look at the dataset\n",
    "np.random.choice(X_us, 100, replace=False)"
   ]
  }
 ],
 "metadata": {
  "kernelspec": {
   "display_name": "appliedml",
   "language": "python",
   "name": "appliedml"
  },
  "language_info": {
   "codemirror_mode": {
    "name": "ipython",
    "version": 3
   },
   "file_extension": ".py",
   "mimetype": "text/x-python",
   "name": "python",
   "nbconvert_exporter": "python",
   "pygments_lexer": "ipython3",
   "version": "3.6.3"
  }
 },
 "nbformat": 4,
 "nbformat_minor": 2
}
