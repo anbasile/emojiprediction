{
 "cells": [
  {
   "cell_type": "code",
   "execution_count": 10,
   "metadata": {},
   "outputs": [],
   "source": [
    "from sklearn.pipeline import Pipeline\n",
    "from sklearn.feature_extraction.text import TfidfVectorizer\n",
    "from sklearn.naive_bayes import MultinomialNB\n",
    "from sklearn.svm import LinearSVC\n",
    "from sklearn.model_selection import cross_val_score\n",
    "import numpy as np\n",
    "from collections import Counter"
   ]
  },
  {
   "cell_type": "code",
   "execution_count": 2,
   "metadata": {},
   "outputs": [],
   "source": [
    "# load dataset\n",
    "with open('data/tweets/train_semeval2018task2/crawler/data/tweet_by_ID_10_11_2017__09_43_18.txt.text') as f: \n",
    "    X_es = f.readlines()\n",
    "with open('data/tweets/train_semeval2018task2/crawler/data/tweet_by_ID_10_11_2017__09_43_18.txt.labels') as f: \n",
    "    Y_es = f.readlines()\n",
    "with open('data/tweets/train_semeval2018task2/crawler/data/tweet_by_ID_09_11_2017__02_29_28.txt.text') as f: \n",
    "    X_us = f.readlines()\n",
    "with open('data/tweets/train_semeval2018task2/crawler/data/tweet_by_ID_09_11_2017__02_29_28.txt.labels') as f: \n",
    "    Y_us = f.readlines()"
   ]
  },
  {
   "cell_type": "code",
   "execution_count": 3,
   "metadata": {},
   "outputs": [
    {
     "name": "stdout",
     "output_type": "stream",
     "text": [
      "98683\n",
      "490265\n"
     ]
    }
   ],
   "source": [
    "# make sure X = y\n",
    "assert len(X_es) == len(Y_es)\n",
    "assert len(X_us) == len(Y_us)\n",
    "X_es = [x.strip() for x in X_es]\n",
    "Y_es = [int(x.strip()) for x in Y_es]\n",
    "X_us = [x.strip() for x in X_us]\n",
    "Y_us = [int(x.strip()) for x in Y_us]\n",
    "print(len(X_es))\n",
    "print(len(X_us))"
   ]
  },
  {
   "cell_type": "code",
   "execution_count": 7,
   "metadata": {},
   "outputs": [],
   "source": [
    "# shuffle the dataset\n",
    "np.random.seed(1989)\n",
    "np.random.shuffle(X_es)\n",
    "np.random.seed(1989)\n",
    "np.random.shuffle(Y_es)\n",
    "np.random.seed(1989)\n",
    "np.random.shuffle(X_us)\n",
    "np.random.seed(1989)\n",
    "np.random.shuffle(Y_us)"
   ]
  },
  {
   "cell_type": "code",
   "execution_count": 8,
   "metadata": {},
   "outputs": [
    {
     "name": "stdout",
     "output_type": "stream",
     "text": [
      "@user Haha! Yep. Bearcat loves kids too. Also extremely loving and cuddly. I feel like the strays need the most love honestly ️\n",
      "Enhorabuena pequeña mamá por segunda vez! @ Tejeda de Tiétar\n",
      "0\n",
      "1\n"
     ]
    }
   ],
   "source": [
    "# take a look at the dataset\n",
    "print(X_us[0])\n",
    "print(X_es[0])\n",
    "print(Y_us[0])\n",
    "print(Y_es[0])"
   ]
  },
  {
   "cell_type": "code",
   "execution_count": 11,
   "metadata": {},
   "outputs": [
    {
     "data": {
      "text/plain": [
       "array([ 0.33393839,  0.33468285,  0.33348292,  0.33618228,  0.33255477])"
      ]
     },
     "execution_count": 11,
     "metadata": {},
     "output_type": "execute_result"
    }
   ],
   "source": [
    "pipe = Pipeline([('tfidf', TfidfVectorizer()),\n",
    "                 ('clf', LinearSVC())])\n",
    "\n",
    "cross_val_score(pipe, X_us, Y_us, cv=5)"
   ]
  },
  {
   "cell_type": "code",
   "execution_count": 12,
   "metadata": {},
   "outputs": [
    {
     "data": {
      "text/plain": [
       "array([ 0.24824857,  0.24882725,  0.24888322,  0.24944925,  0.24829668])"
      ]
     },
     "execution_count": 12,
     "metadata": {},
     "output_type": "execute_result"
    }
   ],
   "source": [
    "pipe = Pipeline([('tfidf', TfidfVectorizer()),\n",
    "                 ('clf', MultinomialNB())])\n",
    "\n",
    "cross_val_score(pipe, X_us, Y_us, cv=5)"
   ]
  }
 ],
 "metadata": {
  "kernelspec": {
   "display_name": "appliedml",
   "language": "python",
   "name": "appliedml"
  },
  "language_info": {
   "codemirror_mode": {
    "name": "ipython",
    "version": 3
   },
   "file_extension": ".py",
   "mimetype": "text/x-python",
   "name": "python",
   "nbconvert_exporter": "python",
   "pygments_lexer": "ipython3",
   "version": "3.6.3"
  }
 },
 "nbformat": 4,
 "nbformat_minor": 2
}
