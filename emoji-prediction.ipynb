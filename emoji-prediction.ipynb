{
 "cells": [
  {
   "cell_type": "code",
   "execution_count": 1,
   "metadata": {},
   "outputs": [],
   "source": [
    "from sklearn.pipeline import Pipeline\n",
    "from sklearn.feature_extraction.text import TfidfVectorizer\n",
    "from sklearn.naive_bayes import MultinomialNB\n",
    "from sklearn.model_selection import cross_val_score\n",
    "import numpy as np\n",
    "from collections import Counter"
   ]
  },
  {
   "cell_type": "code",
   "execution_count": 2,
   "metadata": {},
   "outputs": [],
   "source": [
    "# load dataset\n",
    "with open('data/trial_semeval2018task2/es_trial.text') as f: X_es = f.readlines()\n",
    "with open('data/trial_semeval2018task2/us_trial.text') as f: X_us = f.readlines()\n",
    "with open('data/trial_semeval2018task2/es_trial.labels') as f: Y_es = f.readlines()\n",
    "with open('data/trial_semeval2018task2/us_trial.labels') as f: Y_us = f.readlines()"
   ]
  },
  {
   "cell_type": "code",
   "execution_count": 3,
   "metadata": {},
   "outputs": [
    {
     "name": "stdout",
     "output_type": "stream",
     "text": [
      "10000\n",
      "50000\n"
     ]
    }
   ],
   "source": [
    "# make sure X = y\n",
    "assert len(X_es) == len(Y_es)\n",
    "assert len(X_us) == len(Y_us)\n",
    "X_es = [x.strip() for x in X_es]\n",
    "Y_es = [int(x.strip()) for x in Y_es]\n",
    "X_us = [x.strip() for x in X_us]\n",
    "Y_us = [int(x.strip()) for x in Y_us]\n",
    "print(len(X_es))\n",
    "print(len(X_us))"
   ]
  },
  {
   "cell_type": "code",
   "execution_count": 10,
   "metadata": {},
   "outputs": [],
   "source": [
    "# shuffle the dataset\n",
    "np.random.seed(1989)\n",
    "np.random.shuffle(X_es)\n",
    "np.random.seed(1989)\n",
    "np.random.shuffle(Y_es)\n",
    "np.random.seed(1989)\n",
    "np.random.shuffle(X_us)\n",
    "np.random.seed(1989)\n",
    "np.random.shuffle(Y_us)"
   ]
  },
  {
   "cell_type": "code",
   "execution_count": 5,
   "metadata": {},
   "outputs": [],
   "source": [
    "# take a look at the dataset\n"
   ]
  },
  {
   "cell_type": "code",
   "execution_count": 13,
   "metadata": {},
   "outputs": [
    {
     "data": {
      "text/plain": [
       "array([ 0.21490658,  0.21513546,  0.21522152,  0.21524305,  0.21539385])"
      ]
     },
     "execution_count": 13,
     "metadata": {},
     "output_type": "execute_result"
    }
   ],
   "source": [
    "pipe = Pipeline([('tfidf', TfidfVectorizer(ngram_range=(1,3))),\n",
    "                 ('clf', MultinomialNB())])\n",
    "\n",
    "cross_val_score(pipe, X_us, Y_us, cv=5)"
   ]
  }
 ],
 "metadata": {
  "kernelspec": {
   "display_name": "appliedml",
   "language": "python",
   "name": "appliedml"
  },
  "language_info": {
   "codemirror_mode": {
    "name": "ipython",
    "version": 3
   },
   "file_extension": ".py",
   "mimetype": "text/x-python",
   "name": "python",
   "nbconvert_exporter": "python",
   "pygments_lexer": "ipython3",
   "version": "3.6.3"
  }
 },
 "nbformat": 4,
 "nbformat_minor": 2
}
