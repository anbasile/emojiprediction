{
 "cells": [
  {
   "cell_type": "code",
   "execution_count": 10,
   "metadata": {},
   "outputs": [],
   "source": [
    "from sklearn.pipeline import Pipeline\n",
    "from sklearn.feature_extraction.text import TfidfVectorizer\n",
    "from sklearn.naive_bayes import MultinomialNB\n",
    "from sklearn.svm import LinearSVC\n",
    "from sklearn.model_selection import cross_val_score\n",
    "import numpy as np\n",
    "from collections import Counter"
   ]
  },
  {
   "cell_type": "code",
   "execution_count": 2,
   "metadata": {},
   "outputs": [],
   "source": [
    "# load dataset\n",
    "with open('data/tweets/train_semeval2018task2/crawler/data/tweet_by_ID_10_11_2017__09_43_18.txt.text') as f: \n",
    "    X_es = f.readlines()\n",
    "with open('data/tweets/train_semeval2018task2/crawler/data/tweet_by_ID_10_11_2017__09_43_18.txt.labels') as f: \n",
    "    Y_es = f.readlines()\n",
    "with open('data/tweets/train_semeval2018task2/crawler/data/tweet_by_ID_09_11_2017__02_29_28.txt.text') as f: \n",
    "    X_us = f.readlines()\n",
    "with open('data/tweets/train_semeval2018task2/crawler/data/tweet_by_ID_09_11_2017__02_29_28.txt.labels') as f: \n",
    "    Y_us = f.readlines()"
   ]
  },
  {
   "cell_type": "code",
   "execution_count": 3,
   "metadata": {},
   "outputs": [
    {
     "name": "stdout",
     "output_type": "stream",
     "text": [
      "98683\n",
      "490265\n"
     ]
    }
   ],
   "source": [
    "# make sure X = y\n",
    "assert len(X_es) == len(Y_es)\n",
    "assert len(X_us) == len(Y_us)\n",
    "X_es = [x.strip() for x in X_es]\n",
    "Y_es = [int(x.strip()) for x in Y_es]\n",
    "X_us = [x.strip() for x in X_us]\n",
    "Y_us = [int(x.strip()) for x in Y_us]\n",
    "print(len(X_es))\n",
    "print(len(X_us))"
   ]
  },
  {
   "cell_type": "code",
   "execution_count": 7,
   "metadata": {},
   "outputs": [],
   "source": [
    "# shuffle the dataset\n",
    "np.random.seed(1989)\n",
    "np.random.shuffle(X_es)\n",
    "np.random.seed(1989)\n",
    "np.random.shuffle(Y_es)\n",
    "np.random.seed(1989)\n",
    "np.random.shuffle(X_us)\n",
    "np.random.seed(1989)\n",
    "np.random.shuffle(Y_us)"
   ]
  },
  {
   "cell_type": "code",
   "execution_count": 8,
   "metadata": {},
   "outputs": [
    {
     "name": "stdout",
     "output_type": "stream",
     "text": [
      "@user Haha! Yep. Bearcat loves kids too. Also extremely loving and cuddly. I feel like the strays need the most love honestly ️\n",
      "Enhorabuena pequeña mamá por segunda vez! @ Tejeda de Tiétar\n",
      "0\n",
      "1\n"
     ]
    }
   ],
   "source": [
    "# take a look at the dataset\n",
    "print(X_us[0])\n",
    "print(X_es[0])\n",
    "print(Y_us[0])\n",
    "print(Y_es[0])"
   ]
  },
  {
   "cell_type": "code",
   "execution_count": 11,
   "metadata": {},
   "outputs": [
    {
     "data": {
      "text/plain": [
       "array([ 0.33393839,  0.33468285,  0.33348292,  0.33618228,  0.33255477])"
      ]
     },
     "execution_count": 11,
     "metadata": {},
     "output_type": "execute_result"
    }
   ],
   "source": [
    "pipe = Pipeline([('tfidf', TfidfVectorizer()),\n",
    "                 ('clf', LinearSVC())])\n",
    "\n",
    "cross_val_score(pipe, X_us, Y_us, cv=5)"
   ]
  },
  {
   "cell_type": "code",
   "execution_count": 1,
   "metadata": {},
   "outputs": [
    {
     "ename": "NameError",
     "evalue": "name 'Pipeline' is not defined",
     "output_type": "error",
     "traceback": [
      "\u001b[0;31m---------------------------------------------------------------------------\u001b[0m",
      "\u001b[0;31mNameError\u001b[0m                                 Traceback (most recent call last)",
      "\u001b[0;32m<ipython-input-1-e81fae8ddc08>\u001b[0m in \u001b[0;36m<module>\u001b[0;34m()\u001b[0m\n\u001b[0;32m----> 1\u001b[0;31m pipe = Pipeline([('tfidf', TfidfVectorizer()),\n\u001b[0m\u001b[1;32m      2\u001b[0m                  ('clf', MultinomialNB())])\n\u001b[1;32m      3\u001b[0m \u001b[0;34m\u001b[0m\u001b[0m\n\u001b[1;32m      4\u001b[0m \u001b[0mcross_val_score\u001b[0m\u001b[0;34m(\u001b[0m\u001b[0mpipe\u001b[0m\u001b[0;34m,\u001b[0m \u001b[0mX_us\u001b[0m\u001b[0;34m,\u001b[0m \u001b[0mY_us\u001b[0m\u001b[0;34m,\u001b[0m \u001b[0mcv\u001b[0m\u001b[0;34m=\u001b[0m\u001b[0;36m5\u001b[0m\u001b[0;34m)\u001b[0m\u001b[0;34m\u001b[0m\u001b[0m\n",
      "\u001b[0;31mNameError\u001b[0m: name 'Pipeline' is not defined"
     ]
    }
   ],
   "source": [
    "pipe = Pipeline([('tfidf', TfidfVectorizer()),\n",
    "                 ('clf', MultinomialNB())])\n",
    "\n",
    "cross_val_score(pipe, X_us, Y_us, cv=5)"
   ]
  },
  {
   "cell_type": "code",
   "execution_count": 16,
   "metadata": {},
   "outputs": [
    {
     "data": {
      "text/plain": [
       "'🏧'"
      ]
     },
     "execution_count": 16,
     "metadata": {},
     "output_type": "execute_result"
    }
   ],
   "source": [
    "import emoji\n",
    "%matplotlib inline\n",
    "import matplotlib.pyplot as plt\n",
    "\n"
   ]
  },
  {
   "cell_type": "code",
   "execution_count": 23,
   "metadata": {},
   "outputs": [
    {
     "data": {
      "image/png": "[encoded data removed]",
      "text/plain": [
       "<matplotlib.figure.Figure at 0x7f27c9113978>"
      ]
     },
     "metadata": {},
     "output_type": "display_data"
    },
    {
     "name": "stdout",
     "output_type": "stream",
     "text": [
      "🏧\n"
     ]
    }
   ],
   "source": [
    "import numpy as np\n",
    "import matplotlib.pyplot as plt\n",
    "\n",
    "N = 5\n",
    "men_means = (20, 35, 30, 35, 27)\n",
    "men_std = (2, 3, 4, 1, 2)\n",
    "\n",
    "ind = np.arange(N)  # the x locations for the groups\n",
    "width = 0.35       # the width of the bars\n",
    "\n",
    "fig, ax = plt.subplots()\n",
    "rects1 = ax.bar(ind, men_means, width, color='r', yerr=men_std)\n",
    "\n",
    "women_means = (25, 32, 34, 20, 25)\n",
    "women_std = (3, 5, 2, 3, 3)\n",
    "rects2 = ax.bar(ind + width, women_means, width, color='y', yerr=women_std)\n",
    "\n",
    "# add some text for labels, title and axes ticks\n",
    "ax.set_ylabel('Scores')\n",
    "ax.set_title('Scores by group and gender')\n",
    "ax.set_xticks(ind + width / 2)\n",
    "emo = emoji.EMOJI_UNICODE[':ATM_sign:']\n",
    "ax.set_xticklabels((emo, 'G2', 'G3', 'G4', 'G5'))\n",
    "\n",
    "ax.legend((rects1[0], rects2[0]), ('Men', 'Women'))\n",
    "\n",
    "\n",
    "def autolabel(rects):\n",
    "    \"\"\"\n",
    "    Attach a text label above each bar displaying its height\n",
    "    \"\"\"\n",
    "    for rect in rects:\n",
    "        height = rect.get_height()\n",
    "        ax.text(rect.get_x() + rect.get_width()/2., 1.05*height,\n",
    "                '%d' % int(height),\n",
    "                ha='center', va='bottom')\n",
    "\n",
    "autolabel(rects1)\n",
    "autolabel(rects2)\n",
    "\n",
    "plt.show()\n",
    "print(emo)"
   ]
  }
 ],
 "metadata": {
  "kernelspec": {
   "display_name": "appliedml",
   "language": "python",
   "name": "appliedml"
  },
  "language_info": {
   "codemirror_mode": {
    "name": "ipython",
    "version": 3
   },
   "file_extension": ".py",
   "mimetype": "text/x-python",
   "name": "python",
   "nbconvert_exporter": "python",
   "pygments_lexer": "ipython3",
   "version": "3.6.3"
  }
 },
 "nbformat": 4,
 "nbformat_minor": 2
}
