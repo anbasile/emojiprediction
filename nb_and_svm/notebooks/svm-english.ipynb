{
 "cells": [
  {
   "cell_type": "code",
   "execution_count": 1,
   "metadata": {
    "collapsed": true
   },
   "outputs": [],
   "source": [
    "# importing the necessary packages\n",
    "\n",
    "# packages used for training\n",
    "from sklearn.pipeline import Pipeline\n",
    "from sklearn.feature_extraction.text import CountVectorizer\n",
    "from sklearn.feature_extraction.text import TfidfVectorizer\n",
    "from sklearn.naive_bayes import MultinomialNB\n",
    "import numpy as np\n",
    "import pandas as pd\n",
    "\n",
    "# package used for POS-tagging\n",
    "from spacy.en import English\n",
    "\n",
    "# packages used for evaluation\n",
    "from sklearn.model_selection import cross_val_score\n",
    "from sklearn.model_selection import cross_val_predict\n",
    "from sklearn.metrics import confusion_matrix\n",
    "from sklearn.metrics import classification_report\n",
    "\n",
    "# packages used for visualization\n",
    "import matplotlib.pyplot as plt\n",
    "import seaborn as sn\n",
    "%matplotlib inline"
   ]
  },
  {
   "cell_type": "code",
   "execution_count": 2,
   "metadata": {
    "collapsed": true
   },
   "outputs": [],
   "source": [
    "# loads the text and labels\n",
    "with open('../data/train/us.text') as f:\n",
    "    eng_text = f.readlines()\n",
    "    \n",
    "with open('../data/train/us.labels') as f:\n",
    "    eng_labels = f.readlines()"
   ]
  },
  {
   "cell_type": "code",
   "execution_count": 3,
   "metadata": {
    "collapsed": true
   },
   "outputs": [],
   "source": [
    "# asserts that the number of tweets and labels are equal\n",
    "assert len(eng_text) == len(eng_labels)"
   ]
  },
  {
   "cell_type": "code",
   "execution_count": 4,
   "metadata": {
    "collapsed": true
   },
   "outputs": [],
   "source": [
    "# strips the tweets and labels of extra chars\n",
    "eng_text = [tweet.strip() for tweet in eng_text]\n",
    "eng_labels = [int(label.strip()) for label in eng_labels]"
   ]
  },
  {
   "cell_type": "code",
   "execution_count": 5,
   "metadata": {
    "collapsed": true
   },
   "outputs": [],
   "source": [
    "# shuffle the dataset with the same seed\n",
    "np.random.seed(42)\n",
    "np.random.shuffle(eng_text)\n",
    "np.random.seed(42)\n",
    "np.random.shuffle(eng_labels)"
   ]
  },
  {
   "cell_type": "markdown",
   "metadata": {},
   "source": [
    "## Raw counts"
   ]
  },
  {
   "cell_type": "code",
   "execution_count": 89,
   "metadata": {
    "collapsed": true
   },
   "outputs": [],
   "source": [
    "# pipeline used to gather counts of all words in the dataset and vectorizes each document using CountVectorizer;\n",
    "# predict the labels using Linear Support Vector Machines\n",
    "pipe = Pipeline([('count', CountVectorizer()),\n",
    "                 ('clf', LinearSVC())])"
   ]
  },
  {
   "cell_type": "code",
   "execution_count": 90,
   "metadata": {
    "scrolled": true
   },
   "outputs": [
    {
     "name": "stdout",
     "output_type": "stream",
     "text": [
      "[ 0.31627627  0.31218642  0.31344212  0.31273458  0.31639876]\n",
      "Accuracy: 0.31 (+/- 0.00)\n"
     ]
    }
   ],
   "source": [
    "# Crossvalidates the performance of the above pipe on the English data/labels using 5 folds and returns\n",
    "# a list with the accuracy of each fold; prints the accuracy for each cross-section and the average accuracy\n",
    "scores = cross_val_score(pipe, eng_text, eng_labels, cv=5, n_jobs=-1)\n",
    "print(scores)\n",
    "print(\"Accuracy: %0.2f (+/- %0.2f)\" % (scores.mean(), scores.std() * 2))"
   ]
  },
  {
   "cell_type": "code",
   "execution_count": 8,
   "metadata": {},
   "outputs": [
    {
     "name": "stdout",
     "output_type": "stream",
     "text": [
      "[[60881  9638  6407  3675  1955  2417  1854  2329  1971  1652  1180  1699\n",
      "   2231  1297  1133  1159  1062  2040   951   935]\n",
      " [19257 12147  4216  1542  1378  1444  1142  1394   895   797   725   804\n",
      "   1241   611   663   496   785   689   510   591]\n",
      " [ 9041  3272 23980   774  1835  1195  1430   672   577   561   639   712\n",
      "    578   327   853  1239   805   560   585   802]\n",
      " [14807  2527  1432  2075   436   600   414   755   511   490   278   267\n",
      "    645   360   265   242   201   314   220   228]\n",
      " [ 3749  1425  2489   343 10790   383   688   535   242   218   532   261\n",
      "    336   190   279   816   283   184   447   236]\n",
      " [ 8542  2468  3017   625   574  1581   692   577   417   365   376   454\n",
      "    787   263   430   363   535   490   240   316]\n",
      " [ 5513  1758  2937   444  1111   687  2484   540   392   310   422   517\n",
      "   1403   195   406   660   398   233   345   363]\n",
      " [ 5545  1685  1181   586   774   441   445  3678   281   231   414   271\n",
      "    582   223   255   309   196   540   334   191]\n",
      " [ 7850  1389   992   634   339   380   345   454  1965   228   174   302\n",
      "    574   196   177   214   149   173   155   156]\n",
      " [ 7586  1550  1342   612   380   426   365   355   276   943   180   204\n",
      "    309   194   258   238   161   249   172   185]\n",
      " [ 3485  1159  1595   307   734   392   504   533   217   186  3555   286\n",
      "    405   129   233   330   180   170  1335   212]\n",
      " [ 2850   661   698   155   270   246   301   207   163    79   155  8267\n",
      "    346    76   120   138   119   109   120   102]\n",
      " [ 3156   909   613   259   294   377   556   338   216   117   175   269\n",
      "   5623    89   144   119   135    94   123   111]\n",
      " [ 6309  1069   746   520   278   291   250   347   270   214   135   123\n",
      "    262  1257   139   129   120   132   116   132]\n",
      " [ 3749  1335  2381   334   501   575   579   379   254   248   254   267\n",
      "    344   140   636   312   312   222   227   310]\n",
      " [ 3193   697  2334   240  1125   292   520   333   214   159   218   187\n",
      "    218    98   175  2623   154   100   218   166]\n",
      " [ 3612  1559  2356   291   496   666   534   351   215   188   216   258\n",
      "    348   126   278   209   629   214   164   248]\n",
      " [ 2000   459   469   139   211   200   125   244    72    68    69    97\n",
      "     98    69    80    60    91  8058    48    57]\n",
      " [ 2920   868  1521   246   741   267   405   416   181   161  1405   247\n",
      "    307   109   205   301   146   137  2403   156]\n",
      " [ 3300  1180  2568   342   506   428   505   291   196   212   185   241\n",
      "    355   140   337   265   299   184   198   465]]\n"
     ]
    }
   ],
   "source": [
    "# Crossvalidates the performance of the above pipe on the English data/labels using 5 folds and returns\n",
    "# a list containing the predictions for each label; this is used in a confusion matrix\n",
    "y_pred = cross_val_predict(pipe,eng_text,eng_labels,cv=5, n_jobs=-1)\n",
    "conf_mat = confusion_matrix(eng_labels,y_pred)\n",
    "print(conf_mat)"
   ]
  },
  {
   "cell_type": "code",
   "execution_count": 9,
   "metadata": {},
   "outputs": [
    {
     "data": {
      "text/plain": [
       "<matplotlib.axes._subplots.AxesSubplot at 0x1167dae10>"
      ]
     },
     "execution_count": 9,
     "metadata": {},
     "output_type": "execute_result"
    },
    {
     "data": {
      "image/png": "[encoded data removed]",
      "text/plain": [
       "<matplotlib.figure.Figure at 0x1167da780>"
      ]
     },
     "metadata": {},
     "output_type": "display_data"
    }
   ],
   "source": [
    "# visualizes the above confusion matrix\n",
    "df_cm = pd.DataFrame(conf_mat, index = [i for i in set(eng_labels)], columns = [i for i in set(eng_labels)])\n",
    "plt.figure(figsize= (10,7))\n",
    "sn.heatmap(df_cm, annot=False)"
   ]
  },
  {
   "cell_type": "code",
   "execution_count": 10,
   "metadata": {},
   "outputs": [
    {
     "name": "stdout",
     "output_type": "stream",
     "text": [
      "             precision    recall  f1-score   support\n",
      "\n",
      "          0       0.34      0.57      0.43    106466\n",
      "          1       0.25      0.24      0.25     51327\n",
      "          2       0.38      0.48      0.42     50437\n",
      "          3       0.15      0.08      0.10     27067\n",
      "          4       0.44      0.44      0.44     24426\n",
      "          5       0.12      0.07      0.09     23112\n",
      "          6       0.18      0.12      0.14     21118\n",
      "          7       0.25      0.20      0.22     18162\n",
      "          8       0.21      0.12      0.15     16846\n",
      "          9       0.13      0.06      0.08     15985\n",
      "         10       0.31      0.22      0.26     15947\n",
      "         11       0.53      0.54      0.53     15182\n",
      "         12       0.33      0.41      0.37     13717\n",
      "         13       0.21      0.10      0.13     12839\n",
      "         14       0.09      0.05      0.06     13359\n",
      "         15       0.26      0.20      0.22     13264\n",
      "         16       0.09      0.05      0.06     12958\n",
      "         17       0.54      0.63      0.58     12714\n",
      "         18       0.27      0.18      0.22     13142\n",
      "         19       0.08      0.04      0.05     12197\n",
      "\n",
      "avg / total       0.28      0.31      0.29    490265\n",
      "\n"
     ]
    }
   ],
   "source": [
    "# prints a report detailing precision/recall and f-score of the pipeline\n",
    "print(classification_report(eng_labels, y_pred))"
   ]
  },
  {
   "cell_type": "markdown",
   "metadata": {},
   "source": [
    "## Feature normalization using tf-idf"
   ]
  },
  {
   "cell_type": "code",
   "execution_count": 11,
   "metadata": {
    "collapsed": true
   },
   "outputs": [],
   "source": [
    "# pipeline used to gather counts of all words in the dataset normalized with tf-idf and vectorizes each document \n",
    "# using TfidfVectorizer; predict the labels using Linear Support Vector Machines\n",
    "pipe = Pipeline([('tfidf', TfidfVectorizer()),\n",
    "                 ('clf', LinearSVC())])"
   ]
  },
  {
   "cell_type": "code",
   "execution_count": 12,
   "metadata": {},
   "outputs": [
    {
     "name": "stdout",
     "output_type": "stream",
     "text": [
      "[ 0.33590651  0.33435652  0.33407445  0.33307156  0.33534943]\n",
      "Accuracy: 0.33 (+/- 0.00)\n"
     ]
    }
   ],
   "source": [
    "# Crossvalidates the performance of the above pipe on the English data/labels using 5 folds and returns\n",
    "# a list with the accuracy of each fold; prints the accuracy for each cross-section and the average accuracy\n",
    "scores = cross_val_score(pipe, eng_text, eng_labels, cv=5, n_jobs=-1)\n",
    "print(scores)\n",
    "print(\"Accuracy: %0.2f (+/- %0.2f)\" % (scores.mean(), scores.std() * 2))"
   ]
  },
  {
   "cell_type": "code",
   "execution_count": 13,
   "metadata": {},
   "outputs": [
    {
     "name": "stdout",
     "output_type": "stream",
     "text": [
      "[[64978 10184  6885  2875  2000  1886  1536  2102  1466  1129  1132  1695\n",
      "   2155   832   673   884   647  2045   786   576]\n",
      " [20166 13407  4604  1216  1443  1161   981  1267   673   561   695   772\n",
      "   1182   425   417   387   478   705   430   357]\n",
      " [ 9082  3324 26749   556  1863   914  1103   561   418   371   610   679\n",
      "    511   203   547   974   481   532   483   476]\n",
      " [15936  2646  1541  1877   439   487   340   670   353   341   273   260\n",
      "    608   235   167   192   110   295   166   131]\n",
      " [ 3685  1489  2718   257 11776   287   561   432   184   136   519   257\n",
      "    297   134   174   676   161   172   365   146]\n",
      " [ 9073  2737  3320   489   621  1514   608   527   326   298   337   421\n",
      "    805   192   299   283   393   478   207   184]\n",
      " [ 5720  1896  3316   351  1242   585  2528   489   319   244   420   506\n",
      "   1459   139   293   581   285   212   307   226]\n",
      " [ 5825  1894  1332   463   839   356   388  3825   202   173   436   252\n",
      "    571   161   168   258   111   531   268   109]\n",
      " [ 8377  1443  1105   541   341   302   303   413  1915   135   171   308\n",
      "    590   140   119   168    86   173   118    98]\n",
      " [ 8037  1645  1516   511   389   383   328   325   205   875   176   192\n",
      "    279   126   174   201   119   247   146   111]\n",
      " [ 3569  1246  1811   244   834   310   453   472   165   122  3825   268\n",
      "    401    81   147   283   125   175  1286   130]\n",
      " [ 2928   691   768   108   263   165   251   161   117    52   152  8686\n",
      "    326    50    75   104    64   100    71    50]\n",
      " [ 3166   986   642   213   319   304   534   332   161    75   165   238\n",
      "   5996    58    96    91    98    78   104    61]\n",
      " [ 6750  1138   829   439   296   246   201   336   202   147   129   136\n",
      "    231  1205    87   103    75   121    89    79]\n",
      " [ 4010  1479  2815   291   558   473   518   356   190   181   257   247\n",
      "    322    94   516   271   210   215   170   186]\n",
      " [ 3207   756  2692   188  1274   236   475   286   171   122   201   189\n",
      "    203    61   122  2591   102    92   192   104]\n",
      " [ 3822  1682  2727   229   540   624   499   301   171   128   195   251\n",
      "    327    83   191   168   483   224   157   156]\n",
      " [ 1973   425   471    96   207   125    99   205    58    52    58    89\n",
      "     75    41    47    45    46  8539    36    27]\n",
      " [ 2950   926  1718   182   841   220   364   380   139   113  1573   228\n",
      "    302    85   141   251   106   119  2404   100]\n",
      " [ 3528  1274  3026   282   531   388   456   250   164   151   187   238\n",
      "    334    91   234   224   179   171   159   330]]\n"
     ]
    }
   ],
   "source": [
    "# Crossvalidates the performance of the above pipe on the English data/labels using 5 folds and returns\n",
    "# a list containing the predictions for each label; this is used in a confusion matrix\n",
    "y_pred = cross_val_predict(pipe,eng_text,eng_labels,cv=5, n_jobs=-1)\n",
    "conf_mat = confusion_matrix(eng_labels,y_pred)\n",
    "print(conf_mat)"
   ]
  },
  {
   "cell_type": "code",
   "execution_count": 14,
   "metadata": {},
   "outputs": [
    {
     "data": {
      "text/plain": [
       "<matplotlib.axes._subplots.AxesSubplot at 0x111bdfeb8>"
      ]
     },
     "execution_count": 14,
     "metadata": {},
     "output_type": "execute_result"
    },
    {
     "data": {
      "image/png": "[encoded data removed]",
      "text/plain": [
       "<matplotlib.figure.Figure at 0x1167da940>"
      ]
     },
     "metadata": {},
     "output_type": "display_data"
    }
   ],
   "source": [
    "# visualizes the above confusion matrix\n",
    "df_cm = pd.DataFrame(conf_mat, index = [i for i in set(eng_labels)], columns = [i for i in set(eng_labels)])\n",
    "plt.figure(figsize= (10,7))\n",
    "sn.heatmap(df_cm, annot=False)"
   ]
  },
  {
   "cell_type": "code",
   "execution_count": 15,
   "metadata": {},
   "outputs": [
    {
     "name": "stdout",
     "output_type": "stream",
     "text": [
      "             precision    recall  f1-score   support\n",
      "\n",
      "          0       0.35      0.61      0.44    106466\n",
      "          1       0.26      0.26      0.26     51327\n",
      "          2       0.38      0.53      0.44     50437\n",
      "          3       0.16      0.07      0.10     27067\n",
      "          4       0.44      0.48      0.46     24426\n",
      "          5       0.14      0.07      0.09     23112\n",
      "          6       0.20      0.12      0.15     21118\n",
      "          7       0.28      0.21      0.24     18162\n",
      "          8       0.25      0.11      0.16     16846\n",
      "          9       0.16      0.05      0.08     15985\n",
      "         10       0.33      0.24      0.28     15947\n",
      "         11       0.55      0.57      0.56     15182\n",
      "         12       0.35      0.44      0.39     13717\n",
      "         13       0.27      0.09      0.14     12839\n",
      "         14       0.11      0.04      0.06     13359\n",
      "         15       0.30      0.20      0.24     13264\n",
      "         16       0.11      0.04      0.06     12958\n",
      "         17       0.56      0.67      0.61     12714\n",
      "         18       0.30      0.18      0.23     13142\n",
      "         19       0.09      0.03      0.04     12197\n",
      "\n",
      "avg / total       0.30      0.33      0.30    490265\n",
      "\n"
     ]
    }
   ],
   "source": [
    "# prints a report detailing precision/recall and f-score of the pipeline\n",
    "print(classification_report(eng_labels, y_pred))"
   ]
  },
  {
   "cell_type": "markdown",
   "metadata": {},
   "source": [
    "## tf-idf and part-of-speech tagging"
   ]
  },
  {
   "cell_type": "code",
   "execution_count": 16,
   "metadata": {
    "collapsed": true
   },
   "outputs": [],
   "source": [
    "# loads the spaCy English parser\n",
    "parser = English()"
   ]
  },
  {
   "cell_type": "code",
   "execution_count": 17,
   "metadata": {
    "collapsed": true
   },
   "outputs": [],
   "source": [
    "# tokenizes an input tweet using the spaCy English parser;\n",
    "# returns a list of tokenized words with the POS tag attached to the word in 'word_POS' format\n",
    "def spacy_tokenize(tweet):\n",
    "    tokens = parser(tweet)\n",
    "    tokens = [token.text +'_' + token.pos_ for token in tokens]\n",
    "    return tokens"
   ]
  },
  {
   "cell_type": "code",
   "execution_count": 19,
   "metadata": {
    "collapsed": true
   },
   "outputs": [],
   "source": [
    "# pipeline used to gather counts of all words labeled with POS in the dataset normalized with tf-idf \n",
    "# and vectorizes each document using TfidfVectorizer; predict the labels using Linear Support Vector Machines\n",
    "pipe = Pipeline([('tfidf', TfidfVectorizer(tokenizer=spacy_tokenize)),\n",
    "                 ('clf', LinearSVC())])"
   ]
  },
  {
   "cell_type": "code",
   "execution_count": 20,
   "metadata": {},
   "outputs": [
    {
     "name": "stdout",
     "output_type": "stream",
     "text": [
      "[ 0.43274222  0.43230675  0.43261601  0.43294101  0.43384603]\n",
      "Accuracy: 0.43 (+/- 0.00)\n"
     ]
    }
   ],
   "source": [
    "# Crossvalidates the performance of the above pipe on the English data/labels using 5 folds and returns\n",
    "# a list with the accuracy of each fold; prints the accuracy for each cross-section and the average accuracy\n",
    "scores = cross_val_score(pipe, eng_text, eng_labels, cv=5, n_jobs=-1)\n",
    "print(scores)\n",
    "print(\"Accuracy: %0.2f (+/- %0.2f)\" % (scores.mean(), scores.std() * 2))"
   ]
  },
  {
   "cell_type": "code",
   "execution_count": 21,
   "metadata": {},
   "outputs": [
    {
     "name": "stdout",
     "output_type": "stream",
     "text": [
      "[[87470  4888  2410  2450   725  1003   654   799   690   738   452   608\n",
      "   1119   345   310   385   257   690   261   212]\n",
      " [ 3302 21194  5698  3811  1848  2054  1589  1867  1330  1254   927  1191\n",
      "    547   731   680   553   765   864   574   548]\n",
      " [ 1445  5077 28651  1300  2118  1460  1617   760   621   676   806   870\n",
      "    190   329   807  1174   680   619   590   647]\n",
      " [ 2420  5797  2162  7145   652  1145   675  1223  1113  1113   381   477\n",
      "    298   591   358   355   239   413   268   242]\n",
      " [  545  2285  2846   636 12286   466   792   637   336   242   606   371\n",
      "    127   190   234   781   206   209   433   198]\n",
      " [ 1487  4776  3888  1860   792  2718  1025   815   628   698   445   599\n",
      "    397   348   479   409   595   581   279   293]\n",
      " [  821  3162  3801  1017  1510  1035  3248   746   590   448   513   726\n",
      "    771   222   429   699   400   280   359   341]\n",
      " [  829  3062  1590  1354  1040   652   649  4730   419   330   604   422\n",
      "    255   262   286   347   183   603   378   167]\n",
      " [ 1311  3208  1493  2469   523   679   597   702  2737   511   273   482\n",
      "    273   341   212   302   163   236   174   160]\n",
      " [ 1340  3246  1884  2293   518   822   531   516   515  1903   244   313\n",
      "    122   265   291   300   168   317   193   204]\n",
      " [  355  1194  1202   291   689   307   357   447   161   140  7632   239\n",
      "    129    79   129   207   108   151  2045    85]\n",
      " [  342  1324   941   350   351   339   471   308   262   112   228  9234\n",
      "    150    86    94   146    97   135   119    93]\n",
      " [ 7807   238   115    63    82    83   115    98    30    20    69    64\n",
      "   4798    25    16    18    16    12    32    16]\n",
      " [ 1172  2510  1110  2194   416   575   366   558   535   470   191   245\n",
      "    110  1497   147   182   132   171   126   132]\n",
      " [  652  2303  3211   826   658   771   700   489   398   350   267   336\n",
      "    165   159   745   295   268   265   213   288]\n",
      " [  521  1243  2961   533  1435   341   691   426   308   233   279   274\n",
      "     81   115   204  2991   131   108   232   157]\n",
      " [  596  2711  3028   591   660   996   704   400   278   275   247   340\n",
      "    146   161   288   226   638   250   174   249]\n",
      " [  340   712   559   289   267   211   149   306    94    77    98   139\n",
      "     26    64    68    74    53  9079    58    51]\n",
      " [  351   951  1236   314   680   233   368   411   164   131  4167   225\n",
      "    105    89   140   226    97   128  3039    87]\n",
      " [  529  1984  3386   747   667   594   690   403   282   301   216   305\n",
      "    155   164   375   263   272   197   171   496]]\n"
     ]
    }
   ],
   "source": [
    "# Crossvalidates the performance of the above pipe on the English data/labels using 5 folds and returns\n",
    "# a list containing the predictions for each label; this is used in a confusion matrix\n",
    "y_pred = cross_val_predict(pipe,eng_text,eng_labels,cv=5, n_jobs=-1)\n",
    "conf_mat = confusion_matrix(eng_labels,y_pred)\n",
    "print(conf_mat)"
   ]
  },
  {
   "cell_type": "code",
   "execution_count": 22,
   "metadata": {},
   "outputs": [
    {
     "data": {
      "text/plain": [
       "<matplotlib.axes._subplots.AxesSubplot at 0x11e65e780>"
      ]
     },
     "execution_count": 22,
     "metadata": {},
     "output_type": "execute_result"
    },
    {
     "data": {
      "image/png": "[encoded data removed]",
      "text/plain": [
       "<matplotlib.figure.Figure at 0x11e64ac18>"
      ]
     },
     "metadata": {},
     "output_type": "display_data"
    }
   ],
   "source": [
    "# visualizes the above confusion matrix\n",
    "df_cm = pd.DataFrame(conf_mat, index = [i for i in set(eng_labels)], columns = [i for i in set(eng_labels)])\n",
    "plt.figure(figsize= (10,7))\n",
    "sn.heatmap(df_cm, annot=False)"
   ]
  },
  {
   "cell_type": "code",
   "execution_count": 23,
   "metadata": {},
   "outputs": [
    {
     "name": "stdout",
     "output_type": "stream",
     "text": [
      "             precision    recall  f1-score   support\n",
      "\n",
      "          0       0.77      0.82      0.79    106466\n",
      "          1       0.29      0.41      0.34     51327\n",
      "          2       0.40      0.57      0.47     50437\n",
      "          3       0.23      0.26      0.25     27067\n",
      "          4       0.44      0.50      0.47     24426\n",
      "          5       0.16      0.12      0.14     23112\n",
      "          6       0.20      0.15      0.18     21118\n",
      "          7       0.28      0.26      0.27     18162\n",
      "          8       0.24      0.16      0.19     16846\n",
      "          9       0.19      0.12      0.15     15985\n",
      "         10       0.41      0.48      0.44     15947\n",
      "         11       0.53      0.61      0.57     15182\n",
      "         12       0.48      0.35      0.41     13717\n",
      "         13       0.25      0.12      0.16     12839\n",
      "         14       0.12      0.06      0.08     13359\n",
      "         15       0.30      0.23      0.26     13264\n",
      "         16       0.12      0.05      0.07     12958\n",
      "         17       0.59      0.71      0.65     12714\n",
      "         18       0.31      0.23      0.27     13142\n",
      "         19       0.11      0.04      0.06     12197\n",
      "\n",
      "avg / total       0.41      0.43      0.41    490265\n",
      "\n"
     ]
    }
   ],
   "source": [
    "# prints a report detailing precision/recall and f-score of the pipeline\n",
    "print(classification_report(eng_labels, y_pred))"
   ]
  },
  {
   "cell_type": "markdown",
   "metadata": {},
   "source": [
    "## tf-idf and bi-grams"
   ]
  },
  {
   "cell_type": "code",
   "execution_count": 24,
   "metadata": {
    "collapsed": true
   },
   "outputs": [],
   "source": [
    "# pipeline used to gather counts of bi-grams in the dataset normalized with tf-idf and vectorizes each document \n",
    "# using TfidfVectorizer; predict the labels using Linear Support Vector Machines\n",
    "pipe = Pipeline([('tfidf', TfidfVectorizer(ngram_range=(1,2))),\n",
    "                 ('clf', LinearSVC())])"
   ]
  },
  {
   "cell_type": "code",
   "execution_count": 25,
   "metadata": {},
   "outputs": [
    {
     "name": "stdout",
     "output_type": "stream",
     "text": [
      "[ 0.34987712  0.34700184  0.34927078  0.34689132  0.34874138]\n",
      "Accuracy: 0.35 (+/- 0.00)\n"
     ]
    }
   ],
   "source": [
    "# Crossvalidates the performance of the above pipe on the English data/labels using 5 folds\n",
    "# prints the scores for each cross-section and the average accuracy\n",
    "scores = cross_val_score(pipe, eng_text, eng_labels, cv=5, n_jobs=-1)\n",
    "print(scores)\n",
    "print(\"Accuracy: %0.2f (+/- %0.2f)\" % (scores.mean(), scores.std() * 2))"
   ]
  },
  {
   "cell_type": "code",
   "execution_count": 26,
   "metadata": {},
   "outputs": [
    {
     "name": "stdout",
     "output_type": "stream",
     "text": [
      "[[61689 11211  6090  4679  1789  2495  1616  2178  1630  1665  1212  1502\n",
      "   2126   886   737   845   671  2004   889   552]\n",
      " [17771 15515  4309  1570  1286  1519  1068  1223   668   663   762   696\n",
      "   1111   373   437   326   547   709   447   327]\n",
      " [ 7337  3342 28068   645  1677  1164  1246   524   370   432   638   615\n",
      "    502   214   643   951   528   527   517   497]\n",
      " [14215  2907  1316  2859   415   672   359   715   474   529   286   238\n",
      "    605   348   190   184   137   279   199   140]\n",
      " [ 3011  1516  2425   302 12625   339   618   458   181   163   533   218\n",
      "    275   117   207   643   154   159   337   145]\n",
      " [ 7746  2938  3123   722   561  2215   738   538   373   381   354   381\n",
      "    775   202   413   263   466   485   223   215]\n",
      " [ 4818  2010  3248   462  1211   844  2820   531   338   250   440   479\n",
      "   1449   163   340   535   343   202   337   298]\n",
      " [ 4992  2052  1171   670   776   509   465  4035   261   197   455   236\n",
      "    535   157   218   248   170   557   332   126]\n",
      " [ 7588  1567   970   877   313   388   346   416  2177   230   224   249\n",
      "    548   180   129   168    94   163   133    86]\n",
      " [ 7247  1637  1405   853   371   550   343   311   222  1192   232   177\n",
      "    287   130   208   175   146   228   149   122]\n",
      " [ 2793  1192  1635   272   737   331   434   503   190   137  4594   221\n",
      "    396    80   159   253   106   165  1650    99]\n",
      " [ 2439   738   683   158   255   212   302   206   129    58   161  8969\n",
      "    326    64    82   104    73    78    99    46]\n",
      " [ 2598  1003   568   310   280   371   591   371   198    81   192   232\n",
      "   6292    74   136    75    86    68    99    92]\n",
      " [ 6132  1244   721   747   266   334   209   349   277   199   152   109\n",
      "    234  1288    92   116    87   125    82    76]\n",
      " [ 3343  1452  2810   397   550   663   577   386   232   249   242   230\n",
      "    329    95   692   231   220   231   196   234]\n",
      " [ 2635   767  2559   269  1352   283   532   290   181   148   234   162\n",
      "    169    90   164  2920   105    69   224   111]\n",
      " [ 3194  1790  2704   270   527   843   568   292   161   160   214   225\n",
      "    331    89   241   170   639   195   163   182]\n",
      " [ 1627   384   421   124   209   121    92   210    49    51    49    63\n",
      "     86    36    52    29    36  9015    33    27]\n",
      " [ 2394   874  1458   206   700   270   350   437   146   118  2165   199\n",
      "    283    64   142   260   110   118  2760    88]\n",
      " [ 2925  1281  3024   393   524   518   555   263   161   203   211   210\n",
      "    311    97   334   198   239   157   170   423]]\n"
     ]
    }
   ],
   "source": [
    "# Crossvalidates the performance of the above pipe on the English data/labels using 5 folds and returns\n",
    "# a list containing the predictions for each label; this is used in a confusion matrix\n",
    "y_pred = cross_val_predict(pipe,eng_text,eng_labels,cv=5, n_jobs=-1)\n",
    "conf_mat = confusion_matrix(eng_labels,y_pred)\n",
    "print(conf_mat)"
   ]
  },
  {
   "cell_type": "code",
   "execution_count": 27,
   "metadata": {},
   "outputs": [
    {
     "data": {
      "text/plain": [
       "<matplotlib.axes._subplots.AxesSubplot at 0x1118bf5f8>"
      ]
     },
     "execution_count": 27,
     "metadata": {},
     "output_type": "execute_result"
    },
    {
     "data": {
      "image/png": "[encoded data removed]",
      "text/plain": [
       "<matplotlib.figure.Figure at 0x112755780>"
      ]
     },
     "metadata": {},
     "output_type": "display_data"
    }
   ],
   "source": [
    "# visualizes the above confusion matrix\n",
    "df_cm = pd.DataFrame(conf_mat, index = [i for i in set(eng_labels)], columns = [i for i in set(eng_labels)])\n",
    "plt.figure(figsize= (10,7))\n",
    "sn.heatmap(df_cm, annot=False)"
   ]
  },
  {
   "cell_type": "code",
   "execution_count": 28,
   "metadata": {},
   "outputs": [
    {
     "name": "stdout",
     "output_type": "stream",
     "text": [
      "             precision    recall  f1-score   support\n",
      "\n",
      "          0       0.37      0.58      0.45    106466\n",
      "          1       0.28      0.30      0.29     51327\n",
      "          2       0.41      0.56      0.47     50437\n",
      "          3       0.17      0.11      0.13     27067\n",
      "          4       0.48      0.52      0.50     24426\n",
      "          5       0.15      0.10      0.12     23112\n",
      "          6       0.20      0.13      0.16     21118\n",
      "          7       0.28      0.22      0.25     18162\n",
      "          8       0.26      0.13      0.17     16846\n",
      "          9       0.17      0.07      0.10     15985\n",
      "         10       0.34      0.29      0.31     15947\n",
      "         11       0.58      0.59      0.59     15182\n",
      "         12       0.37      0.46      0.41     13717\n",
      "         13       0.27      0.10      0.15     12839\n",
      "         14       0.12      0.05      0.07     13359\n",
      "         15       0.34      0.22      0.27     13264\n",
      "         16       0.13      0.05      0.07     12958\n",
      "         17       0.58      0.71      0.64     12714\n",
      "         18       0.31      0.21      0.25     13142\n",
      "         19       0.11      0.03      0.05     12197\n",
      "\n",
      "avg / total       0.31      0.35      0.32    490265\n",
      "\n"
     ]
    }
   ],
   "source": [
    "# prints a report detailing precision/recall and f-score of the pipeline\n",
    "print(classification_report(eng_labels, y_pred))"
   ]
  },
  {
   "cell_type": "markdown",
   "metadata": {},
   "source": [
    "## tf-idf, bi-grams and part-of-speech tagging"
   ]
  },
  {
   "cell_type": "code",
   "execution_count": 29,
   "metadata": {
    "collapsed": true
   },
   "outputs": [],
   "source": [
    "# loads the spaCy English parser\n",
    "parser = English()"
   ]
  },
  {
   "cell_type": "code",
   "execution_count": 30,
   "metadata": {
    "collapsed": true
   },
   "outputs": [],
   "source": [
    "# tokenizes an input tweet using the spaCy English parser;\n",
    "# returns a list of tokenized words with the POS tag attached to the word in 'word_POS' format\n",
    "def spacy_tokenize(tweet):\n",
    "    tokens = parser(tweet)\n",
    "    tokens = [token.text +'_' + token.pos_ for token in tokens]\n",
    "    return tokens"
   ]
  },
  {
   "cell_type": "code",
   "execution_count": 32,
   "metadata": {
    "collapsed": true
   },
   "outputs": [],
   "source": [
    "# pipeline used to gather counts of all bi-grams with each word labeled with POS in the dataset; \n",
    "# this is then normalized with tf-idf and each document is vectorized using TfidfVectorizer; \n",
    "# predict the labels using Linear Support Vector Machines\n",
    "pipe = Pipeline([('tfidf', TfidfVectorizer(tokenizer=spacy_tokenize, ngram_range=(1,2))),\n",
    "                 ('clf', LinearSVC())])"
   ]
  },
  {
   "cell_type": "code",
   "execution_count": 33,
   "metadata": {},
   "outputs": [
    {
     "name": "stdout",
     "output_type": "stream",
     "text": [
      "[ 0.45108757  0.44974505  0.45138195  0.45056503  0.45258251]\n",
      "Accuracy: 0.45 (+/- 0.00)\n"
     ]
    }
   ],
   "source": [
    "# Crossvalidates the performance of the above pipe on the English data/labels using 5 folds\n",
    "# prints the scores for each cross-section and the average accuracy\n",
    "scores = cross_val_score(pipe, eng_text, eng_labels, cv=5, n_jobs=-1)\n",
    "print(scores)\n",
    "print(\"Accuracy: %0.2f (+/- %0.2f)\" % (scores.mean(), scores.std() * 2))"
   ]
  },
  {
   "cell_type": "code",
   "execution_count": 34,
   "metadata": {},
   "outputs": [
    {
     "name": "stdout",
     "output_type": "stream",
     "text": [
      "[[87565  4808  2065  2605   641  1103   650   763   812   935   356   542\n",
      "   1119   478   308   315   280   659   250   212]\n",
      " [ 2979 22640  5021  3858  1742  2340  1678  1691  1430  1417   744  1009\n",
      "    278   716   715   477   799   775   483   535]\n",
      " [ 1294  4897 29591  1269  1943  1559  1702   706   595   704   598   752\n",
      "    125   300   857  1055   682   573   510   725]\n",
      " [ 2212  5537  1768  7507   599  1239   704  1240  1340  1467   327   414\n",
      "    143   812   368   270   235   382   240   263]\n",
      " [  494  2195  2475   594 13219   422   829   611   329   236   507   293\n",
      "     77   186   261   742   195   197   359   205]\n",
      " [ 1413  4800  3542  1826   736  3244  1137   783   702   806   349   502\n",
      "    237   351   557   332   669   538   259   329]\n",
      " [  667  3229  3511  1076  1453  1236  3696   759   608   508   391   674\n",
      "    465   257   516   641   476   249   282   424]\n",
      " [  775  3099  1336  1478   994   732   718  4920   486   354   456   390\n",
      "    158   281   315   306   202   585   350   227]\n",
      " [ 1314  3067  1195  2655   465   716   608   696  3082   587   243   434\n",
      "    130   412   239   270   188   220   157   168]\n",
      " [ 1228  3102  1649  2390   439   929   553   467   555  2385   216   251\n",
      "     71   328   322   248   220   289   152   191]\n",
      " [  296   963   928   290   571   268   322   352   129   129  8607   199\n",
      "     82    71   137   149    92   121  2153    88]\n",
      " [  338  1278   797   395   347   349   507   355   286   120   191  9383\n",
      "     65   100   100   154   124   109    97    87]\n",
      " [ 6729   272   122    94   100   107   145   104    57    19    65    69\n",
      "   5696    19    21    20    14    16    29    19]\n",
      " [ 1228  2467   900  2295   372   591   396   546   648   579   156   211\n",
      "     63  1524   171   152   129   174    96   141]\n",
      " [  621  2160  2980   855   626   866   830   518   334   435   233   278\n",
      "     97   168  1018   253   288   267   169   363]\n",
      " [  496  1185  2699   542  1613   378   770   415   302   238   219   252\n",
      "     35   125   203  3157   161   110   191   173]\n",
      " [  545  2613  2930   602   624  1165   793   370   281   351   198   290\n",
      "     75   149   321   197   779   237   166   272]\n",
      " [  277   656   484   301   233   213   140   284   116   104    76   124\n",
      "     23    57    98    65    50  9318    42    53]\n",
      " [  276   830   962   271   605   228   349   382   157   141  4761   184\n",
      "     59    59   139   192   103    93  3264    87]\n",
      " [  478  1919  3239   765   623   690   802   405   314   317   175   269\n",
      "     93   179   485   228   303   183   180   550]]\n"
     ]
    }
   ],
   "source": [
    "# Crossvalidates the performance of the above pipe on the English data/labels using 5 folds and returns\n",
    "# a list containing the predictions for each label; this is used in a confusion matrix\n",
    "y_pred = cross_val_predict(pipe,eng_text,eng_labels,cv=5, n_jobs=-1)\n",
    "conf_mat = confusion_matrix(eng_labels,y_pred)\n",
    "print(conf_mat)"
   ]
  },
  {
   "cell_type": "code",
   "execution_count": 35,
   "metadata": {
    "scrolled": true
   },
   "outputs": [
    {
     "data": {
      "text/plain": [
       "<matplotlib.axes._subplots.AxesSubplot at 0x111011dd8>"
      ]
     },
     "execution_count": 35,
     "metadata": {},
     "output_type": "execute_result"
    },
    {
     "data": {
      "image/png": "[encoded data removed]",
      "text/plain": [
       "<matplotlib.figure.Figure at 0x112755898>"
      ]
     },
     "metadata": {},
     "output_type": "display_data"
    }
   ],
   "source": [
    "# visualizes the above confusion matrix\n",
    "df_cm = pd.DataFrame(conf_mat, index = [i for i in set(eng_labels)], columns = [i for i in set(eng_labels)])\n",
    "plt.figure(figsize= (10,7))\n",
    "sn.heatmap(df_cm, annot=False)"
   ]
  },
  {
   "cell_type": "code",
   "execution_count": 36,
   "metadata": {
    "scrolled": false
   },
   "outputs": [
    {
     "name": "stdout",
     "output_type": "stream",
     "text": [
      "             precision    recall  f1-score   support\n",
      "\n",
      "          0       0.79      0.82      0.80    106466\n",
      "          1       0.32      0.44      0.37     51327\n",
      "          2       0.43      0.59      0.50     50437\n",
      "          3       0.24      0.28      0.26     27067\n",
      "          4       0.47      0.54      0.50     24426\n",
      "          5       0.18      0.14      0.16     23112\n",
      "          6       0.21      0.18      0.19     21118\n",
      "          7       0.30      0.27      0.28     18162\n",
      "          8       0.25      0.18      0.21     16846\n",
      "          9       0.20      0.15      0.17     15985\n",
      "         10       0.46      0.54      0.49     15947\n",
      "         11       0.57      0.62      0.59     15182\n",
      "         12       0.63      0.42      0.50     13717\n",
      "         13       0.23      0.12      0.16     12839\n",
      "         14       0.14      0.08      0.10     13359\n",
      "         15       0.34      0.24      0.28     13264\n",
      "         16       0.13      0.06      0.08     12958\n",
      "         17       0.62      0.73      0.67     12714\n",
      "         18       0.35      0.25      0.29     13142\n",
      "         19       0.11      0.05      0.06     12197\n",
      "\n",
      "avg / total       0.43      0.45      0.43    490265\n",
      "\n"
     ]
    }
   ],
   "source": [
    "# prints a report detailing precision/recall and f-score of the pipeline\n",
    "print(classification_report(eng_labels, y_pred))"
   ]
  },
  {
   "cell_type": "markdown",
   "metadata": {},
   "source": [
    "## tf-idf, tri-grams and part-of-speech tagging"
   ]
  },
  {
   "cell_type": "code",
   "execution_count": 91,
   "metadata": {
    "collapsed": true
   },
   "outputs": [],
   "source": [
    "# loads the spaCy English parser\n",
    "parser = English()"
   ]
  },
  {
   "cell_type": "code",
   "execution_count": 92,
   "metadata": {
    "collapsed": true
   },
   "outputs": [],
   "source": [
    "# tokenizes an input tweet using the spaCy English parser;\n",
    "# returns a list of tokenized words with the POS tag attached to the word in 'word_POS' format\n",
    "def spacy_tokenize(tweet):\n",
    "    tokens = parser(tweet)\n",
    "    tokens = [token.text +'_' + token.pos_ for token in tokens]\n",
    "    return tokens"
   ]
  },
  {
   "cell_type": "code",
   "execution_count": 93,
   "metadata": {
    "collapsed": true
   },
   "outputs": [],
   "source": [
    "# pipeline used to gather counts of all bi-grams with each word labeled with POS in the dataset; \n",
    "# this is then normalized with tf-idf and each document is vectorized using TfidfVectorizer; \n",
    "# predict the labels using Linear Support Vector Machines\n",
    "pipe = Pipeline([('tfidf', TfidfVectorizer(tokenizer=spacy_tokenize, ngram_range=(1,3))),\n",
    "                 ('clf', LinearSVC())])"
   ]
  },
  {
   "cell_type": "code",
   "execution_count": 94,
   "metadata": {},
   "outputs": [
    {
     "name": "stdout",
     "output_type": "stream",
     "text": [
      "[ 0.45438137  0.45271262  0.45261601  0.45270684  0.45555057]\n",
      "Accuracy: 0.45 (+/- 0.00)\n"
     ]
    }
   ],
   "source": [
    "# Crossvalidates the performance of the above pipe on the English data/labels using 5 folds\n",
    "# prints the scores for each cross-section and the average accuracy\n",
    "scores = cross_val_score(pipe, eng_text, eng_labels, cv=5, n_jobs=-1)\n",
    "print(scores)\n",
    "print(\"Accuracy: %0.2f (+/- %0.2f)\" % (scores.mean(), scores.std() * 2))"
   ]
  },
  {
   "cell_type": "code",
   "execution_count": 95,
   "metadata": {},
   "outputs": [
    {
     "name": "stdout",
     "output_type": "stream",
     "text": [
      "[[87902  4919  1934  2596   700  1049   619   749   772   899   403   578\n",
      "   1051   373   306   257   226   717   247   169]\n",
      " [ 3304 23153  4910  3885  1803  2070  1576  1585  1335  1336   837  1028\n",
      "    400   605   585   432   717   830   492   444]\n",
      " [ 1509  4901 29856  1239  2053  1383  1629   646   570   669   683   779\n",
      "    164   294   815   959   569   607   505   607]\n",
      " [ 2496  5607  1668  7713   619  1153   655  1139  1258  1381   378   421\n",
      "    190   723   337   258   203   412   237   219]\n",
      " [  523  2205  2385   642 13434   372   800   556   334   222   574   322\n",
      "    115   176   210   665   170   204   353   164]\n",
      " [ 1603  4816  3410  1912   775  3241  1119   736   648   805   405   522\n",
      "    311   291   515   306   613   552   254   278]\n",
      " [  767  3268  3414  1091  1532  1184  3609   731   590   482   445   727\n",
      "    611   236   476   597   421   273   298   366]\n",
      " [  916  3068  1289  1477  1045   676   711  4817   469   394   536   416\n",
      "    208   259   277   294   185   606   335   184]\n",
      " [ 1493  3110  1113  2698   475   695   598   658  3035   605   252   449\n",
      "    165   335   227   246   158   233   177   124]\n",
      " [ 1414  3104  1542  2449   469   904   525   449   500  2404   262   271\n",
      "     91   261   319   234   169   299   146   173]\n",
      " [  303   932   888   269   574   223   320   320   129   128  8976   211\n",
      "    108    64   118   128    64   123  1998    71]\n",
      " [  366  1302   732   389   364   318   486   331   286   131   216  9399\n",
      "    100    97   105   146   102   117   106    89]\n",
      " [ 6958   272   121    94    93    89   133    89    52    24    71    69\n",
      "   5529    15    18    15    18    20    25    12]\n",
      " [ 1383  2459   897  2378   392   532   355   501   595   552   181   227\n",
      "     77  1495   156   156   122   170   105   106]\n",
      " [  708  2133  3012   853   650   898   769   475   344   398   274   308\n",
      "    132   158   987   232   263   276   183   306]\n",
      " [  559  1188  2725   550  1649   373   728   404   324   226   267   253\n",
      "     50   118   190  3051   151   104   191   163]\n",
      " [  629  2702  2854   612   632  1134   739   364   259   351   233   295\n",
      "    112   140   317   180   752   256   171   226]\n",
      " [  285   617   441   296   255   185   133   273   108    93    85   126\n",
      "     25    62    85    53    47  9455    36    54]\n",
      " [  293   783   930   267   630   195   329   356   146   121  5155   197\n",
      "     78    51   124   155    78   101  3085    68]\n",
      " [  510  1964  3251   811   659   644   778   362   307   307   197   280\n",
      "    115   162   481   225   278   189   189   488]]\n"
     ]
    }
   ],
   "source": [
    "# Crossvalidates the performance of the above pipe on the English data/labels using 5 folds and returns\n",
    "# a list containing the predictions for each label; this is used in a confusion matrix\n",
    "y_pred = cross_val_predict(pipe,eng_text,eng_labels,cv=5, n_jobs=-1)\n",
    "conf_mat = confusion_matrix(eng_labels,y_pred)\n",
    "print(conf_mat)"
   ]
  },
  {
   "cell_type": "code",
   "execution_count": 96,
   "metadata": {
    "scrolled": true
   },
   "outputs": [
    {
     "data": {
      "text/plain": [
       "<matplotlib.axes._subplots.AxesSubplot at 0x1202bc828>"
      ]
     },
     "execution_count": 96,
     "metadata": {},
     "output_type": "execute_result"
    },
    {
     "data": {
      "image/png": "[encoded data removed]",
      "text/plain": [
       "<matplotlib.figure.Figure at 0x125a39ef0>"
      ]
     },
     "metadata": {},
     "output_type": "display_data"
    }
   ],
   "source": [
    "# visualizes the above confusion matrix\n",
    "df_cm = pd.DataFrame(conf_mat, index = [i for i in set(eng_labels)], columns = [i for i in set(eng_labels)])\n",
    "plt.figure(figsize= (10,7))\n",
    "sn.heatmap(df_cm, annot=False)"
   ]
  },
  {
   "cell_type": "code",
   "execution_count": 97,
   "metadata": {
    "scrolled": true
   },
   "outputs": [
    {
     "name": "stdout",
     "output_type": "stream",
     "text": [
      "             precision    recall  f1-score   support\n",
      "\n",
      "          0       0.77      0.83      0.80    106466\n",
      "          1       0.32      0.45      0.37     51327\n",
      "          2       0.44      0.59      0.51     50437\n",
      "          3       0.24      0.28      0.26     27067\n",
      "          4       0.47      0.55      0.50     24426\n",
      "          5       0.19      0.14      0.16     23112\n",
      "          6       0.22      0.17      0.19     21118\n",
      "          7       0.31      0.27      0.29     18162\n",
      "          8       0.25      0.18      0.21     16846\n",
      "          9       0.21      0.15      0.17     15985\n",
      "         10       0.44      0.56      0.49     15947\n",
      "         11       0.56      0.62      0.59     15182\n",
      "         12       0.57      0.40      0.47     13717\n",
      "         13       0.25      0.12      0.16     12839\n",
      "         14       0.15      0.07      0.10     13359\n",
      "         15       0.36      0.23      0.28     13264\n",
      "         16       0.14      0.06      0.08     12958\n",
      "         17       0.61      0.74      0.67     12714\n",
      "         18       0.34      0.23      0.28     13142\n",
      "         19       0.11      0.04      0.06     12197\n",
      "\n",
      "avg / total       0.43      0.45      0.43    490265\n",
      "\n"
     ]
    }
   ],
   "source": [
    "# prints a report detailing precision/recall and f-score of the pipeline\n",
    "print(classification_report(eng_labels, y_pred))"
   ]
  },
  {
   "cell_type": "markdown",
   "metadata": {},
   "source": [
    "## tf-idf, bi-grams, part-of-speech tagging and dimensionality reduction"
   ]
  },
  {
   "cell_type": "markdown",
   "metadata": {},
   "source": [
    "### with n = 100"
   ]
  },
  {
   "cell_type": "code",
   "execution_count": 69,
   "metadata": {
    "collapsed": true
   },
   "outputs": [],
   "source": [
    "from sklearn.decomposition import TruncatedSVD"
   ]
  },
  {
   "cell_type": "code",
   "execution_count": 70,
   "metadata": {
    "collapsed": true
   },
   "outputs": [],
   "source": [
    "test_set_size = int(len(eng_text) * 0.1)\n",
    "eng_text_10 = eng_text[:test_set_size]\n",
    "eng_labels_10 = eng_labels[:test_set_size]"
   ]
  },
  {
   "cell_type": "code",
   "execution_count": 71,
   "metadata": {
    "collapsed": true
   },
   "outputs": [],
   "source": [
    "assert len(eng_text_10) == len(eng_labels_10)"
   ]
  },
  {
   "cell_type": "code",
   "execution_count": 72,
   "metadata": {
    "collapsed": true
   },
   "outputs": [],
   "source": [
    "# loads the spaCy English parser\n",
    "parser = English()"
   ]
  },
  {
   "cell_type": "code",
   "execution_count": 73,
   "metadata": {
    "collapsed": true
   },
   "outputs": [],
   "source": [
    "# tokenizes an input tweet using the spaCy English parser;\n",
    "# returns a list of tokenized words with the POS tag attached to the word in 'word_POS' format\n",
    "def spacy_tokenize(tweet):\n",
    "    tokens = parser(tweet)\n",
    "    tokens = [token.text +'_' + token.pos_ for token in tokens]\n",
    "    return tokens"
   ]
  },
  {
   "cell_type": "code",
   "execution_count": 74,
   "metadata": {},
   "outputs": [],
   "source": [
    "# pipeline used to gather counts of all bi-grams with each word labeled with POS in the dataset; \n",
    "# this is then normalized with tf-idf and each document is vectorized using TfidfVectorizer; \n",
    "# predict the labels using Linear Support Vector Machines\n",
    "pipe = Pipeline([('tfidf', TfidfVectorizer(tokenizer=spacy_tokenize, ngram_range=(1,2))),\n",
    "                 ('svd', TruncatedSVD(n_components=100)),\n",
    "                 ('clf', LinearSVC())])"
   ]
  },
  {
   "cell_type": "code",
   "execution_count": 75,
   "metadata": {},
   "outputs": [
    {
     "name": "stdout",
     "output_type": "stream",
     "text": [
      "[ 0.31702843  0.31297788  0.30797471  0.31564987  0.31563904]\n",
      "Accuracy: 0.31 (+/- 0.01)\n"
     ]
    }
   ],
   "source": [
    "# Crossvalidates the performance of the above pipe on the English data/labels using 5 folds\n",
    "# prints the scores for each cross-section and the average accuracy\n",
    "scores = cross_val_score(pipe, eng_text_10, eng_labels_10, cv=5, n_jobs=-1)\n",
    "print(scores)\n",
    "print(\"Accuracy: %0.2f (+/- %0.2f)\" % (scores.mean(), scores.std() * 2))"
   ]
  },
  {
   "cell_type": "code",
   "execution_count": 76,
   "metadata": {},
   "outputs": [
    {
     "name": "stdout",
     "output_type": "stream",
     "text": [
      "[[9361  592  389   70   74   28    1   14    2    5   83   35   56    0\n",
      "     0    0    0   80    9    0]\n",
      " [2189 1355  841   82  184   31    3   38    3    8  150   48  108    0\n",
      "     0    0    1   73   14    0]\n",
      " [1331  727 2292   47  170   29    9   10    7    7  176   40   47    0\n",
      "     2    0    2   53   19    0]\n",
      " [1397  479  329  166   82   29    1   24    6   11   47   32   43    0\n",
      "     0    0    0   34    4    0]\n",
      " [ 719  385  584   33  479    9    1    6    5    1  146   27   28    0\n",
      "     0    0    0   26   15    0]\n",
      " [ 933  532  438   46   92   58    1   10    3   19   55   31   64    0\n",
      "     0    1    3   40   11    0]\n",
      " [ 706  468  428   42   97   27    5   14    5    6   56   50  113    0\n",
      "     0    0    1   29   10    0]\n",
      " [ 672  386  358   53   87   10    5   73    2    5   92   31   43    0\n",
      "     1    0    0   37    4    0]\n",
      " [ 826  318  204   70   46   15    4   15    4    6   25   25   57    0\n",
      "     0    0    0   22    2    0]\n",
      " [ 826  259  233   66   40   35    0    4    1   17   44   19   27    0\n",
      "     1    0    0   20    3    0]\n",
      " [ 281  121  143    2   74   11    1    5    1    1  813   16   22    0\n",
      "     1    0    0   13   50    0]\n",
      " [ 598  320  209   26   49   22    3    7    4    4   44  105   75    0\n",
      "     0    0    2   25    5    0]\n",
      " [1142   54   59    7   13   12    1    2    0    0    8    6   95    0\n",
      "     0    0    0    2    0    0]\n",
      " [ 705  245  158   47   30   14    0    9    3    9   30   13   21    0\n",
      "     1    0    1   15    4    0]\n",
      " [ 470  178  424   26   56   15    1    5    1    8   35   18   19    0\n",
      "     1    1    1   21    4    0]\n",
      " [ 474  196  390   36   85   12    3    2    3    3   43   28   18    0\n",
      "     0    0    0   16    7    0]\n",
      " [ 455  314  346   15   42   16    3   13    3    2   37   19   29    0\n",
      "     0    0    2   27    4    0]\n",
      " [ 333  194  130   17   45    6    1    7    0    1   22   16   13    0\n",
      "     0    0    1  511    1    0]\n",
      " [ 257  112  155   11   81    6    1    2    2    3  584   13   13    0\n",
      "     1    0    0   15   50    0]\n",
      " [ 460  209  350   27   46   13    4    8    1    2   32   12   16    0\n",
      "     1    0    1   21    3    0]]\n"
     ]
    }
   ],
   "source": [
    "# Crossvalidates the performance of the above pipe on the English data/labels using 5 folds and returns\n",
    "# a list containing the predictions for each label; this is used in a confusion matrix\n",
    "y_pred = cross_val_predict(pipe,eng_text_10,eng_labels_10,cv=5, n_jobs=-1)\n",
    "conf_mat = confusion_matrix(eng_labels_10,y_pred)\n",
    "print(conf_mat)"
   ]
  },
  {
   "cell_type": "code",
   "execution_count": 77,
   "metadata": {},
   "outputs": [
    {
     "data": {
      "text/plain": [
       "<matplotlib.axes._subplots.AxesSubplot at 0x116fea278>"
      ]
     },
     "execution_count": 77,
     "metadata": {},
     "output_type": "execute_result"
    },
    {
     "data": {
      "image/png": "[encoded data removed]",
      "text/plain": [
       "<matplotlib.figure.Figure at 0x158d36c88>"
      ]
     },
     "metadata": {},
     "output_type": "display_data"
    }
   ],
   "source": [
    "# visualizes the above confusion matrix\n",
    "df_cm = pd.DataFrame(conf_mat, index = [i for i in set(eng_labels_10)], columns = [i for i in set(eng_labels_10)])\n",
    "plt.figure(figsize= (10,7))\n",
    "sn.heatmap(df_cm, annot=False)"
   ]
  },
  {
   "cell_type": "code",
   "execution_count": 78,
   "metadata": {
    "scrolled": true
   },
   "outputs": [
    {
     "name": "stdout",
     "output_type": "stream",
     "text": [
      "             precision    recall  f1-score   support\n",
      "\n",
      "          0       0.39      0.87      0.54     10799\n",
      "          1       0.18      0.26      0.22      5128\n",
      "          2       0.27      0.46      0.34      4968\n",
      "          3       0.19      0.06      0.09      2684\n",
      "          4       0.26      0.19      0.22      2464\n",
      "          5       0.15      0.02      0.04      2337\n",
      "          6       0.10      0.00      0.00      2057\n",
      "          7       0.27      0.04      0.07      1859\n",
      "          8       0.07      0.00      0.00      1639\n",
      "          9       0.14      0.01      0.02      1595\n",
      "         10       0.32      0.52      0.40      1555\n",
      "         11       0.18      0.07      0.10      1498\n",
      "         12       0.10      0.07      0.08      1401\n",
      "         13       0.00      0.00      0.00      1305\n",
      "         14       0.11      0.00      0.00      1284\n",
      "         15       0.00      0.00      0.00      1316\n",
      "         16       0.13      0.00      0.00      1327\n",
      "         17       0.47      0.39      0.43      1298\n",
      "         18       0.23      0.04      0.07      1306\n",
      "         19       0.00      0.00      0.00      1206\n",
      "\n",
      "avg / total       0.23      0.31      0.23     49026\n",
      "\n"
     ]
    },
    {
     "name": "stderr",
     "output_type": "stream",
     "text": [
      "/Users/kennylino/.local/share/virtualenvs/emojiprediction-SvmtXtCx/lib/python3.6/site-packages/sklearn/metrics/classification.py:1135: UndefinedMetricWarning: Precision and F-score are ill-defined and being set to 0.0 in labels with no predicted samples.\n",
      "  'precision', 'predicted', average, warn_for)\n"
     ]
    }
   ],
   "source": [
    "# prints a report detailing precision/recall and f-score of the pipeline\n",
    "print(classification_report(eng_labels_10, y_pred))"
   ]
  },
  {
   "cell_type": "markdown",
   "metadata": {},
   "source": [
    "### n = 500"
   ]
  },
  {
   "cell_type": "code",
   "execution_count": 79,
   "metadata": {
    "collapsed": true
   },
   "outputs": [],
   "source": [
    "from sklearn.decomposition import TruncatedSVD"
   ]
  },
  {
   "cell_type": "code",
   "execution_count": 80,
   "metadata": {
    "collapsed": true
   },
   "outputs": [],
   "source": [
    "test_set_size = int(len(eng_text) * 0.1)\n",
    "eng_text_10 = eng_text[:test_set_size]\n",
    "eng_labels_10 = eng_labels[:test_set_size]"
   ]
  },
  {
   "cell_type": "code",
   "execution_count": 81,
   "metadata": {
    "collapsed": true
   },
   "outputs": [],
   "source": [
    "assert len(eng_text_10) == len(eng_labels_10)"
   ]
  },
  {
   "cell_type": "code",
   "execution_count": 82,
   "metadata": {
    "collapsed": true
   },
   "outputs": [],
   "source": [
    "# loads the spaCy English parser\n",
    "parser = English()"
   ]
  },
  {
   "cell_type": "code",
   "execution_count": 83,
   "metadata": {
    "collapsed": true
   },
   "outputs": [],
   "source": [
    "# tokenizes an input tweet using the spaCy English parser;\n",
    "# returns a list of tokenized words with the POS tag attached to the word in 'word_POS' format\n",
    "def spacy_tokenize(tweet):\n",
    "    tokens = parser(tweet)\n",
    "    tokens = [token.text +'_' + token.pos_ for token in tokens]\n",
    "    return tokens"
   ]
  },
  {
   "cell_type": "code",
   "execution_count": 84,
   "metadata": {
    "collapsed": true
   },
   "outputs": [],
   "source": [
    "# pipeline used to gather counts of all bi-grams with each word labeled with POS in the dataset; \n",
    "# this is then normalized with tf-idf and each document is vectorized using TfidfVectorizer; \n",
    "# predict the labels using Linear Support Vector Machines\n",
    "pipe = Pipeline([('tfidf', TfidfVectorizer(tokenizer=spacy_tokenize, ngram_range=(1,2))),\n",
    "                 ('svd', TruncatedSVD(n_components=500)),\n",
    "                 ('clf', LinearSVC())])"
   ]
  },
  {
   "cell_type": "code",
   "execution_count": 85,
   "metadata": {},
   "outputs": [
    {
     "name": "stdout",
     "output_type": "stream",
     "text": [
      "[ 0.37236319  0.36751962  0.37568835  0.37308713  0.37433646]\n",
      "Accuracy: 0.37 (+/- 0.01)\n"
     ]
    }
   ],
   "source": [
    "# Crossvalidates the performance of the above pipe on the English data/labels using 5 folds\n",
    "# prints the scores for each cross-section and the average accuracy\n",
    "scores = cross_val_score(pipe, eng_text_10, eng_labels_10, cv=5, n_jobs=-1)\n",
    "print(scores)\n",
    "print(\"Accuracy: %0.2f (+/- %0.2f)\" % (scores.mean(), scores.std() * 2))"
   ]
  },
  {
   "cell_type": "code",
   "execution_count": 86,
   "metadata": {},
   "outputs": [
    {
     "name": "stdout",
     "output_type": "stream",
     "text": [
      "[[8899  700  353  219  110   49   22   35   20   25   67   98   75    2\n",
      "     5    9    1   86   24    0]\n",
      " [ 863 2121  777  243  270   78   54   83   55   22  163  140   86    2\n",
      "    10   12   10   94   44    1]\n",
      " [ 466  834 2623  140  275   64   55   31   26   21  136  102   45    0\n",
      "    10   28    7   66   38    1]\n",
      " [ 622  644  329  550  106   53   29   46   38   41   50   61   39    1\n",
      "     5    9    4   38   17    2]\n",
      " [ 199  368  445   91  987   16   29   19   18    3  126   52   30    0\n",
      "     7   12    2   21   36    3]\n",
      " [ 414  642  438  152  128  120   42   29   35   23   59  108   56    0\n",
      "     3    8    9   50   18    3]\n",
      " [ 263  538  440   98  169   44   58   35   37    9   65  101  108    1\n",
      "     4   19    7   38   21    2]\n",
      " [ 253  452  291  130  166   26   40  133   19   15   92   79   39    1\n",
      "     7   16    4   70   25    1]\n",
      " [ 391  431  174  199   86   28   22   25   75   18   38   74   32    1\n",
      "     6    6    1   27    5    0]\n",
      " [ 388  390  222  203   74   60   21   15   19   53   34   39   17    2\n",
      "     3    6    3   30   16    0]\n",
      " [ 110  162  142   15   93   12    9    8    5    5  788   23   20    1\n",
      "     2    2    0   15  143    0]\n",
      " [ 134  298  183   43   78   30   26   19   15    5   37  557   37    0\n",
      "     0    5    2   18   11    0]\n",
      " [1024   50   27    6   10    9    6    3    1    0   11    9  242    0\n",
      "     1    0    0    1    1    0]\n",
      " [ 337  345  163  167   59   22   15   17   24   17   36   42   26    0\n",
      "     2    4    2   17   10    0]\n",
      " [ 192  264  394   67   89   35   30   20   15   14   45   54   24    0\n",
      "     7    7    3   16    8    0]\n",
      " [ 177  236  391   71  169   25   18   21   29    8   51   34   10    1\n",
      "     2   44    3    8   17    1]\n",
      " [ 195  366  356   53   70   43   26   23   12    8   40   42   25    1\n",
      "     7    4   14   29   10    3]\n",
      " [  80  133   90   43   41    9   15    8    8    2   14   18    6    0\n",
      "     2    2    1  821    5    0]\n",
      " [  97  137  150   27  102   12   12    7    5    6  517   25   10    0\n",
      "     3    7    0   16  173    0]\n",
      " [ 169  283  372   67   82   28   26   17   15   10   32   34   18    0\n",
      "     7    6    4   21   13    2]]\n"
     ]
    }
   ],
   "source": [
    "# Crossvalidates the performance of the above pipe on the English data/labels using 5 folds and returns\n",
    "# a list containing the predictions for each label; this is used in a confusion matrix\n",
    "y_pred = cross_val_predict(pipe,eng_text_10,eng_labels_10,cv=5, n_jobs=-1)\n",
    "conf_mat = confusion_matrix(eng_labels_10,y_pred)\n",
    "print(conf_mat)"
   ]
  },
  {
   "cell_type": "code",
   "execution_count": 87,
   "metadata": {},
   "outputs": [
    {
     "data": {
      "text/plain": [
       "<matplotlib.axes._subplots.AxesSubplot at 0x125a39ac8>"
      ]
     },
     "execution_count": 87,
     "metadata": {},
     "output_type": "execute_result"
    },
    {
     "data": {
      "image/png": "[encoded data removed]",
      "text/plain": [
       "<matplotlib.figure.Figure at 0x111030a90>"
      ]
     },
     "metadata": {},
     "output_type": "display_data"
    }
   ],
   "source": [
    "# visualizes the above confusion matrix\n",
    "df_cm = pd.DataFrame(conf_mat, index = [i for i in set(eng_labels_10)], columns = [i for i in set(eng_labels_10)])\n",
    "plt.figure(figsize= (10,7))\n",
    "sn.heatmap(df_cm, annot=False)"
   ]
  },
  {
   "cell_type": "code",
   "execution_count": 88,
   "metadata": {
    "scrolled": true
   },
   "outputs": [
    {
     "name": "stdout",
     "output_type": "stream",
     "text": [
      "             precision    recall  f1-score   support\n",
      "\n",
      "          0       0.58      0.82      0.68     10799\n",
      "          1       0.23      0.41      0.29      5128\n",
      "          2       0.31      0.53      0.39      4968\n",
      "          3       0.21      0.20      0.21      2684\n",
      "          4       0.31      0.40      0.35      2464\n",
      "          5       0.16      0.05      0.08      2337\n",
      "          6       0.10      0.03      0.04      2057\n",
      "          7       0.22      0.07      0.11      1859\n",
      "          8       0.16      0.05      0.07      1639\n",
      "          9       0.17      0.03      0.06      1595\n",
      "         10       0.33      0.51      0.40      1555\n",
      "         11       0.33      0.37      0.35      1498\n",
      "         12       0.26      0.17      0.21      1401\n",
      "         13       0.00      0.00      0.00      1305\n",
      "         14       0.08      0.01      0.01      1284\n",
      "         15       0.21      0.03      0.06      1316\n",
      "         16       0.18      0.01      0.02      1327\n",
      "         17       0.55      0.63      0.59      1298\n",
      "         18       0.27      0.13      0.18      1306\n",
      "         19       0.11      0.00      0.00      1206\n",
      "\n",
      "avg / total       0.31      0.37      0.32     49026\n",
      "\n"
     ]
    }
   ],
   "source": [
    "# prints a report detailing precision/recall and f-score of the pipeline\n",
    "print(classification_report(eng_labels_10, y_pred))"
   ]
  },
  {
   "cell_type": "markdown",
   "metadata": {},
   "source": [
    "## tf-idf, bi-grams and part-of-speech tagging with balanced dataset"
   ]
  },
  {
   "cell_type": "code",
   "execution_count": 37,
   "metadata": {
    "collapsed": true
   },
   "outputs": [],
   "source": [
    "# puts the English text and labels data into a pandas DataFrame\n",
    "eng_data_df = pd.DataFrame([eng_text, eng_labels]).transpose()\n",
    "eng_data_df.columns = (['text', 'label'])"
   ]
  },
  {
   "cell_type": "code",
   "execution_count": 38,
   "metadata": {},
   "outputs": [
    {
     "data": {
      "text/html": [
       "<div>\n",
       "<style scoped>\n",
       "    .dataframe tbody tr th:only-of-type {\n",
       "        vertical-align: middle;\n",
       "    }\n",
       "\n",
       "    .dataframe tbody tr th {\n",
       "        vertical-align: top;\n",
       "    }\n",
       "\n",
       "    .dataframe thead th {\n",
       "        text-align: right;\n",
       "    }\n",
       "</style>\n",
       "<table border=\"1\" class=\"dataframe\">\n",
       "  <thead>\n",
       "    <tr style=\"text-align: right;\">\n",
       "      <th></th>\n",
       "      <th>text</th>\n",
       "      <th>label</th>\n",
       "    </tr>\n",
       "  </thead>\n",
       "  <tbody>\n",
       "    <tr>\n",
       "      <th>49847</th>\n",
       "      <td>Love is all you need # ️ @ Downtown Miami</td>\n",
       "      <td>0</td>\n",
       "    </tr>\n",
       "    <tr>\n",
       "      <th>255815</th>\n",
       "      <td>My dreams have come true! It's a giant #kirby ...</td>\n",
       "      <td>0</td>\n",
       "    </tr>\n",
       "    <tr>\n",
       "      <th>208768</th>\n",
       "      <td>These are a few of my favorite things ️ ️ joan...</td>\n",
       "      <td>0</td>\n",
       "    </tr>\n",
       "    <tr>\n",
       "      <th>6505</th>\n",
       "      <td>This guy. This place. ️ ️ ️ #movember #palodur...</td>\n",
       "      <td>0</td>\n",
       "    </tr>\n",
       "    <tr>\n",
       "      <th>93077</th>\n",
       "      <td>St. Louis Ribs at charlieandjakesbeachside -- ...</td>\n",
       "      <td>0</td>\n",
       "    </tr>\n",
       "    <tr>\n",
       "      <th>315923</th>\n",
       "      <td>Farewell drink with the Zeno group. I'll miss ...</td>\n",
       "      <td>0</td>\n",
       "    </tr>\n",
       "    <tr>\n",
       "      <th>33228</th>\n",
       "      <td>Feels so good to be back (and this time to sta...</td>\n",
       "      <td>0</td>\n",
       "    </tr>\n",
       "    <tr>\n",
       "      <th>83512</th>\n",
       "      <td>That's my spot dood....lol ️️ #socialmedia #so...</td>\n",
       "      <td>0</td>\n",
       "    </tr>\n",
       "    <tr>\n",
       "      <th>466450</th>\n",
       "      <td>Because I ️ this. #mondaymotivation #god #thed...</td>\n",
       "      <td>0</td>\n",
       "    </tr>\n",
       "    <tr>\n",
       "      <th>290952</th>\n",
       "      <td>An afternoon date with a very pretty girl ️ #s...</td>\n",
       "      <td>0</td>\n",
       "    </tr>\n",
       "    <tr>\n",
       "      <th>106948</th>\n",
       "      <td>We finally have some holiday sales going on Fo...</td>\n",
       "      <td>0</td>\n",
       "    </tr>\n",
       "    <tr>\n",
       "      <th>54446</th>\n",
       "      <td>️ ️ ️ @ Oak Run/Spoon Lake</td>\n",
       "      <td>0</td>\n",
       "    </tr>\n",
       "    <tr>\n",
       "      <th>117579</th>\n",
       "      <td>I love NYC ️ @ Flat Iron Building</td>\n",
       "      <td>0</td>\n",
       "    </tr>\n",
       "    <tr>\n",
       "      <th>49983</th>\n",
       "      <td>Happy Birthday to my special girl @ Molson Can...</td>\n",
       "      <td>0</td>\n",
       "    </tr>\n",
       "    <tr>\n",
       "      <th>37497</th>\n",
       "      <td>Tonight was incredible ️ @ Gas Monkey Dallas</td>\n",
       "      <td>0</td>\n",
       "    </tr>\n",
       "    <tr>\n",
       "      <th>28113</th>\n",
       "      <td>The most amazing girl ever. @ Chicago, Illinois</td>\n",
       "      <td>0</td>\n",
       "    </tr>\n",
       "    <tr>\n",
       "      <th>239397</th>\n",
       "      <td>Thank you for capturing this moment @user ️ #m...</td>\n",
       "      <td>0</td>\n",
       "    </tr>\n",
       "    <tr>\n",
       "      <th>12392</th>\n",
       "      <td>I love my family! ️ ️ ️ ️ ️#blessed #lovemylif...</td>\n",
       "      <td>0</td>\n",
       "    </tr>\n",
       "    <tr>\n",
       "      <th>234762</th>\n",
       "      <td>Chocolate custard. ️ @ The Bigg Chill Frozen Y...</td>\n",
       "      <td>0</td>\n",
       "    </tr>\n",
       "    <tr>\n",
       "      <th>325980</th>\n",
       "      <td>#bosschick #facial#upperwestsideLora's Skin St...</td>\n",
       "      <td>0</td>\n",
       "    </tr>\n",
       "    <tr>\n",
       "      <th>27950</th>\n",
       "      <td>I love you as big as this chair, sweet boy ️ @...</td>\n",
       "      <td>0</td>\n",
       "    </tr>\n",
       "    <tr>\n",
       "      <th>23398</th>\n",
       "      <td>Pictures don't do any justice on what we saw t...</td>\n",
       "      <td>0</td>\n",
       "    </tr>\n",
       "    <tr>\n",
       "      <th>173933</th>\n",
       "      <td>Congrats to baby sis and the rest of West Bran...</td>\n",
       "      <td>0</td>\n",
       "    </tr>\n",
       "    <tr>\n",
       "      <th>427312</th>\n",
       "      <td>Sharing the Biscuit Love with the one and only...</td>\n",
       "      <td>0</td>\n",
       "    </tr>\n",
       "    <tr>\n",
       "      <th>400174</th>\n",
       "      <td>a very happy birthday to my best friend ️ @ Sw...</td>\n",
       "      <td>0</td>\n",
       "    </tr>\n",
       "    <tr>\n",
       "      <th>61938</th>\n",
       "      <td>Worry is a misuse of your imagination. ️ @ Gra...</td>\n",
       "      <td>0</td>\n",
       "    </tr>\n",
       "    <tr>\n",
       "      <th>56606</th>\n",
       "      <td>With my right hand girls ️ #theater @ Minetta ...</td>\n",
       "      <td>0</td>\n",
       "    </tr>\n",
       "    <tr>\n",
       "      <th>8798</th>\n",
       "      <td>Friends forever ️ #fun #christmas #malibu #cel...</td>\n",
       "      <td>0</td>\n",
       "    </tr>\n",
       "    <tr>\n",
       "      <th>28749</th>\n",
       "      <td>Have a good Hump Day Beautiful Gramers! #1LUV ...</td>\n",
       "      <td>0</td>\n",
       "    </tr>\n",
       "    <tr>\n",
       "      <th>386577</th>\n",
       "      <td>attempting to capture this priceless moments ️...</td>\n",
       "      <td>0</td>\n",
       "    </tr>\n",
       "    <tr>\n",
       "      <th>...</th>\n",
       "      <td>...</td>\n",
       "      <td>...</td>\n",
       "    </tr>\n",
       "    <tr>\n",
       "      <th>277106</th>\n",
       "      <td>By Far the nicest Dublin I've been to! Lovely ...</td>\n",
       "      <td>19</td>\n",
       "    </tr>\n",
       "    <tr>\n",
       "      <th>390173</th>\n",
       "      <td>When you and your best friend are both ratchet...</td>\n",
       "      <td>19</td>\n",
       "    </tr>\n",
       "    <tr>\n",
       "      <th>468833</th>\n",
       "      <td>Tonight's dinner @ Chicken Charlie's Frybq</td>\n",
       "      <td>19</td>\n",
       "    </tr>\n",
       "    <tr>\n",
       "      <th>82042</th>\n",
       "      <td>Zip-lining through Vegas with these crazy fool...</td>\n",
       "      <td>19</td>\n",
       "    </tr>\n",
       "    <tr>\n",
       "      <th>105757</th>\n",
       "      <td>Watching \"Shrink,\" a personal fav of Mr. &amp;amp;...</td>\n",
       "      <td>19</td>\n",
       "    </tr>\n",
       "    <tr>\n",
       "      <th>362892</th>\n",
       "      <td>Designer in Designer. Niceeee. #fendi #kozik #...</td>\n",
       "      <td>19</td>\n",
       "    </tr>\n",
       "    <tr>\n",
       "      <th>121440</th>\n",
       "      <td>I was asked to bring a green salad to a dinner...</td>\n",
       "      <td>19</td>\n",
       "    </tr>\n",
       "    <tr>\n",
       "      <th>178551</th>\n",
       "      <td>Jeff! Where's my money?!? (@ Tightwad Bank in ...</td>\n",
       "      <td>19</td>\n",
       "    </tr>\n",
       "    <tr>\n",
       "      <th>280029</th>\n",
       "      <td>My James Bond for the night! #shakeitnotstirre...</td>\n",
       "      <td>19</td>\n",
       "    </tr>\n",
       "    <tr>\n",
       "      <th>228062</th>\n",
       "      <td>Work is fun! lucidpsychedelia ganeshatexas #Fr...</td>\n",
       "      <td>19</td>\n",
       "    </tr>\n",
       "    <tr>\n",
       "      <th>385730</th>\n",
       "      <td>Sometimes the stupid early hours of the mornin...</td>\n",
       "      <td>19</td>\n",
       "    </tr>\n",
       "    <tr>\n",
       "      <th>425764</th>\n",
       "      <td>He's single lady's @ Forest Lake, Minnesota</td>\n",
       "      <td>19</td>\n",
       "    </tr>\n",
       "    <tr>\n",
       "      <th>326003</th>\n",
       "      <td>Throwback Thursday! Conquering the Bunny Slope...</td>\n",
       "      <td>19</td>\n",
       "    </tr>\n",
       "    <tr>\n",
       "      <th>95759</th>\n",
       "      <td>Morning smoothie will get me going on long run...</td>\n",
       "      <td>19</td>\n",
       "    </tr>\n",
       "    <tr>\n",
       "      <th>44228</th>\n",
       "      <td>Took one in the face for #nationalpieday I WIL...</td>\n",
       "      <td>19</td>\n",
       "    </tr>\n",
       "    <tr>\n",
       "      <th>342561</th>\n",
       "      <td>@user you're my friend so of course you'd say ...</td>\n",
       "      <td>19</td>\n",
       "    </tr>\n",
       "    <tr>\n",
       "      <th>178088</th>\n",
       "      <td>stacks, on stacks, on stacks.... Bracelet stac...</td>\n",
       "      <td>19</td>\n",
       "    </tr>\n",
       "    <tr>\n",
       "      <th>58373</th>\n",
       "      <td>Under New Management with guest DJ Sylva I'll ...</td>\n",
       "      <td>19</td>\n",
       "    </tr>\n",
       "    <tr>\n",
       "      <th>27272</th>\n",
       "      <td>Little early 4 crafts @user @user ! #goodtimes...</td>\n",
       "      <td>19</td>\n",
       "    </tr>\n",
       "    <tr>\n",
       "      <th>392534</th>\n",
       "      <td>Band t's + blazers 4ever @ Long Beach Shore, C...</td>\n",
       "      <td>19</td>\n",
       "    </tr>\n",
       "    <tr>\n",
       "      <th>273285</th>\n",
       "      <td>Last pic for the night promise!!!! (Don't hate...</td>\n",
       "      <td>19</td>\n",
       "    </tr>\n",
       "    <tr>\n",
       "      <th>190554</th>\n",
       "      <td>came home to this fatso starin at me. lol. my ...</td>\n",
       "      <td>19</td>\n",
       "    </tr>\n",
       "    <tr>\n",
       "      <th>109662</th>\n",
       "      <td>He was cheesing hard bc I told him dinner was ...</td>\n",
       "      <td>19</td>\n",
       "    </tr>\n",
       "    <tr>\n",
       "      <th>246827</th>\n",
       "      <td>just a couple of scrubs @ Plano Senior High Sc...</td>\n",
       "      <td>19</td>\n",
       "    </tr>\n",
       "    <tr>\n",
       "      <th>87067</th>\n",
       "      <td>3 blondes, 1 brunette -- the sequel @ Michigan...</td>\n",
       "      <td>19</td>\n",
       "    </tr>\n",
       "    <tr>\n",
       "      <th>44626</th>\n",
       "      <td>#stakzwisdom ~ Since it's half the price, it's...</td>\n",
       "      <td>19</td>\n",
       "    </tr>\n",
       "    <tr>\n",
       "      <th>128497</th>\n",
       "      <td>This pretty much describes our relationship th...</td>\n",
       "      <td>19</td>\n",
       "    </tr>\n",
       "    <tr>\n",
       "      <th>249389</th>\n",
       "      <td>My hair is out of control. Will be filming my ...</td>\n",
       "      <td>19</td>\n",
       "    </tr>\n",
       "    <tr>\n",
       "      <th>309393</th>\n",
       "      <td>@user Snap saw my impersonation of my Kylie po...</td>\n",
       "      <td>19</td>\n",
       "    </tr>\n",
       "    <tr>\n",
       "      <th>134826</th>\n",
       "      <td>My jacket is three times smaller &amp;amp; you see...</td>\n",
       "      <td>19</td>\n",
       "    </tr>\n",
       "  </tbody>\n",
       "</table>\n",
       "<p>243940 rows × 2 columns</p>\n",
       "</div>"
      ],
      "text/plain": [
       "                                                     text label\n",
       "49847           Love is all you need # ️ @ Downtown Miami     0\n",
       "255815  My dreams have come true! It's a giant #kirby ...     0\n",
       "208768  These are a few of my favorite things ️ ️ joan...     0\n",
       "6505    This guy. This place. ️ ️ ️ #movember #palodur...     0\n",
       "93077   St. Louis Ribs at charlieandjakesbeachside -- ...     0\n",
       "315923  Farewell drink with the Zeno group. I'll miss ...     0\n",
       "33228   Feels so good to be back (and this time to sta...     0\n",
       "83512   That's my spot dood....lol ️️ #socialmedia #so...     0\n",
       "466450  Because I ️ this. #mondaymotivation #god #thed...     0\n",
       "290952  An afternoon date with a very pretty girl ️ #s...     0\n",
       "106948  We finally have some holiday sales going on Fo...     0\n",
       "54446                          ️ ️ ️ @ Oak Run/Spoon Lake     0\n",
       "117579                  I love NYC ️ @ Flat Iron Building     0\n",
       "49983   Happy Birthday to my special girl @ Molson Can...     0\n",
       "37497        Tonight was incredible ️ @ Gas Monkey Dallas     0\n",
       "28113     The most amazing girl ever. @ Chicago, Illinois     0\n",
       "239397  Thank you for capturing this moment @user ️ #m...     0\n",
       "12392   I love my family! ️ ️ ️ ️ ️#blessed #lovemylif...     0\n",
       "234762  Chocolate custard. ️ @ The Bigg Chill Frozen Y...     0\n",
       "325980  #bosschick #facial#upperwestsideLora's Skin St...     0\n",
       "27950   I love you as big as this chair, sweet boy ️ @...     0\n",
       "23398   Pictures don't do any justice on what we saw t...     0\n",
       "173933  Congrats to baby sis and the rest of West Bran...     0\n",
       "427312  Sharing the Biscuit Love with the one and only...     0\n",
       "400174  a very happy birthday to my best friend ️ @ Sw...     0\n",
       "61938   Worry is a misuse of your imagination. ️ @ Gra...     0\n",
       "56606   With my right hand girls ️ #theater @ Minetta ...     0\n",
       "8798    Friends forever ️ #fun #christmas #malibu #cel...     0\n",
       "28749   Have a good Hump Day Beautiful Gramers! #1LUV ...     0\n",
       "386577  attempting to capture this priceless moments ️...     0\n",
       "...                                                   ...   ...\n",
       "277106  By Far the nicest Dublin I've been to! Lovely ...    19\n",
       "390173  When you and your best friend are both ratchet...    19\n",
       "468833         Tonight's dinner @ Chicken Charlie's Frybq    19\n",
       "82042   Zip-lining through Vegas with these crazy fool...    19\n",
       "105757  Watching \"Shrink,\" a personal fav of Mr. &amp;...    19\n",
       "362892  Designer in Designer. Niceeee. #fendi #kozik #...    19\n",
       "121440  I was asked to bring a green salad to a dinner...    19\n",
       "178551  Jeff! Where's my money?!? (@ Tightwad Bank in ...    19\n",
       "280029  My James Bond for the night! #shakeitnotstirre...    19\n",
       "228062  Work is fun! lucidpsychedelia ganeshatexas #Fr...    19\n",
       "385730  Sometimes the stupid early hours of the mornin...    19\n",
       "425764        He's single lady's @ Forest Lake, Minnesota    19\n",
       "326003  Throwback Thursday! Conquering the Bunny Slope...    19\n",
       "95759   Morning smoothie will get me going on long run...    19\n",
       "44228   Took one in the face for #nationalpieday I WIL...    19\n",
       "342561  @user you're my friend so of course you'd say ...    19\n",
       "178088  stacks, on stacks, on stacks.... Bracelet stac...    19\n",
       "58373   Under New Management with guest DJ Sylva I'll ...    19\n",
       "27272   Little early 4 crafts @user @user ! #goodtimes...    19\n",
       "392534  Band t's + blazers 4ever @ Long Beach Shore, C...    19\n",
       "273285  Last pic for the night promise!!!! (Don't hate...    19\n",
       "190554  came home to this fatso starin at me. lol. my ...    19\n",
       "109662  He was cheesing hard bc I told him dinner was ...    19\n",
       "246827  just a couple of scrubs @ Plano Senior High Sc...    19\n",
       "87067   3 blondes, 1 brunette -- the sequel @ Michigan...    19\n",
       "44626   #stakzwisdom ~ Since it's half the price, it's...    19\n",
       "128497  This pretty much describes our relationship th...    19\n",
       "249389  My hair is out of control. Will be filming my ...    19\n",
       "309393  @user Snap saw my impersonation of my Kylie po...    19\n",
       "134826  My jacket is three times smaller &amp; you see...    19\n",
       "\n",
       "[243940 rows x 2 columns]"
      ]
     },
     "execution_count": 38,
     "metadata": {},
     "output_type": "execute_result"
    }
   ],
   "source": [
    "# collects a random sample of each category based on the frequency of the least common set\n",
    "# e.g. category 19 has 12197 items, so a sample of 12197 tweets from each category\n",
    "eng_data_balanced = pd.concat([eng_data_df[eng_data_df.label == i].sample(12197) for i in range(0,20)])\n",
    "eng_data_balanced"
   ]
  },
  {
   "cell_type": "code",
   "execution_count": 39,
   "metadata": {
    "collapsed": true
   },
   "outputs": [],
   "source": [
    "# takes the data from the eng_data_balanced DataFrame and converts the text/labels into Python arrays\n",
    "eng_text_balanced = eng_data_balanced['text'].tolist()\n",
    "eng_labels_balanced = eng_data_balanced['label'].tolist()"
   ]
  },
  {
   "cell_type": "code",
   "execution_count": 40,
   "metadata": {
    "collapsed": true
   },
   "outputs": [],
   "source": [
    "# asserts that the number of tweets and labels are equal\n",
    "assert len(eng_text_balanced) == len(eng_labels_balanced)"
   ]
  },
  {
   "cell_type": "code",
   "execution_count": 41,
   "metadata": {
    "collapsed": true
   },
   "outputs": [],
   "source": [
    "# shuffle the dataset with the same seed\n",
    "np.random.seed(42)\n",
    "np.random.shuffle(eng_text_balanced)\n",
    "np.random.seed(42)\n",
    "np.random.shuffle(eng_labels_balanced)"
   ]
  },
  {
   "cell_type": "code",
   "execution_count": 42,
   "metadata": {
    "collapsed": true
   },
   "outputs": [],
   "source": [
    "# loads the spaCy English parser\n",
    "parser = English()"
   ]
  },
  {
   "cell_type": "code",
   "execution_count": 43,
   "metadata": {
    "collapsed": true
   },
   "outputs": [],
   "source": [
    "# tokenizes an input tweet using the spaCy English parser;\n",
    "# returns a list of tokenized words with the POS tag attached to the word in 'word_POS' format\n",
    "def spacy_tokenize(tweet):\n",
    "    tokens = parser(tweet)\n",
    "    tokens = [token.text +'_' + token.pos_ for token in tokens]\n",
    "    return tokens"
   ]
  },
  {
   "cell_type": "code",
   "execution_count": 45,
   "metadata": {
    "collapsed": true
   },
   "outputs": [],
   "source": [
    "# pipeline used to gather counts of all bi-grams with each word labeled with POS in the dataset; \n",
    "# this is then normalized with tf-idf and each document is vectorized using TfidfVectorizer; \n",
    "# predict the labels using Linear Support Vector Machines\n",
    "pipe = Pipeline([('tfidf', TfidfVectorizer(tokenizer=spacy_tokenize, ngram_range=(1,2))),\n",
    "                 ('clf', LinearSVC())])"
   ]
  },
  {
   "cell_type": "code",
   "execution_count": 46,
   "metadata": {},
   "outputs": [
    {
     "name": "stdout",
     "output_type": "stream",
     "text": [
      "[ 0.34512295  0.35053279  0.34649446  0.34610496  0.34702747]\n",
      "Accuracy: 0.35 (+/- 0.00)\n"
     ]
    }
   ],
   "source": [
    "# Crossvalidates the performance of the above pipe on the English data/labels using 5 folds\n",
    "# prints the scores for each cross-section and the average accuracy\n",
    "scores = cross_val_score(pipe, eng_text_balanced, eng_labels_balanced, cv=5, n_jobs=-1)\n",
    "print(scores)\n",
    "print(\"Accuracy: %0.2f (+/- %0.2f)\" % (scores.mean(), scores.std() * 2))"
   ]
  },
  {
   "cell_type": "code",
   "execution_count": 47,
   "metadata": {},
   "outputs": [
    {
     "name": "stdout",
     "output_type": "stream",
     "text": [
      "[[8112  224   89  315   83  159  104  143  215  281   87  110 1380  243\n",
      "   119  115  111  144   76   87]\n",
      " [ 134 2248  519  958  435  674  522  724  728  894  347  455  122  693\n",
      "   552  330  733  299  313  517]\n",
      " [  39  411 3917  320  503  462  549  308  343  435  298  334   49  276\n",
      "   857  874  711  229  352  930]\n",
      " [ 157  853  274 2551  242  617  348  778 1142 1357  237  281   85 1217\n",
      "   450  325  365  260  255  403]\n",
      " [  31  350  470  239 5939  207  447  450  262  278  353  275   73  254\n",
      "   388  888  314  160  420  399]\n",
      " [  91  801  661  806  325 1514  645  626  646  882  258  475  184  589\n",
      "   821  428 1065  429  267  684]\n",
      " [  45  549  623  436  709  603 2029  568  488  510  340  610  368  412\n",
      "   785  884  797  238  397  806]\n",
      " [  48  605  272  754  581  442  494 3608  508  498  440  436  131  559\n",
      "   501  475  420  533  459  433]\n",
      " [ 110  743  279 1470  283  538  476  682 2787  869  254  490  122  956\n",
      "   448  427  386  247  242  388]\n",
      " [ 117  689  414 1343  293  666  416  503  692 3003  253  306   65  803\n",
      "   600  457  494  296  267  520]\n",
      " [  29  188  190  170  329  158  209  314  166  169 5987  223   85  119\n",
      "   219  198  175  134 2932  203]\n",
      " [  36  256  195  220  223  235  408  321  343  210  194 8002   81  195\n",
      "   236  262  273  153  150  204]\n",
      " [1743   85   27   63   60  100  119  122   69   47   69   98 9252   46\n",
      "    59   40   59   26   64   49]\n",
      " [ 149  781  320 1581  313  630  366  714 1023 1110  235  311   93 2475\n",
      "   438  345  417  249  239  408]\n",
      " [  63  553  880  568  503  681  712  571  504  712  323  410  128  432\n",
      "  1995  556  828  340  334 1104]\n",
      " [  58  343  812  368 1154  366  666  484  426  390  309  321   50  332\n",
      "   516 4164  411  149  397  481]\n",
      " [  59  746 1010  454  536 1020  803  523  481  615  315  441  108  412\n",
      "   922  501 1680  332  299  940]\n",
      " [  24  150  116  197  180  162  130  304  153  147   83  162   26  143\n",
      "   181  123  133 9550   80  153]\n",
      " [  26  182  263  182  374  166  312  401  186  209 3904  243   76  135\n",
      "   290  319  205  122 4343  259]\n",
      " [  70  610 1141  575  580  641  786  480  505  624  282  419  109  438\n",
      "  1292  579  902  270  389 1505]]\n"
     ]
    }
   ],
   "source": [
    "# Crossvalidates the performance of the above pipe on the English data/labels using 5 folds\n",
    "# prints the scores for each cross-section and the average accuracy\n",
    "y_pred = cross_val_predict(pipe,eng_text_balanced,eng_labels_balanced,cv=5, n_jobs=-1)\n",
    "conf_mat = confusion_matrix(eng_labels_balanced,y_pred)\n",
    "print(conf_mat)"
   ]
  },
  {
   "cell_type": "code",
   "execution_count": 48,
   "metadata": {},
   "outputs": [
    {
     "data": {
      "text/plain": [
       "<matplotlib.axes._subplots.AxesSubplot at 0x1118b74a8>"
      ]
     },
     "execution_count": 48,
     "metadata": {},
     "output_type": "execute_result"
    },
    {
     "data": {
      "image/png": "[encoded data removed]",
      "text/plain": [
       "<matplotlib.figure.Figure at 0x158d284a8>"
      ]
     },
     "metadata": {},
     "output_type": "display_data"
    }
   ],
   "source": [
    "# visualizes the above confusion matrix\n",
    "df_cm = pd.DataFrame(conf_mat, index = [i for i in set(eng_labels)], columns = [i for i in set(eng_labels)])\n",
    "plt.figure(figsize= (10,7))\n",
    "sn.heatmap(df_cm, annot=False)"
   ]
  },
  {
   "cell_type": "code",
   "execution_count": 49,
   "metadata": {},
   "outputs": [
    {
     "name": "stdout",
     "output_type": "stream",
     "text": [
      "             precision    recall  f1-score   support\n",
      "\n",
      "          0       0.73      0.67      0.70     12197\n",
      "          1       0.20      0.18      0.19     12197\n",
      "          2       0.31      0.32      0.32     12197\n",
      "          3       0.19      0.21      0.20     12197\n",
      "          4       0.44      0.49      0.46     12197\n",
      "          5       0.15      0.12      0.14     12197\n",
      "          6       0.19      0.17      0.18     12197\n",
      "          7       0.29      0.30      0.29     12197\n",
      "          8       0.24      0.23      0.23     12197\n",
      "          9       0.23      0.25      0.24     12197\n",
      "         10       0.41      0.49      0.45     12197\n",
      "         11       0.56      0.66      0.60     12197\n",
      "         12       0.74      0.76      0.75     12197\n",
      "         13       0.23      0.20      0.22     12197\n",
      "         14       0.17      0.16      0.17     12197\n",
      "         15       0.34      0.34      0.34     12197\n",
      "         16       0.16      0.14      0.15     12197\n",
      "         17       0.67      0.78      0.72     12197\n",
      "         18       0.35      0.36      0.35     12197\n",
      "         19       0.14      0.12      0.13     12197\n",
      "\n",
      "avg / total       0.34      0.35      0.34    243940\n",
      "\n"
     ]
    }
   ],
   "source": [
    "# prints a report detailing precision/recall and f-score of the pipeline\n",
    "print(classification_report(eng_labels_balanced, y_pred))"
   ]
  }
 ],
 "metadata": {
  "kernelspec": {
   "display_name": "emojiprediction",
   "language": "python",
   "name": "emojiprediction"
  },
  "language_info": {
   "codemirror_mode": {
    "name": "ipython",
    "version": 3
   },
   "file_extension": ".py",
   "mimetype": "text/x-python",
   "name": "python",
   "nbconvert_exporter": "python",
   "pygments_lexer": "ipython3",
   "version": "3.6.3"
  }
 },
 "nbformat": 4,
 "nbformat_minor": 2
}
