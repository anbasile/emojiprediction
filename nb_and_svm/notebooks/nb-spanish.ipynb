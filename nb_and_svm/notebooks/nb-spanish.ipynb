{
 "cells": [
  {
   "cell_type": "code",
   "execution_count": 1,
   "metadata": {
    "collapsed": true
   },
   "outputs": [],
   "source": [
    "# importing the necessary packages\n",
    "\n",
    "# packages used for training\n",
    "from sklearn.pipeline import Pipeline\n",
    "from sklearn.feature_extraction.text import CountVectorizer\n",
    "from sklearn.feature_extraction.text import TfidfVectorizer\n",
    "from sklearn.naive_bayes import MultinomialNB\n",
    "import numpy as np\n",
    "import pandas as pd\n",
    "\n",
    "# package used for POS-taggingh\n",
    "from spacy.es import Spanish\n",
    "\n",
    "# packages used for evaluation\n",
    "from sklearn.model_selection import cross_val_score\n",
    "from sklearn.model_selection import cross_val_predict\n",
    "from sklearn.metrics import confusion_matrix\n",
    "from sklearn.metrics import classification_report\n",
    "\n",
    "# packages used for visualization\n",
    "import matplotlib.pyplot as plt\n",
    "import seaborn as sn\n",
    "%matplotlib inline"
   ]
  },
  {
   "cell_type": "code",
   "execution_count": 2,
   "metadata": {
    "collapsed": true
   },
   "outputs": [],
   "source": [
    "# loads the text and labels\n",
    "with open('../data/train/es.text') as f:\n",
    "    esp_text = f.readlines()\n",
    "\n",
    "with open('../data/train/es.labels') as f:\n",
    "    esp_labels = f.readlines()"
   ]
  },
  {
   "cell_type": "code",
   "execution_count": 3,
   "metadata": {
    "collapsed": true
   },
   "outputs": [],
   "source": [
    "# asserts that the number of tweets and labels are equal\n",
    "assert len(esp_text) == len(esp_labels)"
   ]
  },
  {
   "cell_type": "code",
   "execution_count": 4,
   "metadata": {
    "collapsed": true
   },
   "outputs": [],
   "source": [
    "esp_text = [tweet.strip() for tweet in esp_text]\n",
    "esp_labels = [int(label.strip()) for label in esp_labels]"
   ]
  },
  {
   "cell_type": "code",
   "execution_count": 5,
   "metadata": {
    "collapsed": true
   },
   "outputs": [],
   "source": [
    "np.random.seed(42)\n",
    "np.random.shuffle(esp_text)\n",
    "np.random.seed(42)\n",
    "np.random.shuffle(esp_labels)"
   ]
  },
  {
   "cell_type": "markdown",
   "metadata": {},
   "source": [
    "## Baseline"
   ]
  },
  {
   "cell_type": "code",
   "execution_count": 6,
   "metadata": {
    "collapsed": true
   },
   "outputs": [],
   "source": [
    "# pipeline used to gather counts of all words in the dataset and vectorizes each document using CountVectorizer;\n",
    "# predict the labels using Multinomial Naive Bayes\n",
    "pipe = Pipeline([('count', CountVectorizer()),\n",
    "                 ('clf', MultinomialNB())])"
   ]
  },
  {
   "cell_type": "code",
   "execution_count": 7,
   "metadata": {},
   "outputs": [
    {
     "name": "stdout",
     "output_type": "stream",
     "text": [
      "[ 0.25552066  0.25545818  0.25767555  0.25694304  0.25577859]\n",
      "Accuracy: 0.26 (+/- 0.00)\n"
     ]
    }
   ],
   "source": [
    "# Crossvalidates the performance of the above pipe on the Spanish data/labels using 5 folds and returns\n",
    "# a list with the accuracy of each fold; prints the accuracy for each cross-section and the average accuracy\n",
    "scores = cross_val_score(pipe, esp_text, esp_labels, cv=5, n_jobs=-1)\n",
    "print(scores)\n",
    "print(\"Accuracy: %0.2f (+/- %0.2f)\" % (scores.mean(), scores.std() * 2))"
   ]
  },
  {
   "cell_type": "code",
   "execution_count": 8,
   "metadata": {},
   "outputs": [
    {
     "name": "stdout",
     "output_type": "stream",
     "text": [
      "[[16288  2347   593    71    87    22    22     4     7   219     7     4\n",
      "      1     1     1     1     5     1     2]\n",
      " [ 8691  3698   736    39   113    13    28     4    10   149    12     4\n",
      "      1     2     0     1     2     1     1]\n",
      " [ 4343  1330  3345    18    92     7    54    14     6    25     3     1\n",
      "      1     4     1     0     6     0     3]\n",
      " [ 5848   583   194    70    20     7     7     2     2    30     2     0\n",
      "      1     0     0     1     2     0     0]\n",
      " [ 4239  1328   469    11   257    13    31     7     6    67     5     2\n",
      "      0     3     0     0     2     1     3]\n",
      " [ 3437   498   286    23    47    64    10     5     2    12     1     0\n",
      "      0     2     0     0     0     0     0]\n",
      " [ 2187   453   528    26    91     6   510     4     4    18     0     1\n",
      "      1     3     0     0     0     0     1]\n",
      " [ 2241   630   584     9    85     7    31    45     2    11     2     0\n",
      "      0     1     0     2     1     0     0]\n",
      " [ 2421   616   291    24    68     2    28     2    19    26     1     0\n",
      "      0     1     0     2     0     0     0]\n",
      " [ 1906   469    88     5    17     0    14     2     1   863     3     0\n",
      "      0     1     0     0     1     0     0]\n",
      " [ 1991   594   336    13    56     2    21     3     3    64    38     0\n",
      "      0     0     0     1     1     1     1]\n",
      " [ 2354   348    83    13    21     4     8     1     0    55     4    11\n",
      "      1     2     0     1     1     0     0]\n",
      " [ 2343   283    94    12     9     2    11     1     1    19     0     2\n",
      "      7     1     0     0     1     0     0]\n",
      " [ 1598   499   464     8    45     6    16     6     2    19     3     0\n",
      "      0    28     0     0     0     0     0]\n",
      " [ 2316   207    56    15     8     3     2     0     2     2     1     0\n",
      "      1     0     0     0     0     0     0]\n",
      " [ 1990   287   155    19    13     2     9     1     0    41     0     1\n",
      "      1     0     0    15     1     1     1]\n",
      " [ 1859   289   355    10    13     2    11     1     1    14     0     0\n",
      "      0     1     0     0    26     0     1]\n",
      " [ 2221   159    72    22     5     2     3     1     3    14     0     0\n",
      "      0     0     0     2     1     3     0]\n",
      " [ 1429   539   411     6    69     4    23     3     7    39     1     0\n",
      "      0     0     0     0     0     0     3]]\n"
     ]
    }
   ],
   "source": [
    "# Crossvalidates the performance of the above pipe on the Spanish data/labels using 5 folds and returns\n",
    "# a list containing the predictions for each label; this is used in a confusion matrix\n",
    "y_pred = cross_val_predict(pipe,esp_text,esp_labels,cv=5, n_jobs=-1)\n",
    "conf_mat = confusion_matrix(esp_labels,y_pred)\n",
    "print(conf_mat)"
   ]
  },
  {
   "cell_type": "code",
   "execution_count": 9,
   "metadata": {},
   "outputs": [
    {
     "data": {
      "text/plain": [
       "<matplotlib.axes._subplots.AxesSubplot at 0x10db5f160>"
      ]
     },
     "execution_count": 9,
     "metadata": {},
     "output_type": "execute_result"
    },
    {
     "data": {
      "image/png": "[encoded data removed]",
      "text/plain": [
       "<matplotlib.figure.Figure at 0x1165eb128>"
      ]
     },
     "metadata": {},
     "output_type": "display_data"
    }
   ],
   "source": [
    "# visualizes the above confusion matrix\n",
    "df_cm = pd.DataFrame(conf_mat, index = [i for i in set(esp_labels)], columns = [i for i in set(esp_labels)])\n",
    "plt.figure(figsize= (10,7))\n",
    "sn.heatmap(df_cm, annot=False)"
   ]
  },
  {
   "cell_type": "code",
   "execution_count": 10,
   "metadata": {},
   "outputs": [
    {
     "name": "stdout",
     "output_type": "stream",
     "text": [
      "             precision    recall  f1-score   support\n",
      "\n",
      "          0       0.23      0.83      0.36     19683\n",
      "          1       0.24      0.27      0.26     13505\n",
      "          2       0.37      0.36      0.36      9253\n",
      "          3       0.17      0.01      0.02      6769\n",
      "          4       0.23      0.04      0.07      6444\n",
      "          5       0.38      0.01      0.03      4387\n",
      "          6       0.61      0.13      0.22      3833\n",
      "          7       0.42      0.01      0.02      3651\n",
      "          8       0.24      0.01      0.01      3501\n",
      "          9       0.51      0.26      0.34      3370\n",
      "         10       0.46      0.01      0.02      3125\n",
      "         11       0.42      0.00      0.01      2907\n",
      "         12       0.47      0.00      0.00      2786\n",
      "         13       0.56      0.01      0.02      2694\n",
      "         14       0.00      0.00      0.00      2613\n",
      "         15       0.58      0.01      0.01      2537\n",
      "         16       0.52      0.01      0.02      2583\n",
      "         17       0.38      0.00      0.00      2508\n",
      "         18       0.19      0.00      0.00      2534\n",
      "\n",
      "avg / total       0.32      0.26      0.17     98683\n",
      "\n"
     ]
    }
   ],
   "source": [
    "# prints a report detailing precision/recall and f-score of the pipeline\n",
    "print(classification_report(esp_labels, y_pred))"
   ]
  },
  {
   "cell_type": "markdown",
   "metadata": {},
   "source": [
    "## Feature normalization using tf-idf"
   ]
  },
  {
   "cell_type": "code",
   "execution_count": 11,
   "metadata": {
    "collapsed": true
   },
   "outputs": [],
   "source": [
    "# pipeline used to gather counts of all words in the dataset normalized with tf-idf and vectorizes each document \n",
    "# using TfidfVectorizer; predict the labels using Multinomial Naive Bayes\n",
    "pipe = Pipeline([('tfidf', TfidfVectorizer()),\n",
    "                 ('clf', MultinomialNB())])"
   ]
  },
  {
   "cell_type": "code",
   "execution_count": 12,
   "metadata": {},
   "outputs": [
    {
     "name": "stdout",
     "output_type": "stream",
     "text": [
      "[ 0.21834481  0.21898587  0.21871517  0.21685587  0.21907948]\n",
      "Accuracy: 0.22 (+/- 0.00)\n"
     ]
    }
   ],
   "source": [
    "# Crossvalidates the performance of the above pipe on the Spanish data/labels using 5 folds and returns\n",
    "# a list with the accuracy of each fold; prints the accuracy for each cross-section and the average accuracy\n",
    "scores = cross_val_score(pipe, esp_text, esp_labels, cv=5, n_jobs=-1)\n",
    "print(scores)\n",
    "print(\"Accuracy: %0.2f (+/- %0.2f)\" % (scores.mean(), scores.std() * 2))"
   ]
  },
  {
   "cell_type": "code",
   "execution_count": 13,
   "metadata": {},
   "outputs": [
    {
     "name": "stdout",
     "output_type": "stream",
     "text": [
      "[[18826   794    57     1     1     0     3     0     0     1     0     0\n",
      "      0     0     0     0     0     0     0]\n",
      " [11798  1602    99     1     0     0     0     0     0     5     0     0\n",
      "      0     0     0     0     0     0     0]\n",
      " [ 7687   615   941     0     2     0     8     0     0     0     0     0\n",
      "      0     0     0     0     0     0     0]\n",
      " [ 6573   168    22     5     1     0     0     0     0     0     0     0\n",
      "      0     0     0     0     0     0     0]\n",
      " [ 5845   505    69     1    24     0     0     0     0     0     0     0\n",
      "      0     0     0     0     0     0     0]\n",
      " [ 4169   160    47     0     0    10     1     0     0     0     0     0\n",
      "      0     0     0     0     0     0     0]\n",
      " [ 3446   193    98     1     1     0    94     0     0     0     0     0\n",
      "      0     0     0     0     0     0     0]\n",
      " [ 3340   216    82     0     0     0     4     9     0     0     0     0\n",
      "      0     0     0     0     0     0     0]\n",
      " [ 3207   251    42     1     0     0     0     0     0     0     0     0\n",
      "      0     0     0     0     0     0     0]\n",
      " [ 3132   192    10     0     0     0     0     0     0    36     0     0\n",
      "      0     0     0     0     0     0     0]\n",
      " [ 2863   217    39     1     1     0     2     0     0     0     2     0\n",
      "      0     0     0     0     0     0     0]\n",
      " [ 2773   122    11     0     0     0     0     0     0     1     0     0\n",
      "      0     0     0     0     0     0     0]\n",
      " [ 2677    90    19     0     0     0     0     0     0     0     0     0\n",
      "      0     0     0     0     0     0     0]\n",
      " [ 2417   201    71     0     0     0     1     0     0     1     0     0\n",
      "      0     3     0     0     0     0     0]\n",
      " [ 2541    66     6     0     0     0     0     0     0     0     0     0\n",
      "      0     0     0     0     0     0     0]\n",
      " [ 2425   103     8     1     0     0     0     0     0     0     0     0\n",
      "      0     0     0     0     0     0     0]\n",
      " [ 2479    79    25     0     0     0     0     0     0     0     0     0\n",
      "      0     0     0     0     0     0     0]\n",
      " [ 2456    50     2     0     0     0     0     0     0     0     0     0\n",
      "      0     0     0     0     0     0     0]\n",
      " [ 2242   195    93     0     0     0     4     0     0     0     0     0\n",
      "      0     0     0     0     0     0     0]]\n"
     ]
    }
   ],
   "source": [
    "# Crossvalidates the performance of the above pipe on the Spanish data/labels using 5 folds and returns\n",
    "# a list containing the predictions for each label; this is used in a confusion matrix\n",
    "y_pred = cross_val_predict(pipe,esp_text,esp_labels,cv=5, n_jobs=-1)\n",
    "conf_mat = confusion_matrix(esp_labels,y_pred)\n",
    "print(conf_mat)"
   ]
  },
  {
   "cell_type": "code",
   "execution_count": 14,
   "metadata": {},
   "outputs": [
    {
     "data": {
      "text/plain": [
       "<matplotlib.axes._subplots.AxesSubplot at 0x1165eb4e0>"
      ]
     },
     "execution_count": 14,
     "metadata": {},
     "output_type": "execute_result"
    },
    {
     "data": {
      "image/png": "[encoded data removed]",
      "text/plain": [
       "<matplotlib.figure.Figure at 0x1165eb240>"
      ]
     },
     "metadata": {},
     "output_type": "display_data"
    }
   ],
   "source": [
    "# visualizes the above confusion matrix\n",
    "df_cm = pd.DataFrame(conf_mat, index = [i for i in set(esp_labels)], columns = [i for i in set(esp_labels)])\n",
    "plt.figure(figsize= (10,7))\n",
    "sn.heatmap(df_cm, annot=False)"
   ]
  },
  {
   "cell_type": "code",
   "execution_count": 15,
   "metadata": {},
   "outputs": [
    {
     "name": "stdout",
     "output_type": "stream",
     "text": [
      "             precision    recall  f1-score   support\n",
      "\n",
      "          0       0.21      0.96      0.34     19683\n",
      "          1       0.28      0.12      0.17     13505\n",
      "          2       0.54      0.10      0.17      9253\n",
      "          3       0.42      0.00      0.00      6769\n",
      "          4       0.80      0.00      0.01      6444\n",
      "          5       1.00      0.00      0.00      4387\n",
      "          6       0.80      0.02      0.05      3833\n",
      "          7       1.00      0.00      0.00      3651\n",
      "          8       0.00      0.00      0.00      3501\n",
      "          9       0.82      0.01      0.02      3370\n",
      "         10       1.00      0.00      0.00      3125\n",
      "         11       0.00      0.00      0.00      2907\n",
      "         12       0.00      0.00      0.00      2786\n",
      "         13       1.00      0.00      0.00      2694\n",
      "         14       0.00      0.00      0.00      2613\n",
      "         15       0.00      0.00      0.00      2537\n",
      "         16       0.00      0.00      0.00      2583\n",
      "         17       0.00      0.00      0.00      2508\n",
      "         18       0.00      0.00      0.00      2534\n",
      "\n",
      "avg / total       0.41      0.22      0.11     98683\n",
      "\n"
     ]
    },
    {
     "name": "stderr",
     "output_type": "stream",
     "text": [
      "/Users/kennylino/.local/share/virtualenvs/emojiprediction-SvmtXtCx/lib/python3.6/site-packages/sklearn/metrics/classification.py:1135: UndefinedMetricWarning: Precision and F-score are ill-defined and being set to 0.0 in labels with no predicted samples.\n",
      "  'precision', 'predicted', average, warn_for)\n"
     ]
    }
   ],
   "source": [
    "# prints a report detailing precision/recall and f-score of the pipeline\n",
    "print(classification_report(esp_labels, y_pred))"
   ]
  },
  {
   "cell_type": "markdown",
   "metadata": {},
   "source": [
    "## tf-idf and part-of-speech tagging"
   ]
  },
  {
   "cell_type": "code",
   "execution_count": 16,
   "metadata": {
    "collapsed": true
   },
   "outputs": [],
   "source": [
    "# loads the spaCy Spanish parser\n",
    "parser = Spanish()"
   ]
  },
  {
   "cell_type": "code",
   "execution_count": 17,
   "metadata": {
    "collapsed": true
   },
   "outputs": [],
   "source": [
    "# tokenizes an input tweet using the spaCy Spanish parser;\n",
    "# returns a list of tokenized words with the POS tag attached to the word in 'word_POS' format\n",
    "def spacy_tokenize(tweet):\n",
    "    tokens = parser(tweet)\n",
    "    tokens = [token.text +'_' + token.pos_ for token in tokens]\n",
    "    return tokens"
   ]
  },
  {
   "cell_type": "code",
   "execution_count": 19,
   "metadata": {
    "collapsed": true
   },
   "outputs": [],
   "source": [
    "# pipeline used to gather counts of all words labeled with POS in the dataset normalized with tf-idf \n",
    "# and vectorizes each document using TfidfVectorizer; predict the labels using Multinomial Naive Bayes\n",
    "pipe = Pipeline([('tfidf', TfidfVectorizer(tokenizer=spacy_tokenize)),\n",
    "                 ('clf', MultinomialNB())])"
   ]
  },
  {
   "cell_type": "code",
   "execution_count": 20,
   "metadata": {},
   "outputs": [
    {
     "name": "stdout",
     "output_type": "stream",
     "text": [
      "[ 0.2201175   0.21888455  0.21962712  0.21918711  0.21902879]\n",
      "Accuracy: 0.22 (+/- 0.00)\n"
     ]
    }
   ],
   "source": [
    "# Crossvalidates the performance of the above pipe on the Spanish data/labels using 5 folds and returns\n",
    "# a list with the accuracy of each fold; prints the accuracy for each cross-section and the average accuracy\n",
    "scores = cross_val_score(pipe, esp_text, esp_labels, cv=5, n_jobs=-1)\n",
    "print(scores)\n",
    "print(\"Accuracy: %0.2f (+/- %0.2f)\" % (scores.mean(), scores.std() * 2))"
   ]
  },
  {
   "cell_type": "code",
   "execution_count": 21,
   "metadata": {},
   "outputs": [
    {
     "name": "stdout",
     "output_type": "stream",
     "text": [
      "[[19289   363    31     0     0     0     0     0     0     0     0     0\n",
      "      0     0     0     0     0     0     0]\n",
      " [11903  1525    77     0     0     0     0     0     0     0     0     0\n",
      "      0     0     0     0     0     0     0]\n",
      " [ 7898   579   776     0     0     0     0     0     0     0     0     0\n",
      "      0     0     0     0     0     0     0]\n",
      " [ 6603   146    12     8     0     0     0     0     0     0     0     0\n",
      "      0     0     0     0     0     0     0]\n",
      " [ 5915   475    44     0     9     0     1     0     0     0     0     0\n",
      "      0     0     0     0     0     0     0]\n",
      " [ 4184   153    39     1     0     9     1     0     0     0     0     0\n",
      "      0     0     0     0     0     0     0]\n",
      " [ 3517   233    53     0     1     0    29     0     0     0     0     0\n",
      "      0     0     0     0     0     0     0]\n",
      " [ 3356   223    69     2     0     0     1     0     0     0     0     0\n",
      "      0     0     0     0     0     0     0]\n",
      " [ 3238   234    28     1     0     0     0     0     0     0     0     0\n",
      "      0     0     0     0     0     0     0]\n",
      " [ 3165   195     7     0     0     0     0     0     0     3     0     0\n",
      "      0     0     0     0     0     0     0]\n",
      " [ 2909   195    21     0     0     0     0     0     0     0     0     0\n",
      "      0     0     0     0     0     0     0]\n",
      " [ 2787   113     6     1     0     0     0     0     0     0     0     0\n",
      "      0     0     0     0     0     0     0]\n",
      " [ 2698    77    10     1     0     0     0     0     0     0     0     0\n",
      "      0     0     0     0     0     0     0]\n",
      " [ 2447   195    51     0     0     0     0     0     0     1     0     0\n",
      "      0     0     0     0     0     0     0]\n",
      " [ 2553    54     6     0     0     0     0     0     0     0     0     0\n",
      "      0     0     0     0     0     0     0]\n",
      " [ 2441    90     6     0     0     0     0     0     0     0     0     0\n",
      "      0     0     0     0     0     0     0]\n",
      " [ 2493    75    15     0     0     0     0     0     0     0     0     0\n",
      "      0     0     0     0     0     0     0]\n",
      " [ 2454    50     4     0     0     0     0     0     0     0     0     0\n",
      "      0     0     0     0     0     0     0]\n",
      " [ 2275   198    61     0     0     0     0     0     0     0     0     0\n",
      "      0     0     0     0     0     0     0]]\n"
     ]
    }
   ],
   "source": [
    "# Crossvalidates the performance of the above pipe on the Spanish data/labels using 5 folds and returns\n",
    "# a list containing the predictions for each label; this is used in a confusion matrix\n",
    "y_pred = cross_val_predict(pipe,esp_text,esp_labels,cv=5, n_jobs=-1)\n",
    "conf_mat = confusion_matrix(esp_labels,y_pred)\n",
    "print(conf_mat)"
   ]
  },
  {
   "cell_type": "code",
   "execution_count": 22,
   "metadata": {},
   "outputs": [
    {
     "data": {
      "text/plain": [
       "<matplotlib.axes._subplots.AxesSubplot at 0x11f5fb710>"
      ]
     },
     "execution_count": 22,
     "metadata": {},
     "output_type": "execute_result"
    },
    {
     "data": {
      "image/png": "[encoded data removed]",
      "text/plain": [
       "<matplotlib.figure.Figure at 0x1165eb828>"
      ]
     },
     "metadata": {},
     "output_type": "display_data"
    }
   ],
   "source": [
    "# visualizes the above confusion matrix\n",
    "df_cm = pd.DataFrame(conf_mat, index = [i for i in set(esp_labels)], columns = [i for i in set(esp_labels)])\n",
    "plt.figure(figsize= (10,7))\n",
    "sn.heatmap(df_cm, annot=False)"
   ]
  },
  {
   "cell_type": "code",
   "execution_count": 23,
   "metadata": {},
   "outputs": [
    {
     "name": "stdout",
     "output_type": "stream",
     "text": [
      "             precision    recall  f1-score   support\n",
      "\n",
      "          0       0.21      0.98      0.35     19683\n",
      "          1       0.29      0.11      0.16     13505\n",
      "          2       0.59      0.08      0.15      9253\n",
      "          3       0.57      0.00      0.00      6769\n",
      "          4       0.90      0.00      0.00      6444\n",
      "          5       1.00      0.00      0.00      4387\n",
      "          6       0.91      0.01      0.02      3833\n",
      "          7       0.00      0.00      0.00      3651\n",
      "          8       0.00      0.00      0.00      3501\n",
      "          9       0.75      0.00      0.00      3370\n",
      "         10       0.00      0.00      0.00      3125\n",
      "         11       0.00      0.00      0.00      2907\n",
      "         12       0.00      0.00      0.00      2786\n",
      "         13       0.00      0.00      0.00      2694\n",
      "         14       0.00      0.00      0.00      2613\n",
      "         15       0.00      0.00      0.00      2537\n",
      "         16       0.00      0.00      0.00      2583\n",
      "         17       0.00      0.00      0.00      2508\n",
      "         18       0.00      0.00      0.00      2534\n",
      "\n",
      "avg / total       0.34      0.22      0.11     98683\n",
      "\n"
     ]
    },
    {
     "name": "stderr",
     "output_type": "stream",
     "text": [
      "/Users/kennylino/.local/share/virtualenvs/emojiprediction-SvmtXtCx/lib/python3.6/site-packages/sklearn/metrics/classification.py:1135: UndefinedMetricWarning: Precision and F-score are ill-defined and being set to 0.0 in labels with no predicted samples.\n",
      "  'precision', 'predicted', average, warn_for)\n"
     ]
    }
   ],
   "source": [
    "# prints a report detailing precision/recall and f-score of the pipeline\n",
    "print(classification_report(esp_labels, y_pred))"
   ]
  },
  {
   "cell_type": "markdown",
   "metadata": {},
   "source": [
    "## tf-idf and bi-grams"
   ]
  },
  {
   "cell_type": "code",
   "execution_count": 24,
   "metadata": {
    "collapsed": true
   },
   "outputs": [],
   "source": [
    "# pipeline used to gather counts of bi-grams in the dataset normalized with tf-idf and vectorizes each document \n",
    "# using TfidfVectorizer; predict the labels using Multinomial Naive Bayes\n",
    "pipe = Pipeline([('tfidf', TfidfVectorizer(ngram_range=(1,2))),\n",
    "                 ('clf', MultinomialNB())])"
   ]
  },
  {
   "cell_type": "code",
   "execution_count": 25,
   "metadata": {},
   "outputs": [
    {
     "name": "stdout",
     "output_type": "stream",
     "text": [
      "[ 0.21272285  0.21447748  0.21461141  0.21300426  0.21335158]\n",
      "Accuracy: 0.21 (+/- 0.00)\n"
     ]
    }
   ],
   "source": [
    "# Crossvalidates the performance of the above pipe on the Spanish data/labels using 5 folds and returns\n",
    "# a list with the accuracy of each fold; prints the accuracy for each cross-section and the average accuracy\n",
    "scores = cross_val_score(pipe, esp_text, esp_labels, cv=5, n_jobs=-1)\n",
    "print(scores)\n",
    "print(\"Accuracy: %0.2f (+/- %0.2f)\" % (scores.mean(), scores.std() * 2))"
   ]
  },
  {
   "cell_type": "code",
   "execution_count": 26,
   "metadata": {},
   "outputs": [
    {
     "name": "stdout",
     "output_type": "stream",
     "text": [
      "[[19131   515    33     0     0     0     1     0     0     3     0     0\n",
      "      0     0     0     0     0     0     0]\n",
      " [12190  1254    57     1     0     0     1     0     0     2     0     0\n",
      "      0     0     0     0     0     0     0]\n",
      " [ 8326   349   578     0     0     0     0     0     0     0     0     0\n",
      "      0     0     0     0     0     0     0]\n",
      " [ 6648   111     5     5     0     0     0     0     0     0     0     0\n",
      "      0     0     0     0     0     0     0]\n",
      " [ 6095   302    29     0    18     0     0     0     0     0     0     0\n",
      "      0     0     0     0     0     0     0]\n",
      " [ 4252    88    37     0     0     9     1     0     0     0     0     0\n",
      "      0     0     0     0     0     0     0]\n",
      " [ 3649   102    34     0     1     0    47     0     0     0     0     0\n",
      "      0     0     0     0     0     0     0]\n",
      " [ 3471   133    41     0     0     0     2     4     0     0     0     0\n",
      "      0     0     0     0     0     0     0]\n",
      " [ 3311   172    17     0     0     0     1     0     0     0     0     0\n",
      "      0     0     0     0     0     0     0]\n",
      " [ 3218   120     3     0     0     0     0     0     0    29     0     0\n",
      "      0     0     0     0     0     0     0]\n",
      " [ 2980   129    16     0     0     0     0     0     0     0     0     0\n",
      "      0     0     0     0     0     0     0]\n",
      " [ 2816    86     5     0     0     0     0     0     0     0     0     0\n",
      "      0     0     0     0     0     0     0]\n",
      " [ 2710    68     8     0     0     0     0     0     0     0     0     0\n",
      "      0     0     0     0     0     0     0]\n",
      " [ 2526   125    36     0     0     0     0     0     0     0     0     0\n",
      "      0     7     0     0     0     0     0]\n",
      " [ 2564    44     5     0     0     0     0     0     0     0     0     0\n",
      "      0     0     0     0     0     0     0]\n",
      " [ 2469    63     3     1     1     0     0     0     0     0     0     0\n",
      "      0     0     0     0     0     0     0]\n",
      " [ 2542    35     6     0     0     0     0     0     0     0     0     0\n",
      "      0     0     0     0     0     0     0]\n",
      " [ 2471    36     1     0     0     0     0     0     0     0     0     0\n",
      "      0     0     0     0     0     0     0]\n",
      " [ 2340   141    51     0     1     0     0     0     0     1     0     0\n",
      "      0     0     0     0     0     0     0]]\n"
     ]
    }
   ],
   "source": [
    "# Crossvalidates the performance of the above pipe on the Spanish data/labels using 5 folds and returns\n",
    "# a list containing the predictions for each label; this is used in a confusion matrix\n",
    "y_pred = cross_val_predict(pipe,esp_text,esp_labels,cv=5, n_jobs=-1)\n",
    "conf_mat = confusion_matrix(esp_labels,y_pred)\n",
    "print(conf_mat)"
   ]
  },
  {
   "cell_type": "code",
   "execution_count": 27,
   "metadata": {},
   "outputs": [
    {
     "data": {
      "text/plain": [
       "<matplotlib.axes._subplots.AxesSubplot at 0x11969fba8>"
      ]
     },
     "execution_count": 27,
     "metadata": {},
     "output_type": "execute_result"
    },
    {
     "data": {
      "image/png": "[encoded data removed]",
      "text/plain": [
       "<matplotlib.figure.Figure at 0x1196c09b0>"
      ]
     },
     "metadata": {},
     "output_type": "display_data"
    }
   ],
   "source": [
    "# visualizes the above confusion matrix\n",
    "df_cm = pd.DataFrame(conf_mat, index = [i for i in set(esp_labels)], columns = [i for i in set(esp_labels)])\n",
    "plt.figure(figsize= (10,7))\n",
    "sn.heatmap(df_cm, annot=False)"
   ]
  },
  {
   "cell_type": "code",
   "execution_count": 28,
   "metadata": {},
   "outputs": [
    {
     "name": "stdout",
     "output_type": "stream",
     "text": [
      "             precision    recall  f1-score   support\n",
      "\n",
      "          0       0.20      0.97      0.34     19683\n",
      "          1       0.32      0.09      0.14     13505\n",
      "          2       0.60      0.06      0.11      9253\n",
      "          3       0.71      0.00      0.00      6769\n",
      "          4       0.86      0.00      0.01      6444\n",
      "          5       1.00      0.00      0.00      4387\n",
      "          6       0.89      0.01      0.02      3833\n",
      "          7       1.00      0.00      0.00      3651\n",
      "          8       0.00      0.00      0.00      3501\n",
      "          9       0.83      0.01      0.02      3370\n",
      "         10       0.00      0.00      0.00      3125\n",
      "         11       0.00      0.00      0.00      2907\n",
      "         12       0.00      0.00      0.00      2786\n",
      "         13       1.00      0.00      0.01      2694\n",
      "         14       0.00      0.00      0.00      2613\n",
      "         15       0.00      0.00      0.00      2537\n",
      "         16       0.00      0.00      0.00      2583\n",
      "         17       0.00      0.00      0.00      2508\n",
      "         18       0.00      0.00      0.00      2534\n",
      "\n",
      "avg / total       0.42      0.21      0.10     98683\n",
      "\n"
     ]
    },
    {
     "name": "stderr",
     "output_type": "stream",
     "text": [
      "/Users/kennylino/.local/share/virtualenvs/emojiprediction-SvmtXtCx/lib/python3.6/site-packages/sklearn/metrics/classification.py:1135: UndefinedMetricWarning: Precision and F-score are ill-defined and being set to 0.0 in labels with no predicted samples.\n",
      "  'precision', 'predicted', average, warn_for)\n"
     ]
    }
   ],
   "source": [
    "# prints a report detailing precision/recall and f-score of the pipeline\n",
    "print(classification_report(esp_labels, y_pred))"
   ]
  },
  {
   "cell_type": "markdown",
   "metadata": {},
   "source": [
    "## tf-idf, bi-grams and part-of-speech tagging"
   ]
  },
  {
   "cell_type": "code",
   "execution_count": 29,
   "metadata": {
    "collapsed": true
   },
   "outputs": [],
   "source": [
    "# loads the spaCy Spanish parser\n",
    "parser = Spanish()"
   ]
  },
  {
   "cell_type": "code",
   "execution_count": 30,
   "metadata": {
    "collapsed": true
   },
   "outputs": [],
   "source": [
    "# tokenizes an input tweet using the spaCy Spanish parser;\n",
    "# returns a list of tokenized words with the POS tag attached to the word in 'word_POS' format\n",
    "def spacy_tokenize(tweet):\n",
    "    tokens = parser(tweet)\n",
    "    tokens = [token.text +'_' + token.pos_ for token in tokens]\n",
    "    return tokens"
   ]
  },
  {
   "cell_type": "code",
   "execution_count": 32,
   "metadata": {
    "collapsed": true
   },
   "outputs": [],
   "source": [
    "# pipeline used to gather counts of all bi-grams with each word labeled with POS in the dataset; \n",
    "# this is then normalized with tf-idf and each document is vectorized using TfidfVectorizer; \n",
    "# predict the labels using Multinomial Naive Bayes\n",
    "pipe = Pipeline([('tfidf', TfidfVectorizer(tokenizer=spacy_tokenize, ngram_range=(1,2))),\n",
    "                 ('clf', MultinomialNB())])"
   ]
  },
  {
   "cell_type": "code",
   "execution_count": 33,
   "metadata": {},
   "outputs": [
    {
     "name": "stdout",
     "output_type": "stream",
     "text": [
      "[ 0.21763574  0.21888455  0.21790455  0.21746402  0.2171026 ]\n",
      "Accuracy: 0.22 (+/- 0.00)\n"
     ]
    }
   ],
   "source": [
    "# Crossvalidates the performance of the above pipe on the Spanish data/labels using 5 folds and returns\n",
    "# a list with the accuracy of each fold; prints the accuracy for each cross-section and the average accuracy\n",
    "scores = cross_val_score(pipe, esp_text, esp_labels, cv=5, n_jobs=-1)\n",
    "print(scores)\n",
    "print(\"Accuracy: %0.2f (+/- %0.2f)\" % (scores.mean(), scores.std() * 2))"
   ]
  },
  {
   "cell_type": "code",
   "execution_count": 34,
   "metadata": {},
   "outputs": [
    {
     "name": "stdout",
     "output_type": "stream",
     "text": [
      "[[19364   293    24     1     0     0     1     0     0     0     0     0\n",
      "      0     0     0     0     0     0     0]\n",
      " [11982  1463    56     1     0     0     0     0     0     3     0     0\n",
      "      0     0     0     0     0     0     0]\n",
      " [ 8291   413   547     0     0     0     2     0     0     0     0     0\n",
      "      0     0     0     0     0     0     0]\n",
      " [ 6632   123     7     7     0     0     0     0     0     0     0     0\n",
      "      0     0     0     0     0     0     0]\n",
      " [ 5984   409    38     0    12     0     0     0     0     1     0     0\n",
      "      0     0     0     0     0     0     0]\n",
      " [ 4239   111    26     0     0     9     1     0     0     1     0     0\n",
      "      0     0     0     0     0     0     0]\n",
      " [ 3608   161    29     0     2     0    33     0     0     0     0     0\n",
      "      0     0     0     0     0     0     0]\n",
      " [ 3429   171    49     1     0     0     1     0     0     0     0     0\n",
      "      0     0     0     0     0     0     0]\n",
      " [ 3309   172    19     1     0     0     0     0     0     0     0     0\n",
      "      0     0     0     0     0     0     0]\n",
      " [ 3135   177     3     0     0     0     0     0     0    55     0     0\n",
      "      0     0     0     0     0     0     0]\n",
      " [ 2940   162    20     0     1     0     0     0     0     2     0     0\n",
      "      0     0     0     0     0     0     0]\n",
      " [ 2810    95     2     0     0     0     0     0     0     0     0     0\n",
      "      0     0     0     0     0     0     0]\n",
      " [ 2724    60     2     0     0     0     0     0     0     0     0     0\n",
      "      0     0     0     0     0     0     0]\n",
      " [ 2484   168    38     0     0     0     0     0     0     1     0     0\n",
      "      0     3     0     0     0     0     0]\n",
      " [ 2566    42     5     0     0     0     0     0     0     0     0     0\n",
      "      0     0     0     0     0     0     0]\n",
      " [ 2471    63     2     0     1     0     0     0     0     0     0     0\n",
      "      0     0     0     0     0     0     0]\n",
      " [ 2532    46     5     0     0     0     0     0     0     0     0     0\n",
      "      0     0     0     0     0     0     0]\n",
      " [ 2472    34     2     0     0     0     0     0     0     0     0     0\n",
      "      0     0     0     0     0     0     0]\n",
      " [ 2299   194    40     0     0     0     0     0     0     1     0     0\n",
      "      0     0     0     0     0     0     0]]\n"
     ]
    }
   ],
   "source": [
    "# Crossvalidates the performance of the above pipe on the Spanish data/labels using 5 folds and returns\n",
    "# a list containing the predictions for each label; this is used in a confusion matrix\n",
    "y_pred = cross_val_predict(pipe,esp_text,esp_labels,cv=5, n_jobs=-1)\n",
    "conf_mat = confusion_matrix(esp_labels,y_pred)\n",
    "print(conf_mat)"
   ]
  },
  {
   "cell_type": "code",
   "execution_count": 35,
   "metadata": {},
   "outputs": [
    {
     "data": {
      "text/plain": [
       "<matplotlib.axes._subplots.AxesSubplot at 0x1b4a694e0>"
      ]
     },
     "execution_count": 35,
     "metadata": {},
     "output_type": "execute_result"
    },
    {
     "data": {
      "image/png": "[encoded data removed]",
      "text/plain": [
       "<matplotlib.figure.Figure at 0x12008ec88>"
      ]
     },
     "metadata": {},
     "output_type": "display_data"
    }
   ],
   "source": [
    "# visualizes the above confusion matrix\n",
    "df_cm = pd.DataFrame(conf_mat, index = [i for i in set(esp_labels)], columns = [i for i in set(esp_labels)])\n",
    "plt.figure(figsize= (10,7))\n",
    "sn.heatmap(df_cm, annot=False)"
   ]
  },
  {
   "cell_type": "code",
   "execution_count": 36,
   "metadata": {},
   "outputs": [
    {
     "name": "stdout",
     "output_type": "stream",
     "text": [
      "             precision    recall  f1-score   support\n",
      "\n",
      "          0       0.21      0.98      0.34     19683\n",
      "          1       0.34      0.11      0.16     13505\n",
      "          2       0.60      0.06      0.11      9253\n",
      "          3       0.64      0.00      0.00      6769\n",
      "          4       0.75      0.00      0.00      6444\n",
      "          5       1.00      0.00      0.00      4387\n",
      "          6       0.87      0.01      0.02      3833\n",
      "          7       0.00      0.00      0.00      3651\n",
      "          8       0.00      0.00      0.00      3501\n",
      "          9       0.86      0.02      0.03      3370\n",
      "         10       0.00      0.00      0.00      3125\n",
      "         11       0.00      0.00      0.00      2907\n",
      "         12       0.00      0.00      0.00      2786\n",
      "         13       1.00      0.00      0.00      2694\n",
      "         14       0.00      0.00      0.00      2613\n",
      "         15       0.00      0.00      0.00      2537\n",
      "         16       0.00      0.00      0.00      2583\n",
      "         17       0.00      0.00      0.00      2508\n",
      "         18       0.00      0.00      0.00      2534\n",
      "\n",
      "avg / total       0.37      0.22      0.10     98683\n",
      "\n"
     ]
    },
    {
     "name": "stderr",
     "output_type": "stream",
     "text": [
      "/Users/kennylino/.local/share/virtualenvs/emojiprediction-SvmtXtCx/lib/python3.6/site-packages/sklearn/metrics/classification.py:1135: UndefinedMetricWarning: Precision and F-score are ill-defined and being set to 0.0 in labels with no predicted samples.\n",
      "  'precision', 'predicted', average, warn_for)\n"
     ]
    }
   ],
   "source": [
    "# prints a report detailing precision/recall and f-score of the pipeline\n",
    "print(classification_report(esp_labels, y_pred))"
   ]
  },
  {
   "cell_type": "markdown",
   "metadata": {},
   "source": [
    "## tf-idf, bi-grams and part-of-speech tagging with balanced dataset"
   ]
  },
  {
   "cell_type": "code",
   "execution_count": 37,
   "metadata": {
    "collapsed": true
   },
   "outputs": [],
   "source": [
    "# puts the English text and labels data into a pandas DataFrame\n",
    "esp_data_df = pd.DataFrame([esp_text, esp_labels]).transpose()\n",
    "esp_data_df.columns = (['text', 'label'])"
   ]
  },
  {
   "cell_type": "code",
   "execution_count": 39,
   "metadata": {},
   "outputs": [
    {
     "data": {
      "text/html": [
       "<div>\n",
       "<style scoped>\n",
       "    .dataframe tbody tr th:only-of-type {\n",
       "        vertical-align: middle;\n",
       "    }\n",
       "\n",
       "    .dataframe tbody tr th {\n",
       "        vertical-align: top;\n",
       "    }\n",
       "\n",
       "    .dataframe thead th {\n",
       "        text-align: right;\n",
       "    }\n",
       "</style>\n",
       "<table border=\"1\" class=\"dataframe\">\n",
       "  <thead>\n",
       "    <tr style=\"text-align: right;\">\n",
       "      <th></th>\n",
       "      <th>text</th>\n",
       "      <th>label</th>\n",
       "    </tr>\n",
       "  </thead>\n",
       "  <tbody>\n",
       "    <tr>\n",
       "      <th>42311</th>\n",
       "      <td>\"Yo solo tengo ojos pa usted relájate despreoc...</td>\n",
       "      <td>0</td>\n",
       "    </tr>\n",
       "    <tr>\n",
       "      <th>70245</th>\n",
       "      <td>Quédate. @ Ciudad Monumental De Cáceres</td>\n",
       "      <td>0</td>\n",
       "    </tr>\n",
       "    <tr>\n",
       "      <th>1507</th>\n",
       "      <td>Por tenerte y nunca faltarme @ Mya-Umbracle, V...</td>\n",
       "      <td>0</td>\n",
       "    </tr>\n",
       "    <tr>\n",
       "      <th>87614</th>\n",
       "      <td>Sois las mejores mis shicasss @ Recinto Ferial...</td>\n",
       "      <td>0</td>\n",
       "    </tr>\n",
       "    <tr>\n",
       "      <th>49471</th>\n",
       "      <td>Trabajando desde el paraíso #Tm #MardePulpi #T...</td>\n",
       "      <td>0</td>\n",
       "    </tr>\n",
       "    <tr>\n",
       "      <th>61651</th>\n",
       "      <td>Importancia a lo importante @ Madrid, Spain</td>\n",
       "      <td>0</td>\n",
       "    </tr>\n",
       "    <tr>\n",
       "      <th>12496</th>\n",
       "      <td>Visión Maps De trabajo con ilusión y corazón ️...</td>\n",
       "      <td>0</td>\n",
       "    </tr>\n",
       "    <tr>\n",
       "      <th>27186</th>\n",
       "      <td>Jueves domingoso de flores @ Granada, Spain</td>\n",
       "      <td>0</td>\n",
       "    </tr>\n",
       "    <tr>\n",
       "      <th>29817</th>\n",
       "      <td>Si no te quieres a ti misma, nadie más lo hará...</td>\n",
       "      <td>0</td>\n",
       "    </tr>\n",
       "    <tr>\n",
       "      <th>2800</th>\n",
       "      <td>Una imagen vale más que mil palabras. #Spain #...</td>\n",
       "      <td>0</td>\n",
       "    </tr>\n",
       "    <tr>\n",
       "      <th>9400</th>\n",
       "      <td>FELIZ dia del Padre desde El ️de #lalatina . E...</td>\n",
       "      <td>0</td>\n",
       "    </tr>\n",
       "    <tr>\n",
       "      <th>14148</th>\n",
       "      <td>Cuando hacemos los recuerdos por las calles de...</td>\n",
       "      <td>0</td>\n",
       "    </tr>\n",
       "    <tr>\n",
       "      <th>29080</th>\n",
       "      <td>In love con este vestido novias y amantes de l...</td>\n",
       "      <td>0</td>\n",
       "    </tr>\n",
       "    <tr>\n",
       "      <th>19798</th>\n",
       "      <td>Resacón de chulis. ️ #aboutlastnight #party #f...</td>\n",
       "      <td>0</td>\n",
       "    </tr>\n",
       "    <tr>\n",
       "      <th>27274</th>\n",
       "      <td>Pirata @ Mejorada Del Campo, Madrid, Spain</td>\n",
       "      <td>0</td>\n",
       "    </tr>\n",
       "    <tr>\n",
       "      <th>5694</th>\n",
       "      <td>Feliz año NO nuevo! #campanadas #happynewfakey...</td>\n",
       "      <td>0</td>\n",
       "    </tr>\n",
       "    <tr>\n",
       "      <th>89901</th>\n",
       "      <td>Siempre @ GURÚ</td>\n",
       "      <td>0</td>\n",
       "    </tr>\n",
       "    <tr>\n",
       "      <th>93843</th>\n",
       "      <td>1607_16 Barraca /\\\\\\\\ Cartel al completo para ...</td>\n",
       "      <td>0</td>\n",
       "    </tr>\n",
       "    <tr>\n",
       "      <th>27750</th>\n",
       "      <td>Vamos fuerte por el 2017 ️ @ Dos Hermanas, Spain</td>\n",
       "      <td>0</td>\n",
       "    </tr>\n",
       "    <tr>\n",
       "      <th>91193</th>\n",
       "      <td>tequiero BaBy @ Playa Tavernes</td>\n",
       "      <td>0</td>\n",
       "    </tr>\n",
       "    <tr>\n",
       "      <th>10699</th>\n",
       "      <td>Cuánto os echo de menos! ️ #Ushuaïa #Ibiza #an...</td>\n",
       "      <td>0</td>\n",
       "    </tr>\n",
       "    <tr>\n",
       "      <th>30123</th>\n",
       "      <td>Happy birthday mi sweettie Que aunque sepas qu...</td>\n",
       "      <td>0</td>\n",
       "    </tr>\n",
       "    <tr>\n",
       "      <th>4900</th>\n",
       "      <td>Buen día el de ayer en buena compañía #rafasmp...</td>\n",
       "      <td>0</td>\n",
       "    </tr>\n",
       "    <tr>\n",
       "      <th>50895</th>\n",
       "      <td>Qué alegría... @user es #TT en #Twitter en la ...</td>\n",
       "      <td>0</td>\n",
       "    </tr>\n",
       "    <tr>\n",
       "      <th>59710</th>\n",
       "      <td>En el frío de Salamanca ️ #friends #erasmus #e...</td>\n",
       "      <td>0</td>\n",
       "    </tr>\n",
       "    <tr>\n",
       "      <th>70149</th>\n",
       "      <td>Seguimos con nuestras batitas ️ ️ ️Un súper éx...</td>\n",
       "      <td>0</td>\n",
       "    </tr>\n",
       "    <tr>\n",
       "      <th>82184</th>\n",
       "      <td>Que mejor que empezar el año que con ella @ Pu...</td>\n",
       "      <td>0</td>\n",
       "    </tr>\n",
       "    <tr>\n",
       "      <th>76026</th>\n",
       "      <td>Los más grandes @ Benamejí, Spain</td>\n",
       "      <td>0</td>\n",
       "    </tr>\n",
       "    <tr>\n",
       "      <th>63219</th>\n",
       "      <td>Demasiado os quiero yo ️ ️ ️ @user @user @ El ...</td>\n",
       "      <td>0</td>\n",
       "    </tr>\n",
       "    <tr>\n",
       "      <th>67557</th>\n",
       "      <td>Ya sabes todo mas que dicho, te quiiero felice...</td>\n",
       "      <td>0</td>\n",
       "    </tr>\n",
       "    <tr>\n",
       "      <th>...</th>\n",
       "      <td>...</td>\n",
       "      <td>...</td>\n",
       "    </tr>\n",
       "    <tr>\n",
       "      <th>50559</th>\n",
       "      <td>@ Parque Prado Ovejero</td>\n",
       "      <td>18</td>\n",
       "    </tr>\n",
       "    <tr>\n",
       "      <th>21657</th>\n",
       "      <td>Guardianas de la noche, mucho calor @ Ibros, A...</td>\n",
       "      <td>18</td>\n",
       "    </tr>\n",
       "    <tr>\n",
       "      <th>13450</th>\n",
       "      <td>Después de un día duro y largo... Sofá y relax...</td>\n",
       "      <td>18</td>\n",
       "    </tr>\n",
       "    <tr>\n",
       "      <th>61301</th>\n",
       "      <td>@user @user @user EL MESIAS,EL INTOCABLE, SU M...</td>\n",
       "      <td>18</td>\n",
       "    </tr>\n",
       "    <tr>\n",
       "      <th>94717</th>\n",
       "      <td>Hay que empezar el día con alegría! #Mojacar #...</td>\n",
       "      <td>18</td>\n",
       "    </tr>\n",
       "    <tr>\n",
       "      <th>34403</th>\n",
       "      <td>Primera parte fiesta sorpresa!!!! #cumple #del...</td>\n",
       "      <td>18</td>\n",
       "    </tr>\n",
       "    <tr>\n",
       "      <th>7579</th>\n",
       "      <td>#birraterrazagram para la segunda una major. L...</td>\n",
       "      <td>18</td>\n",
       "    </tr>\n",
       "    <tr>\n",
       "      <th>10998</th>\n",
       "      <td>Pero me tengo que conformar con esto @ Carrete...</td>\n",
       "      <td>18</td>\n",
       "    </tr>\n",
       "    <tr>\n",
       "      <th>39511</th>\n",
       "      <td>Vuelta a la infancia! #ComoSifueramosDoctoras ...</td>\n",
       "      <td>18</td>\n",
       "    </tr>\n",
       "    <tr>\n",
       "      <th>93716</th>\n",
       "      <td>Ya han venido los Reyes!!! Y parece que este a...</td>\n",
       "      <td>18</td>\n",
       "    </tr>\n",
       "    <tr>\n",
       "      <th>57292</th>\n",
       "      <td>A la que la quieran tener del culo y le quiera...</td>\n",
       "      <td>18</td>\n",
       "    </tr>\n",
       "    <tr>\n",
       "      <th>61236</th>\n",
       "      <td>Madre mia como ibamos jajajajaj @user y @user ...</td>\n",
       "      <td>18</td>\n",
       "    </tr>\n",
       "    <tr>\n",
       "      <th>26542</th>\n",
       "      <td>Pues tampoco se está tan mal por Alicante a pe...</td>\n",
       "      <td>18</td>\n",
       "    </tr>\n",
       "    <tr>\n",
       "      <th>41942</th>\n",
       "      <td>Cogiendo fuerzas @ Restaurante Escuela de Pieter</td>\n",
       "      <td>18</td>\n",
       "    </tr>\n",
       "    <tr>\n",
       "      <th>13729</th>\n",
       "      <td>Presentación Dakar 2017! @ Barcelona Centre</td>\n",
       "      <td>18</td>\n",
       "    </tr>\n",
       "    <tr>\n",
       "      <th>19910</th>\n",
       "      <td>@user pues tus colores van mal eh!!!!,vamos qu...</td>\n",
       "      <td>18</td>\n",
       "    </tr>\n",
       "    <tr>\n",
       "      <th>68758</th>\n",
       "      <td>Almuerzo en las alturas... Alguien dijo frío? ...</td>\n",
       "      <td>18</td>\n",
       "    </tr>\n",
       "    <tr>\n",
       "      <th>95604</th>\n",
       "      <td>Punto y seguido @ Benidorm Beach</td>\n",
       "      <td>18</td>\n",
       "    </tr>\n",
       "    <tr>\n",
       "      <th>96661</th>\n",
       "      <td>Al asunto hay que ponerle un poquito de polvor...</td>\n",
       "      <td>18</td>\n",
       "    </tr>\n",
       "    <tr>\n",
       "      <th>18954</th>\n",
       "      <td>Sábado sabadete @ Seville, Spain</td>\n",
       "      <td>18</td>\n",
       "    </tr>\n",
       "    <tr>\n",
       "      <th>50285</th>\n",
       "      <td>Ten cuidao, que si te acercas mucho puedo dart...</td>\n",
       "      <td>18</td>\n",
       "    </tr>\n",
       "    <tr>\n",
       "      <th>64020</th>\n",
       "      <td>La sonrisa como lenguaje universal @ Parque de...</td>\n",
       "      <td>18</td>\n",
       "    </tr>\n",
       "    <tr>\n",
       "      <th>26430</th>\n",
       "      <td>Increible campo para comenzar abriendo la lati...</td>\n",
       "      <td>18</td>\n",
       "    </tr>\n",
       "    <tr>\n",
       "      <th>45149</th>\n",
       "      <td>Happy Smile's day @ Segovia, España</td>\n",
       "      <td>18</td>\n",
       "    </tr>\n",
       "    <tr>\n",
       "      <th>6439</th>\n",
       "      <td>¡Lo prometido es deuda, mercamad! y como os di...</td>\n",
       "      <td>18</td>\n",
       "    </tr>\n",
       "    <tr>\n",
       "      <th>67702</th>\n",
       "      <td>Los discos duros antiguos de casa siempre guar...</td>\n",
       "      <td>18</td>\n",
       "    </tr>\n",
       "    <tr>\n",
       "      <th>40126</th>\n",
       "      <td>Nos vamos !! #bestfriend #viernes #friday #hap...</td>\n",
       "      <td>18</td>\n",
       "    </tr>\n",
       "    <tr>\n",
       "      <th>80380</th>\n",
       "      <td>Hoy ha tocado, de la serie Divergente: Leal #m...</td>\n",
       "      <td>18</td>\n",
       "    </tr>\n",
       "    <tr>\n",
       "      <th>5474</th>\n",
       "      <td>Mucho que celebrar!!!Cerrando un día redondo #...</td>\n",
       "      <td>18</td>\n",
       "    </tr>\n",
       "    <tr>\n",
       "      <th>59273</th>\n",
       "      <td>Que sea mañana yaaaaa</td>\n",
       "      <td>18</td>\n",
       "    </tr>\n",
       "  </tbody>\n",
       "</table>\n",
       "<p>47652 rows × 2 columns</p>\n",
       "</div>"
      ],
      "text/plain": [
       "                                                    text label\n",
       "42311  \"Yo solo tengo ojos pa usted relájate despreoc...     0\n",
       "70245            Quédate. @ Ciudad Monumental De Cáceres     0\n",
       "1507   Por tenerte y nunca faltarme @ Mya-Umbracle, V...     0\n",
       "87614  Sois las mejores mis shicasss @ Recinto Ferial...     0\n",
       "49471  Trabajando desde el paraíso #Tm #MardePulpi #T...     0\n",
       "61651        Importancia a lo importante @ Madrid, Spain     0\n",
       "12496  Visión Maps De trabajo con ilusión y corazón ️...     0\n",
       "27186        Jueves domingoso de flores @ Granada, Spain     0\n",
       "29817  Si no te quieres a ti misma, nadie más lo hará...     0\n",
       "2800   Una imagen vale más que mil palabras. #Spain #...     0\n",
       "9400   FELIZ dia del Padre desde El ️de #lalatina . E...     0\n",
       "14148  Cuando hacemos los recuerdos por las calles de...     0\n",
       "29080  In love con este vestido novias y amantes de l...     0\n",
       "19798  Resacón de chulis. ️ #aboutlastnight #party #f...     0\n",
       "27274         Pirata @ Mejorada Del Campo, Madrid, Spain     0\n",
       "5694   Feliz año NO nuevo! #campanadas #happynewfakey...     0\n",
       "89901                                     Siempre @ GURÚ     0\n",
       "93843  1607_16 Barraca /\\\\\\\\ Cartel al completo para ...     0\n",
       "27750   Vamos fuerte por el 2017 ️ @ Dos Hermanas, Spain     0\n",
       "91193                     tequiero BaBy @ Playa Tavernes     0\n",
       "10699  Cuánto os echo de menos! ️ #Ushuaïa #Ibiza #an...     0\n",
       "30123  Happy birthday mi sweettie Que aunque sepas qu...     0\n",
       "4900   Buen día el de ayer en buena compañía #rafasmp...     0\n",
       "50895  Qué alegría... @user es #TT en #Twitter en la ...     0\n",
       "59710  En el frío de Salamanca ️ #friends #erasmus #e...     0\n",
       "70149  Seguimos con nuestras batitas ️ ️ ️Un súper éx...     0\n",
       "82184  Que mejor que empezar el año que con ella @ Pu...     0\n",
       "76026                  Los más grandes @ Benamejí, Spain     0\n",
       "63219  Demasiado os quiero yo ️ ️ ️ @user @user @ El ...     0\n",
       "67557  Ya sabes todo mas que dicho, te quiiero felice...     0\n",
       "...                                                  ...   ...\n",
       "50559                             @ Parque Prado Ovejero    18\n",
       "21657  Guardianas de la noche, mucho calor @ Ibros, A...    18\n",
       "13450  Después de un día duro y largo... Sofá y relax...    18\n",
       "61301  @user @user @user EL MESIAS,EL INTOCABLE, SU M...    18\n",
       "94717  Hay que empezar el día con alegría! #Mojacar #...    18\n",
       "34403  Primera parte fiesta sorpresa!!!! #cumple #del...    18\n",
       "7579   #birraterrazagram para la segunda una major. L...    18\n",
       "10998  Pero me tengo que conformar con esto @ Carrete...    18\n",
       "39511  Vuelta a la infancia! #ComoSifueramosDoctoras ...    18\n",
       "93716  Ya han venido los Reyes!!! Y parece que este a...    18\n",
       "57292  A la que la quieran tener del culo y le quiera...    18\n",
       "61236  Madre mia como ibamos jajajajaj @user y @user ...    18\n",
       "26542  Pues tampoco se está tan mal por Alicante a pe...    18\n",
       "41942   Cogiendo fuerzas @ Restaurante Escuela de Pieter    18\n",
       "13729        Presentación Dakar 2017! @ Barcelona Centre    18\n",
       "19910  @user pues tus colores van mal eh!!!!,vamos qu...    18\n",
       "68758  Almuerzo en las alturas... Alguien dijo frío? ...    18\n",
       "95604                   Punto y seguido @ Benidorm Beach    18\n",
       "96661  Al asunto hay que ponerle un poquito de polvor...    18\n",
       "18954                   Sábado sabadete @ Seville, Spain    18\n",
       "50285  Ten cuidao, que si te acercas mucho puedo dart...    18\n",
       "64020  La sonrisa como lenguaje universal @ Parque de...    18\n",
       "26430  Increible campo para comenzar abriendo la lati...    18\n",
       "45149                Happy Smile's day @ Segovia, España    18\n",
       "6439   ¡Lo prometido es deuda, mercamad! y como os di...    18\n",
       "67702  Los discos duros antiguos de casa siempre guar...    18\n",
       "40126  Nos vamos !! #bestfriend #viernes #friday #hap...    18\n",
       "80380  Hoy ha tocado, de la serie Divergente: Leal #m...    18\n",
       "5474   Mucho que celebrar!!!Cerrando un día redondo #...    18\n",
       "59273                              Que sea mañana yaaaaa    18\n",
       "\n",
       "[47652 rows x 2 columns]"
      ]
     },
     "execution_count": 39,
     "metadata": {},
     "output_type": "execute_result"
    }
   ],
   "source": [
    "# collects a random sample of each category based on the frequency of the least common set\n",
    "# e.g. category 18 has 2508 items, so a sample of 2508 tweets from each category\n",
    "esp_data_balanced = pd.concat([esp_data_df[esp_data_df.label == i].sample(2508) for i in range(0,19)])\n",
    "esp_data_balanced"
   ]
  },
  {
   "cell_type": "code",
   "execution_count": 40,
   "metadata": {
    "collapsed": true
   },
   "outputs": [],
   "source": [
    "# takes the data from the eng_data_balanced DataFrame and converts the text/labels into Python arrays\n",
    "esp_text_balanced = esp_data_balanced['text'].tolist()\n",
    "esp_labels_balanced = esp_data_balanced['label'].tolist()"
   ]
  },
  {
   "cell_type": "code",
   "execution_count": 41,
   "metadata": {
    "collapsed": true
   },
   "outputs": [],
   "source": [
    "# asserts that the number of tweets and labels are equal\n",
    "assert len(esp_text_balanced) == len(esp_labels_balanced)"
   ]
  },
  {
   "cell_type": "code",
   "execution_count": 42,
   "metadata": {
    "collapsed": true
   },
   "outputs": [],
   "source": [
    "# shuffle the dataset with the same seed\n",
    "np.random.seed(42)\n",
    "np.random.shuffle(esp_text_balanced)\n",
    "np.random.seed(42)\n",
    "np.random.shuffle(esp_labels_balanced)"
   ]
  },
  {
   "cell_type": "code",
   "execution_count": 43,
   "metadata": {
    "collapsed": true
   },
   "outputs": [],
   "source": [
    "# loads the spaCy Spanish parser\n",
    "parser = Spanish()"
   ]
  },
  {
   "cell_type": "code",
   "execution_count": 44,
   "metadata": {
    "collapsed": true
   },
   "outputs": [],
   "source": [
    "# tokenizes an input tweet using the spaCy Spanish parser;\n",
    "# returns a list of tokenized words with the POS tag attached to the word in 'word_POS' format\n",
    "def spacy_tokenize(tweet):\n",
    "    tokens = parser(tweet)\n",
    "    tokens = [token.text +'_' + token.pos_ for token in tokens]\n",
    "    return tokens"
   ]
  },
  {
   "cell_type": "code",
   "execution_count": 46,
   "metadata": {
    "collapsed": true
   },
   "outputs": [],
   "source": [
    "# pipeline used to gather counts of all bi-grams with each word labeled with POS in the dataset; \n",
    "# this is then normalized with tf-idf and each document is vectorized using TfidfVectorizer; \n",
    "# predict the labels using Multinomial Naive Bayes\n",
    "pipe = Pipeline([('tfidf', TfidfVectorizer(tokenizer=spacy_tokenize, ngram_range=(1,2))),\n",
    "                 ('clf', MultinomialNB())])"
   ]
  },
  {
   "cell_type": "code",
   "execution_count": 47,
   "metadata": {},
   "outputs": [
    {
     "name": "stdout",
     "output_type": "stream",
     "text": [
      "[ 0.21660726  0.22300273  0.22803523  0.21745982  0.21819519]\n",
      "Accuracy: 0.22 (+/- 0.01)\n"
     ]
    }
   ],
   "source": [
    "# Crossvalidates the performance of the above pipe on the English data/labels using 5 folds\n",
    "# prints the scores for each cross-section and the average accuracy\n",
    "scores = cross_val_score(pipe, esp_text_balanced, esp_labels_balanced, cv=5, n_jobs=-1)\n",
    "print(scores)\n",
    "print(\"Accuracy: %0.2f (+/- %0.2f)\" % (scores.mean(), scores.std() * 2))"
   ]
  },
  {
   "cell_type": "code",
   "execution_count": 48,
   "metadata": {},
   "outputs": [
    {
     "name": "stdout",
     "output_type": "stream",
     "text": [
      "[[ 982   67   29  135   43  122   37   51   70  207   43   53   85   27\n",
      "   178   55  119  187   18]\n",
      " [  62  239   96  135  118  226   91  106  105  380   70   79   93   76\n",
      "   149   61  168  126  128]\n",
      " [  27   64  571   62   89  153  151  167   86  196   77   42   51  149\n",
      "    57   45  328   54  139]\n",
      " [ 100   66   33  307   54  180   60   63  108  204   50  110  146   20\n",
      "   301  130  210  335   31]\n",
      " [  44   90   86  108  231  231  146  163  144  335   77   55   50  105\n",
      "   137   79  161   75  191]\n",
      " [  59   82   90  156  101  666  100   97  124  170   61   55   88   68\n",
      "   165   54  151  159   62]\n",
      " [  22   27   77   54   68  126  985  118   99  173   64   54   48   67\n",
      "    91   98  153   68  116]\n",
      " [  20   55  167   54  130  193  164  346  104  210   68   45   47  145\n",
      "   115  135  305   67  138]\n",
      " [  41   53   74   94  119  151  155  103  460  314  134   63   81   70\n",
      "   140  112  149   90  105]\n",
      " [  12   26   25   13   32   39   60   52   30 1919   59   33   12   19\n",
      "    23   39   57   27   31]\n",
      " [  36   64  101   82   75  139  165  128  172  450  297   56   63  114\n",
      "   100   96  167   73  130]\n",
      " [  72   62   35  190   79  151   65   85   87  381   87  195  119   43\n",
      "   207  141  210  255   44]\n",
      " [ 101   81   45  256   80  181   59   53  106  275   52  106  170   34\n",
      "   279  104  190  298   38]\n",
      " [  26   69  184   66  115  219  148  212  111  252  120   57   41  243\n",
      "    92   84  232   55  182]\n",
      " [  88   65   35  280   51  168   41   51  119  168   47  119  153   31\n",
      "   356  121  213  365   37]\n",
      " [  28   61   39  112   65   81   56  115   69  364   80   98   84   39\n",
      "   174  474  381  143   45]\n",
      " [  22   43   61   80   44   60   65   87   40  171   30   43   42   43\n",
      "    61  139 1339   95   43]\n",
      " [  80   57   46  297   33  170   39   50   77  226   47  115  137   16\n",
      "   304  104  224  464   22]\n",
      " [  25   90  181   49  139  177  197  161  128  374  100   55   41  150\n",
      "    77   76  170   47  271]]\n"
     ]
    }
   ],
   "source": [
    "# Crossvalidates the performance of the above pipe on the English data/labels using 5 folds\n",
    "# prints the scores for each cross-section and the average accuracy\n",
    "y_pred = cross_val_predict(pipe,esp_text_balanced,esp_labels_balanced,cv=5, n_jobs=-1)\n",
    "conf_mat = confusion_matrix(esp_labels_balanced,y_pred)\n",
    "print(conf_mat)"
   ]
  },
  {
   "cell_type": "code",
   "execution_count": 49,
   "metadata": {},
   "outputs": [
    {
     "data": {
      "text/plain": [
       "<matplotlib.axes._subplots.AxesSubplot at 0x1b683eac8>"
      ]
     },
     "execution_count": 49,
     "metadata": {},
     "output_type": "execute_result"
    },
    {
     "data": {
      "image/png": "[encoded data removed]",
      "text/plain": [
       "<matplotlib.figure.Figure at 0x110f64c50>"
      ]
     },
     "metadata": {},
     "output_type": "display_data"
    }
   ],
   "source": [
    "# visualizes the above confusion matrix\n",
    "df_cm = pd.DataFrame(conf_mat, index = [i for i in set(esp_labels)], columns = [i for i in set(esp_labels)])\n",
    "plt.figure(figsize= (10,7))\n",
    "sn.heatmap(df_cm, annot=False)"
   ]
  },
  {
   "cell_type": "code",
   "execution_count": 50,
   "metadata": {},
   "outputs": [
    {
     "name": "stdout",
     "output_type": "stream",
     "text": [
      "             precision    recall  f1-score   support\n",
      "\n",
      "          0       0.53      0.39      0.45      2508\n",
      "          1       0.18      0.10      0.12      2508\n",
      "          2       0.29      0.23      0.25      2508\n",
      "          3       0.12      0.12      0.12      2508\n",
      "          4       0.14      0.09      0.11      2508\n",
      "          5       0.19      0.27      0.22      2508\n",
      "          6       0.35      0.39      0.37      2508\n",
      "          7       0.16      0.14      0.15      2508\n",
      "          8       0.21      0.18      0.19      2508\n",
      "          9       0.28      0.77      0.41      2508\n",
      "         10       0.19      0.12      0.15      2508\n",
      "         11       0.14      0.08      0.10      2508\n",
      "         12       0.11      0.07      0.08      2508\n",
      "         13       0.17      0.10      0.12      2508\n",
      "         14       0.12      0.14      0.13      2508\n",
      "         15       0.22      0.19      0.20      2508\n",
      "         16       0.27      0.53      0.36      2508\n",
      "         17       0.16      0.19      0.17      2508\n",
      "         18       0.15      0.11      0.13      2508\n",
      "\n",
      "avg / total       0.21      0.22      0.20     47652\n",
      "\n"
     ]
    }
   ],
   "source": [
    "# prints a report detailing precision/recall and f-score of the pipeline\n",
    "print(classification_report(esp_labels_balanced, y_pred))"
   ]
  }
 ],
 "metadata": {
  "kernelspec": {
   "display_name": "emojiprediction",
   "language": "python",
   "name": "emojiprediction"
  },
  "language_info": {
   "codemirror_mode": {
    "name": "ipython",
    "version": 3
   },
   "file_extension": ".py",
   "mimetype": "text/x-python",
   "name": "python",
   "nbconvert_exporter": "python",
   "pygments_lexer": "ipython3",
   "version": "3.6.3"
  }
 },
 "nbformat": 4,
 "nbformat_minor": 2
}
