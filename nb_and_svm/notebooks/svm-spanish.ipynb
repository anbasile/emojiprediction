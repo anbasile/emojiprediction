{
 "cells": [
  {
   "cell_type": "code",
   "execution_count": 1,
   "metadata": {
    "collapsed": true
   },
   "outputs": [],
   "source": [
    "# importing the necessary packages\n",
    "\n",
    "# packages used for training\n",
    "from sklearn.pipeline import Pipeline\n",
    "from sklearn.feature_extraction.text import CountVectorizer\n",
    "from sklearn.feature_extraction.text import TfidfVectorizer\n",
    "from sklearn.svm import LinearSVC\n",
    "import numpy as np\n",
    "import pandas as pd\n",
    "\n",
    "# package used for POS-taggingh\n",
    "from spacy.es import Spanish\n",
    "\n",
    "# packages used for evaluation\n",
    "from sklearn.model_selection import cross_val_score\n",
    "from sklearn.model_selection import cross_val_predict\n",
    "from sklearn.metrics import confusion_matrix\n",
    "from sklearn.metrics import classification_report\n",
    "\n",
    "# packages used for visualization\n",
    "import matplotlib.pyplot as plt\n",
    "import seaborn as sn\n",
    "%matplotlib inline"
   ]
  },
  {
   "cell_type": "code",
   "execution_count": 2,
   "metadata": {
    "collapsed": true
   },
   "outputs": [],
   "source": [
    "# loads the text and labels\n",
    "with open('../data/train/es.text') as f:\n",
    "    esp_text = f.readlines()\n",
    "\n",
    "with open('../data/train/es.labels') as f:\n",
    "    esp_labels = f.readlines()"
   ]
  },
  {
   "cell_type": "code",
   "execution_count": 3,
   "metadata": {
    "collapsed": true
   },
   "outputs": [],
   "source": [
    "# asserts that the number of tweets and labels are equal\n",
    "assert len(esp_text) == len(esp_labels)"
   ]
  },
  {
   "cell_type": "code",
   "execution_count": 4,
   "metadata": {
    "collapsed": true
   },
   "outputs": [],
   "source": [
    "esp_text = [tweet.strip() for tweet in esp_text]\n",
    "esp_labels = [int(label.strip()) for label in esp_labels]"
   ]
  },
  {
   "cell_type": "code",
   "execution_count": 5,
   "metadata": {
    "collapsed": true
   },
   "outputs": [],
   "source": [
    "np.random.seed(42)\n",
    "np.random.shuffle(esp_text)\n",
    "np.random.seed(42)\n",
    "np.random.shuffle(esp_labels)"
   ]
  },
  {
   "cell_type": "markdown",
   "metadata": {},
   "source": [
    "## Raw counts"
   ]
  },
  {
   "cell_type": "code",
   "execution_count": 6,
   "metadata": {},
   "outputs": [],
   "source": [
    "# pipeline used to gather counts of all words in the dataset and vectorizes each document using CountVectorizer;\n",
    "# predict the labels using Linear Support Vector Machines\n",
    "pipe = Pipeline([('count', CountVectorizer()),\n",
    "                 ('clf', LinearSVC())])"
   ]
  },
  {
   "cell_type": "code",
   "execution_count": 7,
   "metadata": {},
   "outputs": [
    {
     "name": "stdout",
     "output_type": "stream",
     "text": [
      "[ 0.23105754  0.229421    0.2301145   0.22734644  0.22318532]\n",
      "Accuracy: 0.23 (+/- 0.01)\n"
     ]
    }
   ],
   "source": [
    "# Crossvalidates the performance of the above pipe on the Spanish data/labels using 5 folds and returns\n",
    "# a list with the accuracy of each fold; prints the accuracy for each cross-section and the average accuracy\n",
    "scores = cross_val_score(pipe, esp_text, esp_labels, cv=5, n_jobs=-1)\n",
    "print(scores)\n",
    "print(\"Accuracy: %0.2f (+/- %0.2f)\" % (scores.mean(), scores.std() * 2))"
   ]
  },
  {
   "cell_type": "code",
   "execution_count": 8,
   "metadata": {},
   "outputs": [
    {
     "name": "stdout",
     "output_type": "stream",
     "text": [
      "[[8427 2800  951 1335  819  696  395  328  418  533  314  374  410  224\n",
      "   419  318  323  380  219]\n",
      " [3892 3642  956  641  698  427  247  311  349  440  270  256  244  204\n",
      "   185  171  198  165  209]\n",
      " [1461 1036 3036  307  486  285  351  304  303  153  274  118  127  254\n",
      "   120  137  174  103  224]\n",
      " [2786  849  292  737  278  244  105  123  145   92  112  133  128   61\n",
      "   176  137  145  150   76]\n",
      " [1586 1004  521  288  816  269  258  211  243  192  171  108   85  142\n",
      "   102  123   90   82  153]\n",
      " [1357  564  356  243  315  507  119  136  136   44   76   65   74   80\n",
      "    77   53   66   54   65]\n",
      " [ 577  289  355  140  230   95 1220  148  134   77   87   62   54   87\n",
      "    32   61   59   38   88]\n",
      " [ 689  416  466  156  301  150  188  357  148   76  106   51   52   99\n",
      "    56   91  100   54   95]\n",
      " [ 840  477  300  153  251  119  150  121  385   97  138   57   52   66\n",
      "    50   72   46   36   91]\n",
      " [ 628  327  112   62  119   36   82   46   61 1549   68   51   23   30\n",
      "    25   59   35   17   40]\n",
      " [ 716  378  347  157  211   76  123   98  141  150  255   55   41   92\n",
      "    50   68   59   33   75]\n",
      " [1078  375  154  198  129   66   80   65   69   75   62  160   68   31\n",
      "    75   81   64   48   29]\n",
      " [1102  382  146  229   91   88   61   44   61   63   44   58  113   28\n",
      "    64   61   56   68   27]\n",
      " [ 492  356  384   98  211  123  120  114  103   65  112   45   38  173\n",
      "    34   55   56   37   78]\n",
      " [1126  336  105  245  108   94   41   29   49   34   34   52   59   22\n",
      "    90   49   47   68   25]\n",
      " [ 698  275  164  156  121   47   72   81   71   92   60   62   39   42\n",
      "    55  296   97   73   36]\n",
      " [ 541  254  254  131  118   63   74   76   65   43   57   52   43   61\n",
      "    34  104  533   50   30]\n",
      " [1096  269  114  236   81   78   41   45   50   41   29   46   62   25\n",
      "    68   50   46  110   21]\n",
      " [ 453  350  362  109  236   85  126   91  100   98   96   45   36   86\n",
      "    30   40   49   26  116]]\n"
     ]
    }
   ],
   "source": [
    "# Crossvalidates the performance of the above pipe on the Spanish data/labels using 5 folds and returns\n",
    "# a list containing the predictions for each label; this is used in a confusion matrix\n",
    "y_pred = cross_val_predict(pipe,esp_text,esp_labels,cv=5, n_jobs=-1)\n",
    "conf_mat = confusion_matrix(esp_labels,y_pred)\n",
    "print(conf_mat)"
   ]
  },
  {
   "cell_type": "code",
   "execution_count": 9,
   "metadata": {},
   "outputs": [
    {
     "data": {
      "text/plain": [
       "<matplotlib.axes._subplots.AxesSubplot at 0x10fff4ac8>"
      ]
     },
     "execution_count": 9,
     "metadata": {},
     "output_type": "execute_result"
    },
    {
     "data": {
      "image/png": "[encoded data removed]",
      "text/plain": [
       "<matplotlib.figure.Figure at 0x1100b4320>"
      ]
     },
     "metadata": {},
     "output_type": "display_data"
    }
   ],
   "source": [
    "# visualizes the above confusion matrix\n",
    "df_cm = pd.DataFrame(conf_mat, index = [i for i in set(esp_labels)], columns = [i for i in set(esp_labels)])\n",
    "plt.figure(figsize= (10,7))\n",
    "sn.heatmap(df_cm, annot=False)"
   ]
  },
  {
   "cell_type": "code",
   "execution_count": 10,
   "metadata": {},
   "outputs": [
    {
     "name": "stdout",
     "output_type": "stream",
     "text": [
      "             precision    recall  f1-score   support\n",
      "\n",
      "          0       0.29      0.43      0.34     19683\n",
      "          1       0.25      0.27      0.26     13505\n",
      "          2       0.32      0.33      0.33      9253\n",
      "          3       0.13      0.11      0.12      6769\n",
      "          4       0.15      0.13      0.14      6444\n",
      "          5       0.14      0.12      0.13      4387\n",
      "          6       0.32      0.32      0.32      3833\n",
      "          7       0.13      0.10      0.11      3651\n",
      "          8       0.13      0.11      0.12      3501\n",
      "          9       0.40      0.46      0.43      3370\n",
      "         10       0.11      0.08      0.09      3125\n",
      "         11       0.09      0.06      0.07      2907\n",
      "         12       0.06      0.04      0.05      2786\n",
      "         13       0.10      0.06      0.08      2694\n",
      "         14       0.05      0.03      0.04      2613\n",
      "         15       0.15      0.12      0.13      2537\n",
      "         16       0.24      0.21      0.22      2583\n",
      "         17       0.07      0.04      0.05      2508\n",
      "         18       0.07      0.05      0.05      2534\n",
      "\n",
      "avg / total       0.21      0.23      0.21     98683\n",
      "\n"
     ]
    }
   ],
   "source": [
    "# prints a report detailing precision/recall and f-score of the pipeline\n",
    "print(classification_report(esp_labels, y_pred))"
   ]
  },
  {
   "cell_type": "markdown",
   "metadata": {},
   "source": [
    "## Feature normalization using tf-idf"
   ]
  },
  {
   "cell_type": "code",
   "execution_count": 11,
   "metadata": {
    "collapsed": true
   },
   "outputs": [],
   "source": [
    "# pipeline used to gather counts of all words in the dataset normalized with tf-idf and vectorizes each document \n",
    "# using TfidfVectorizer; predict the labels using Linear Support Vector Machines\n",
    "pipe = Pipeline([('tfidf', TfidfVectorizer()),\n",
    "                 ('clf', LinearSVC())])"
   ]
  },
  {
   "cell_type": "code",
   "execution_count": 12,
   "metadata": {},
   "outputs": [
    {
     "name": "stdout",
     "output_type": "stream",
     "text": [
      "[ 0.25364668  0.2542931   0.25098794  0.24716197  0.24822587]\n",
      "Accuracy: 0.25 (+/- 0.01)\n"
     ]
    }
   ],
   "source": [
    "# Crossvalidates the performance of the above pipe on the Spanish data/labels using 5 folds and returns\n",
    "# a list with the accuracy of each fold; prints the accuracy for each cross-section and the average accuracy\n",
    "scores = cross_val_score(pipe, esp_text, esp_labels, cv=5, n_jobs=-1)\n",
    "print(scores)\n",
    "print(\"Accuracy: %0.2f (+/- %0.2f)\" % (scores.mean(), scores.std() * 2))"
   ]
  },
  {
   "cell_type": "code",
   "execution_count": 13,
   "metadata": {},
   "outputs": [
    {
     "name": "stdout",
     "output_type": "stream",
     "text": [
      "[[9273 3042 1122 1182  737  556  394  272  335  614  264  258  269  158\n",
      "   262  257  315  224  149]\n",
      " [4161 4184 1114  518  653  343  253  231  286  454  208  143  151  124\n",
      "   125  131  199  102  125]\n",
      " [1458 1134 3750  242  413  219  357  259  222  149  185   80   76  162\n",
      "    66   92  183   65  141]\n",
      " [3080  912  358  651  262  211  107  108  124  128   87   84   96   42\n",
      "   115  107  137  101   59]\n",
      " [1699 1152  633  246  825  238  272  199  213  203  134   81   43  101\n",
      "    63   96   92   42  112]\n",
      " [1492  625  445  218  297  508  126  106  110   50   57   36   44   58\n",
      "    43   37   61   35   39]\n",
      " [ 590  297  446  108  207   71 1456  116  105   73   57   32   33   60\n",
      "    20   45   45   20   52]\n",
      " [ 759  486  580  135  291  137  203  333  127   78   82   32   27   81\n",
      "    38   71   95   31   65]\n",
      " [ 852  502  389  149  249  101  168   96  391  122  119   40   40   49\n",
      "    44   52   43   28   67]\n",
      " [ 637  355  138   46  107   28   85   41   52 1632   58   32   11   19\n",
      "    16   44   32    6   31]\n",
      " [ 732  436  416  135  205   68  133   92  133  194  239   43   21   74\n",
      "    32   51   55   18   48]\n",
      " [1206  418  175  175  121   52   84   47   54  100   59  134   37   27\n",
      "    40   64   65   28   21]\n",
      " [1254  402  176  202   81   66   62   34   46   64   28   46   87   27\n",
      "    44   46   54   46   21]\n",
      " [ 549  387  486   83  210   88  135  106   90   68   88   32   19  152\n",
      "    21   50   56   24   50]\n",
      " [1242  352  121  211   91   77   39   26   43   49   24   45   49   18\n",
      "    69   37   46   52   22]\n",
      " [ 733  307  196  154  124   39   69   78   55  120   51   41   22   30\n",
      "    43  304   97   49   25]\n",
      " [ 600  303  345   98   98   53   62   60   45   44   45   26   29   39\n",
      "    22   85  580   30   19]\n",
      " [1215  269  158  207   73   61   45   35   45   51   24   33   43   15\n",
      "    46   46   47   81   14]\n",
      " [ 511  411  431   88  233   75  145   74   78   98   64   26   24   62\n",
      "    22   28   42   15  107]]\n"
     ]
    }
   ],
   "source": [
    "# Crossvalidates the performance of the above pipe on the Spanish data/labels using 5 folds and returns\n",
    "# a list containing the predictions for each label; this is used in a confusion matrix\n",
    "y_pred = cross_val_predict(pipe,esp_text,esp_labels,cv=5, n_jobs=-1)\n",
    "conf_mat = confusion_matrix(esp_labels,y_pred)\n",
    "print(conf_mat)"
   ]
  },
  {
   "cell_type": "code",
   "execution_count": 14,
   "metadata": {},
   "outputs": [
    {
     "data": {
      "text/plain": [
       "<matplotlib.axes._subplots.AxesSubplot at 0x11386d2b0>"
      ]
     },
     "execution_count": 14,
     "metadata": {},
     "output_type": "execute_result"
    },
    {
     "data": {
      "image/png": "[encoded data removed]",
      "text/plain": [
       "<matplotlib.figure.Figure at 0x1100b4048>"
      ]
     },
     "metadata": {},
     "output_type": "display_data"
    }
   ],
   "source": [
    "# visualizes the above confusion matrix\n",
    "df_cm = pd.DataFrame(conf_mat, index = [i for i in set(esp_labels)], columns = [i for i in set(esp_labels)])\n",
    "plt.figure(figsize= (10,7))\n",
    "sn.heatmap(df_cm, annot=False)"
   ]
  },
  {
   "cell_type": "code",
   "execution_count": 15,
   "metadata": {},
   "outputs": [
    {
     "name": "stdout",
     "output_type": "stream",
     "text": [
      "             precision    recall  f1-score   support\n",
      "\n",
      "          0       0.29      0.47      0.36     19683\n",
      "          1       0.26      0.31      0.28     13505\n",
      "          2       0.33      0.41      0.36      9253\n",
      "          3       0.13      0.10      0.11      6769\n",
      "          4       0.16      0.13      0.14      6444\n",
      "          5       0.17      0.12      0.14      4387\n",
      "          6       0.35      0.38      0.36      3833\n",
      "          7       0.14      0.09      0.11      3651\n",
      "          8       0.15      0.11      0.13      3501\n",
      "          9       0.38      0.48      0.43      3370\n",
      "         10       0.13      0.08      0.10      3125\n",
      "         11       0.11      0.05      0.06      2907\n",
      "         12       0.08      0.03      0.04      2786\n",
      "         13       0.12      0.06      0.08      2694\n",
      "         14       0.06      0.03      0.04      2613\n",
      "         15       0.19      0.12      0.15      2537\n",
      "         16       0.26      0.22      0.24      2583\n",
      "         17       0.08      0.03      0.05      2508\n",
      "         18       0.09      0.04      0.06      2534\n",
      "\n",
      "avg / total       0.22      0.25      0.23     98683\n",
      "\n"
     ]
    }
   ],
   "source": [
    "# prints a report detailing precision/recall and f-score of the pipeline\n",
    "print(classification_report(esp_labels, y_pred))"
   ]
  },
  {
   "cell_type": "markdown",
   "metadata": {},
   "source": [
    "## tf-idf and part-of-speech tagging"
   ]
  },
  {
   "cell_type": "code",
   "execution_count": 16,
   "metadata": {
    "collapsed": true
   },
   "outputs": [],
   "source": [
    "# loads the spaCy Spanish parser\n",
    "parser = Spanish()"
   ]
  },
  {
   "cell_type": "code",
   "execution_count": 17,
   "metadata": {
    "collapsed": true
   },
   "outputs": [],
   "source": [
    "# tokenizes an input tweet using the spaCy Spanish parser;\n",
    "# returns a list of tokenized words with the POS tag attached to the word in 'word_POS' format\n",
    "def spacy_tokenize(tweet):\n",
    "    tokens = parser(tweet)\n",
    "    tokens = [token.text +'_' + token.pos_ for token in tokens]\n",
    "    return tokens"
   ]
  },
  {
   "cell_type": "code",
   "execution_count": 19,
   "metadata": {
    "collapsed": true
   },
   "outputs": [],
   "source": [
    "# pipeline used to gather counts of all words labeled with POS in the dataset normalized with tf-idf \n",
    "# and vectorizes each document using TfidfVectorizer; predict the labels using Linear Support Vector Machines\n",
    "pipe = Pipeline([('tfidf', TfidfVectorizer(tokenizer=spacy_tokenize)),\n",
    "                 ('clf', LinearSVC())])"
   ]
  },
  {
   "cell_type": "code",
   "execution_count": 20,
   "metadata": {},
   "outputs": [
    {
     "name": "stdout",
     "output_type": "stream",
     "text": [
      "[ 0.3036872   0.30525303  0.30332354  0.29738496  0.29764801]\n",
      "Accuracy: 0.30 (+/- 0.01)\n"
     ]
    }
   ],
   "source": [
    "# Crossvalidates the performance of the above pipe on the Spanish data/labels using 5 folds and returns\n",
    "# a list with the accuracy of each fold; prints the accuracy for each cross-section and the average accuracy\n",
    "scores = cross_val_score(pipe, esp_text, esp_labels, cv=5, n_jobs=-1)\n",
    "print(scores)\n",
    "print(\"Accuracy: %0.2f (+/- %0.2f)\" % (scores.mean(), scores.std() * 2))"
   ]
  },
  {
   "cell_type": "code",
   "execution_count": 21,
   "metadata": {},
   "outputs": [
    {
     "name": "stdout",
     "output_type": "stream",
     "text": [
      "[[11771  2309   696  1220   524   440   272   198   250   340   159   221\n",
      "    206   109   229   216   237   176   110]\n",
      " [ 2154  5209  1215   733   804   446   293   229   317   610   244   186\n",
      "    177   147   135   153   207   110   136]\n",
      " [  748  1390  4010   273   495   255   345   288   220   205   188    82\n",
      "     58   160    65    90   175    59   147]\n",
      " [ 1913  1192   373  1045   318   259   157   115   159   162   121   125\n",
      "    133    47   140   143   153   154    60]\n",
      " [  901  1447   666   329   955   289   285   216   223   276   134    81\n",
      "     54   113    79   104   109    55   128]\n",
      " [  835   835   433   303   333   602   156   150   124    82    75    50\n",
      "     63    66    73    42    69    53    43]\n",
      " [  331   383   422   159   229   103  1466   120   110    87    80    36\n",
      "     39    67    23    47    43    27    61]\n",
      " [  432   591   629   168   296   169   211   352   127    92   104    46\n",
      "     32    88    34    87   112    23    58]\n",
      " [  456   649   391   220   295   132   192   104   406   124   120    35\n",
      "     42    58    60    57    46    42    72]\n",
      " [  239   437   135    56    98    36    83    44    35  1959    55    29\n",
      "     17    23    18    38    26    12    30]\n",
      " [  350   561   428   184   233    84   140    91   132   211   276    52\n",
      "     43    86    46    54    68    33    53]\n",
      " [  715   574   166   298   147    85    99    47    61   138    71   146\n",
      "     58    26    54    92    61    49    20]\n",
      " [  770   557   170   315   111    92    64    41    57    90    47    64\n",
      "    112    26    66    64    55    66    19]\n",
      " [  290   508   513   122   220   115   119   120    86    81   101    30\n",
      "     32   156    19    46    56    24    56]\n",
      " [  782   459   117   370   123   108    41    42    63    55    36    60\n",
      "     63    25    76    48    57    64    24]\n",
      " [  414   387   215   217   141    53    69    79    56   133    62    57\n",
      "     30    32    59   324   117    56    36]\n",
      " [  334   356   345   136   111    47    66    72    39    56    42    42\n",
      "     34    39    26    91   674    38    35]\n",
      " [  745   414   150   338    95   103    38    44    49    50    26    51\n",
      "     67    17    74    65    53   107    22]\n",
      " [  262   500   486   108   258    94   140    90    91   110    77    23\n",
      "     21    52    23    36    48    12   103]]\n"
     ]
    }
   ],
   "source": [
    "# Crossvalidates the performance of the above pipe on the Spanish data/labels using 5 folds and returns\n",
    "# a list containing the predictions for each label; this is used in a confusion matrix\n",
    "y_pred = cross_val_predict(pipe,esp_text,esp_labels,cv=5, n_jobs=-1)\n",
    "conf_mat = confusion_matrix(esp_labels,y_pred)\n",
    "print(conf_mat)"
   ]
  },
  {
   "cell_type": "code",
   "execution_count": 22,
   "metadata": {},
   "outputs": [
    {
     "data": {
      "text/plain": [
       "<matplotlib.axes._subplots.AxesSubplot at 0x16a658240>"
      ]
     },
     "execution_count": 22,
     "metadata": {},
     "output_type": "execute_result"
    },
    {
     "data": {
      "image/png": "[encoded data removed]",
      "text/plain": [
       "<matplotlib.figure.Figure at 0x1180eb630>"
      ]
     },
     "metadata": {},
     "output_type": "display_data"
    }
   ],
   "source": [
    "# visualizes the above confusion matrix\n",
    "df_cm = pd.DataFrame(conf_mat, index = [i for i in set(esp_labels)], columns = [i for i in set(esp_labels)])\n",
    "plt.figure(figsize= (10,7))\n",
    "sn.heatmap(df_cm, annot=False)"
   ]
  },
  {
   "cell_type": "code",
   "execution_count": 23,
   "metadata": {},
   "outputs": [
    {
     "name": "stdout",
     "output_type": "stream",
     "text": [
      "             precision    recall  f1-score   support\n",
      "\n",
      "          0       0.48      0.60      0.53     19683\n",
      "          1       0.28      0.39      0.32     13505\n",
      "          2       0.35      0.43      0.39      9253\n",
      "          3       0.16      0.15      0.16      6769\n",
      "          4       0.17      0.15      0.16      6444\n",
      "          5       0.17      0.14      0.15      4387\n",
      "          6       0.35      0.38      0.36      3833\n",
      "          7       0.14      0.10      0.12      3651\n",
      "          8       0.16      0.12      0.13      3501\n",
      "          9       0.40      0.58      0.48      3370\n",
      "         10       0.14      0.09      0.11      3125\n",
      "         11       0.10      0.05      0.07      2907\n",
      "         12       0.09      0.04      0.06      2786\n",
      "         13       0.12      0.06      0.08      2694\n",
      "         14       0.06      0.03      0.04      2613\n",
      "         15       0.18      0.13      0.15      2537\n",
      "         16       0.28      0.26      0.27      2583\n",
      "         17       0.09      0.04      0.06      2508\n",
      "         18       0.08      0.04      0.05      2534\n",
      "\n",
      "avg / total       0.27      0.30      0.28     98683\n",
      "\n"
     ]
    }
   ],
   "source": [
    "# prints a report detailing precision/recall and f-score of the pipeline\n",
    "print(classification_report(esp_labels, y_pred))"
   ]
  },
  {
   "cell_type": "markdown",
   "metadata": {},
   "source": [
    "## tf-idf and bi-grams"
   ]
  },
  {
   "cell_type": "code",
   "execution_count": 24,
   "metadata": {
    "collapsed": true
   },
   "outputs": [],
   "source": [
    "# pipeline used to gather counts of bi-grams in the dataset normalized with tf-idf and vectorizes each document \n",
    "# using TfidfVectorizer; predict the labels using Linear Support Vector Machines\n",
    "pipe = Pipeline([('tfidf', TfidfVectorizer(ngram_range=(1,2))),\n",
    "                 ('clf', LinearSVC())])"
   ]
  },
  {
   "cell_type": "code",
   "execution_count": 25,
   "metadata": {},
   "outputs": [
    {
     "name": "stdout",
     "output_type": "stream",
     "text": [
      "[ 0.25931929  0.26721037  0.26704833  0.26221366  0.25968167]\n",
      "Accuracy: 0.26 (+/- 0.01)\n"
     ]
    }
   ],
   "source": [
    "# Crossvalidates the performance of the above pipe on the Spanish data/labels using 5 folds and returns\n",
    "# a list with the accuracy of each fold; prints the accuracy for each cross-section and the average accuracy\n",
    "scores = cross_val_score(pipe, esp_text, esp_labels, cv=5, n_jobs=-1)\n",
    "print(scores)\n",
    "print(\"Accuracy: %0.2f (+/- %0.2f)\" % (scores.mean(), scores.std() * 2))"
   ]
  },
  {
   "cell_type": "code",
   "execution_count": 26,
   "metadata": {},
   "outputs": [
    {
     "name": "stdout",
     "output_type": "stream",
     "text": [
      "[[9134 3157 1085 1351  771  555  346  233  332  590  253  295  259  134\n",
      "   263  254  287  263  121]\n",
      " [4113 4414 1133  556  668  340  261  168  270  460  182  139  121  104\n",
      "   111  119  149   95  102]\n",
      " [1375 1106 4182  233  448  199  330  221  191  136  157   57   44  121\n",
      "    53   71  159   39  131]\n",
      " [2949  947  313  789  268  201  114   84  132  112   74  101  106   29\n",
      "   126  123  138  123   40]\n",
      " [1601 1208  648  270  957  258  244  187  192  185  110   64   57   91\n",
      "    67   87   77   50   91]\n",
      " [1421  611  468  253  287  575  126  110  112   57   54   43   39   40\n",
      "    46   37   53   28   27]\n",
      " [ 585  291  418  120  208   81 1490  126  112   70   73   27   26   45\n",
      "    27   41   39   19   35]\n",
      " [ 736  511  664  123  300  135  196  359  113   68   69   36   15   64\n",
      "    22   85   81   29   45]\n",
      " [ 799  565  366  184  275  107  172  107  418   92   98   33   34   40\n",
      "    51   51   37   25   47]\n",
      " [ 566  343  127   61   84   20   78   41   26 1800   47   38   11   20\n",
      "     7   40   26   16   19]\n",
      " [ 711  444  411  133  205   81  144  112  126  167  268   39   24   65\n",
      "    32   58   44   23   38]\n",
      " [1136  460  161  223  124   58   69   41   53   99   62  133   39   19\n",
      "    46   81   40   42   21]\n",
      " [1193  406  166  235  103   74   63   23   48   65   35   44  104   16\n",
      "    51   42   42   52   24]\n",
      " [ 503  415  542   92  224   81  131  100   90   53   92   32   19  135\n",
      "    15   51   52   25   42]\n",
      " [1200  327  110  292   83   93   36   27   55   45   24   37   44   10\n",
      "    66   31   50   67   16]\n",
      " [ 705  313  186  170  118   48   68   94   53  105   48   51   35   30\n",
      "    41  292  112   47   21]\n",
      " [ 587  272  328  117   88   52   68   62   26   44   28   38   21   34\n",
      "    24   85  657   32   20]\n",
      " [1193  286  113  241   75   57   37   34   35   41   24   45   52   12\n",
      "    62   46   48   99    8]\n",
      " [ 488  418  475   84  254   63  147   73   82  100   69   30   17   51\n",
      "    14   31   31   16   91]]\n"
     ]
    }
   ],
   "source": [
    "# Crossvalidates the performance of the above pipe on the Spanish data/labels using 5 folds and returns\n",
    "# a list containing the predictions for each label; this is used in a confusion matrix\n",
    "y_pred = cross_val_predict(pipe,esp_text,esp_labels,cv=5, n_jobs=-1)\n",
    "conf_mat = confusion_matrix(esp_labels,y_pred)\n",
    "print(conf_mat)"
   ]
  },
  {
   "cell_type": "code",
   "execution_count": 27,
   "metadata": {},
   "outputs": [
    {
     "data": {
      "text/plain": [
       "<matplotlib.axes._subplots.AxesSubplot at 0x11b757908>"
      ]
     },
     "execution_count": 27,
     "metadata": {},
     "output_type": "execute_result"
    },
    {
     "data": {
      "image/png": "[encoded data removed]",
      "text/plain": [
       "<matplotlib.figure.Figure at 0x118122668>"
      ]
     },
     "metadata": {},
     "output_type": "display_data"
    }
   ],
   "source": [
    "# visualizes the above confusion matrix\n",
    "df_cm = pd.DataFrame(conf_mat, index = [i for i in set(esp_labels)], columns = [i for i in set(esp_labels)])\n",
    "plt.figure(figsize= (10,7))\n",
    "sn.heatmap(df_cm, annot=False)"
   ]
  },
  {
   "cell_type": "code",
   "execution_count": 28,
   "metadata": {},
   "outputs": [
    {
     "name": "stdout",
     "output_type": "stream",
     "text": [
      "             precision    recall  f1-score   support\n",
      "\n",
      "          0       0.29      0.46      0.36     19683\n",
      "          1       0.27      0.33      0.29     13505\n",
      "          2       0.35      0.45      0.40      9253\n",
      "          3       0.14      0.12      0.13      6769\n",
      "          4       0.17      0.15      0.16      6444\n",
      "          5       0.19      0.13      0.15      4387\n",
      "          6       0.36      0.39      0.37      3833\n",
      "          7       0.16      0.10      0.12      3651\n",
      "          8       0.17      0.12      0.14      3501\n",
      "          9       0.42      0.53      0.47      3370\n",
      "         10       0.15      0.09      0.11      3125\n",
      "         11       0.10      0.05      0.06      2907\n",
      "         12       0.10      0.04      0.05      2786\n",
      "         13       0.13      0.05      0.07      2694\n",
      "         14       0.06      0.03      0.04      2613\n",
      "         15       0.18      0.12      0.14      2537\n",
      "         16       0.31      0.25      0.28      2583\n",
      "         17       0.09      0.04      0.06      2508\n",
      "         18       0.10      0.04      0.05      2534\n",
      "\n",
      "avg / total       0.23      0.26      0.24     98683\n",
      "\n"
     ]
    }
   ],
   "source": [
    "# prints a report detailing precision/recall and f-score of the pipeline\n",
    "print(classification_report(esp_labels, y_pred))"
   ]
  },
  {
   "cell_type": "markdown",
   "metadata": {},
   "source": [
    "## tf-idf, bi-grams and part-of-speech tagging"
   ]
  },
  {
   "cell_type": "code",
   "execution_count": 29,
   "metadata": {
    "collapsed": true
   },
   "outputs": [],
   "source": [
    "# loads the spaCy Spanish parser\n",
    "parser = Spanish()"
   ]
  },
  {
   "cell_type": "code",
   "execution_count": 30,
   "metadata": {
    "collapsed": true
   },
   "outputs": [],
   "source": [
    "# tokenizes an input tweet using the spaCy Spanish parser;\n",
    "# returns a list of tokenized words with the POS tag attached to the word in 'word_POS' format\n",
    "def spacy_tokenize(tweet):\n",
    "    tokens = parser(tweet)\n",
    "    tokens = [token.text +'_' + token.pos_ for token in tokens]\n",
    "    return tokens"
   ]
  },
  {
   "cell_type": "code",
   "execution_count": 32,
   "metadata": {
    "collapsed": true
   },
   "outputs": [],
   "source": [
    "# pipeline used to gather counts of all bi-grams with each word labeled with POS in the dataset; \n",
    "# this is then normalized with tf-idf and each document is vectorized using TfidfVectorizer; \n",
    "# predict the labels using Linear Support Vector Machines\n",
    "pipe = Pipeline([('tfidf', TfidfVectorizer(tokenizer=spacy_tokenize, ngram_range=(1,2))),\n",
    "                 ('clf', LinearSVC())])"
   ]
  },
  {
   "cell_type": "code",
   "execution_count": 33,
   "metadata": {},
   "outputs": [
    {
     "name": "stdout",
     "output_type": "stream",
     "text": [
      "[ 0.31072731  0.31163568  0.31578681  0.30797689  0.30950933]\n",
      "Accuracy: 0.31 (+/- 0.01)\n"
     ]
    }
   ],
   "source": [
    "# Crossvalidates the performance of the above pipe on the Spanish data/labels using 5 folds and returns\n",
    "# a list with the accuracy of each fold; prints the accuracy for each cross-section and the average accuracy\n",
    "scores = cross_val_score(pipe, esp_text, esp_labels, cv=5, n_jobs=-1)\n",
    "print(scores)\n",
    "print(\"Accuracy: %0.2f (+/- %0.2f)\" % (scores.mean(), scores.std() * 2))"
   ]
  },
  {
   "cell_type": "code",
   "execution_count": 34,
   "metadata": {},
   "outputs": [
    {
     "name": "stdout",
     "output_type": "stream",
     "text": [
      "[[11831  2336   642  1313   543   449   221   163   220   270   170   239\n",
      "    231   100   251   198   190   242    74]\n",
      " [ 2211  5446  1158   800   790   452   280   217   272   489   206   186\n",
      "    157   132   165   147   165   118   114]\n",
      " [  779  1427  4173   265   536   248   320   248   173   161   187    78\n",
      "     60   135    61    87   149    47   119]\n",
      " [ 1953  1187   297  1126   317   272   119    95   155   131   118   144\n",
      "    143    40   185   141   151   149    46]\n",
      " [  896  1519   654   374  1034   282   248   220   197   237   131    78\n",
      "     52    91    81   100    82    62   106]\n",
      " [  884   841   440   333   327   675   134   126   106    57    70    64\n",
      "     54    37    62    38    62    42    35]\n",
      " [  378   391   377   147   222   103  1509   123    97    69    82    31\n",
      "     35    50    37    51    48    30    53]\n",
      " [  426   604   647   186   347   160   212   352   110    81    93    40\n",
      "     29    75    32    95    80    34    48]\n",
      " [  454   672   351   246   338   132   173   115   448    88   100    42\n",
      "     41    51    60    58    47    39    46]\n",
      " [  223   418    98    67   117    28    70    36    28  2042    64    36\n",
      "     17    24    14    30    26    11    21]\n",
      " [  382   581   405   198   246    93   138   108   141   161   289    44\n",
      "     39    54    44    70    47    29    56]\n",
      " [  720   601   152   301   154    95    70    40    54   122    62   146\n",
      "     59    20    65    98    50    76    22]\n",
      " [  792   523   160   359   146   103    64    34    48    64    43    60\n",
      "    106    16    69    42    52    85    20]\n",
      " [  302   526   525   118   232   109   111   115    89    73    97    31\n",
      "     27   148    24    43    50    24    50]\n",
      " [  803   419   110   409   120   113    30    38    64    40    36    53\n",
      "     63    13    93    47    47    96    19]\n",
      " [  427   388   173   224   139    54    58   102    65   117    56    72\n",
      "     43    30    57   323   126    47    36]\n",
      " [  340   351   316   167   110    57    58    53    36    37    32    44\n",
      "     25    32    30   100   740    33    22]\n",
      " [  819   366   132   338    96    93    32    35    40    46    27    67\n",
      "     72    14    88    54    49   121    19]\n",
      " [  279   514   474   118   287    76   140    65    86    97    75    29\n",
      "     27    55    19    36    38    18   101]]\n"
     ]
    }
   ],
   "source": [
    "# Crossvalidates the performance of the above pipe on the Spanish data/labels using 5 folds and returns\n",
    "# a list containing the predictions for each label; this is used in a confusion matrix\n",
    "y_pred = cross_val_predict(pipe,esp_text,esp_labels,cv=5, n_jobs=-1)\n",
    "conf_mat = confusion_matrix(esp_labels,y_pred)\n",
    "print(conf_mat)"
   ]
  },
  {
   "cell_type": "code",
   "execution_count": 35,
   "metadata": {},
   "outputs": [
    {
     "data": {
      "text/plain": [
       "<matplotlib.axes._subplots.AxesSubplot at 0x118371d30>"
      ]
     },
     "execution_count": 35,
     "metadata": {},
     "output_type": "execute_result"
    },
    {
     "data": {
      "image/png": "[encoded data removed]",
      "text/plain": [
       "<matplotlib.figure.Figure at 0x118371438>"
      ]
     },
     "metadata": {},
     "output_type": "display_data"
    }
   ],
   "source": [
    "# visualizes the above confusion matrix\n",
    "df_cm = pd.DataFrame(conf_mat, index = [i for i in set(esp_labels)], columns = [i for i in set(esp_labels)])\n",
    "plt.figure(figsize= (10,7))\n",
    "sn.heatmap(df_cm, annot=False)"
   ]
  },
  {
   "cell_type": "code",
   "execution_count": 36,
   "metadata": {},
   "outputs": [
    {
     "name": "stdout",
     "output_type": "stream",
     "text": [
      "             precision    recall  f1-score   support\n",
      "\n",
      "          0       0.48      0.60      0.53     19683\n",
      "          1       0.28      0.40      0.33     13505\n",
      "          2       0.37      0.45      0.41      9253\n",
      "          3       0.16      0.17      0.16      6769\n",
      "          4       0.17      0.16      0.16      6444\n",
      "          5       0.19      0.15      0.17      4387\n",
      "          6       0.38      0.39      0.39      3833\n",
      "          7       0.15      0.10      0.12      3651\n",
      "          8       0.18      0.13      0.15      3501\n",
      "          9       0.47      0.61      0.53      3370\n",
      "         10       0.15      0.09      0.11      3125\n",
      "         11       0.10      0.05      0.07      2907\n",
      "         12       0.08      0.04      0.05      2786\n",
      "         13       0.13      0.05      0.08      2694\n",
      "         14       0.06      0.04      0.05      2613\n",
      "         15       0.18      0.13      0.15      2537\n",
      "         16       0.34      0.29      0.31      2583\n",
      "         17       0.09      0.05      0.06      2508\n",
      "         18       0.10      0.04      0.06      2534\n",
      "\n",
      "avg / total       0.28      0.31      0.29     98683\n",
      "\n"
     ]
    }
   ],
   "source": [
    "# prints a report detailing precision/recall and f-score of the pipeline\n",
    "print(classification_report(esp_labels, y_pred))"
   ]
  },
  {
   "cell_type": "markdown",
   "metadata": {},
   "source": [
    "## tf-idf, bi-grams and part-of-speech tagging with balanced dataset"
   ]
  },
  {
   "cell_type": "code",
   "execution_count": 37,
   "metadata": {
    "collapsed": true
   },
   "outputs": [],
   "source": [
    "# puts the English text and labels data into a pandas DataFrame\n",
    "esp_data_df = pd.DataFrame([esp_text, esp_labels]).transpose()\n",
    "esp_data_df.columns = (['text', 'label'])"
   ]
  },
  {
   "cell_type": "code",
   "execution_count": 38,
   "metadata": {},
   "outputs": [
    {
     "data": {
      "text/html": [
       "<div>\n",
       "<style scoped>\n",
       "    .dataframe tbody tr th:only-of-type {\n",
       "        vertical-align: middle;\n",
       "    }\n",
       "\n",
       "    .dataframe tbody tr th {\n",
       "        vertical-align: top;\n",
       "    }\n",
       "\n",
       "    .dataframe thead th {\n",
       "        text-align: right;\n",
       "    }\n",
       "</style>\n",
       "<table border=\"1\" class=\"dataframe\">\n",
       "  <thead>\n",
       "    <tr style=\"text-align: right;\">\n",
       "      <th></th>\n",
       "      <th>text</th>\n",
       "      <th>label</th>\n",
       "    </tr>\n",
       "  </thead>\n",
       "  <tbody>\n",
       "    <tr>\n",
       "      <th>36275</th>\n",
       "      <td>Si de por sí era bonita, contigo ya... @ Mérid...</td>\n",
       "      <td>0</td>\n",
       "    </tr>\n",
       "    <tr>\n",
       "      <th>55584</th>\n",
       "      <td>Lo mejor de mi eres tu.. ️ @ Cambrils</td>\n",
       "      <td>0</td>\n",
       "    </tr>\n",
       "    <tr>\n",
       "      <th>61917</th>\n",
       "      <td>'Give'#Give #Love #Wonder #Back #BeYourself #E...</td>\n",
       "      <td>0</td>\n",
       "    </tr>\n",
       "    <tr>\n",
       "      <th>96857</th>\n",
       "      <td>no hay mejor lugar @ La Manga, Murcia, Spain</td>\n",
       "      <td>0</td>\n",
       "    </tr>\n",
       "    <tr>\n",
       "      <th>30097</th>\n",
       "      <td>'Eres mis ganas de no estar con nadie más.'20 ...</td>\n",
       "      <td>0</td>\n",
       "    </tr>\n",
       "    <tr>\n",
       "      <th>58810</th>\n",
       "      <td>Con la prima más bonita @ Fuente Obejuna y sus...</td>\n",
       "      <td>0</td>\n",
       "    </tr>\n",
       "    <tr>\n",
       "      <th>38774</th>\n",
       "      <td>Buenas noches @ Sierra De San Cristobal</td>\n",
       "      <td>0</td>\n",
       "    </tr>\n",
       "    <tr>\n",
       "      <th>9973</th>\n",
       "      <td>Mi granaína favorita ️ @ Royal Palace of Madrid</td>\n",
       "      <td>0</td>\n",
       "    </tr>\n",
       "    <tr>\n",
       "      <th>11982</th>\n",
       "      <td>paseando con la hermosa de mi tia #begues #cat...</td>\n",
       "      <td>0</td>\n",
       "    </tr>\n",
       "    <tr>\n",
       "      <th>69191</th>\n",
       "      <td>️ ️ ️Pancakes de avena ️ ️ ️ El desayuno es la...</td>\n",
       "      <td>0</td>\n",
       "    </tr>\n",
       "    <tr>\n",
       "      <th>44146</th>\n",
       "      <td>Al parecer los polos opuestos se atraen @ Puer...</td>\n",
       "      <td>0</td>\n",
       "    </tr>\n",
       "    <tr>\n",
       "      <th>56360</th>\n",
       "      <td>Muchas Felicidades ️ @ Mataró (El Maresme)</td>\n",
       "      <td>0</td>\n",
       "    </tr>\n",
       "    <tr>\n",
       "      <th>45242</th>\n",
       "      <td>Bonitas tardes y Joaquin de estranjis @ Garruc...</td>\n",
       "      <td>0</td>\n",
       "    </tr>\n",
       "    <tr>\n",
       "      <th>37793</th>\n",
       "      <td>Playa Barceloneta #barcelona2016 #beachlife #t...</td>\n",
       "      <td>0</td>\n",
       "    </tr>\n",
       "    <tr>\n",
       "      <th>13305</th>\n",
       "      <td>Que te requetequiero ️ ️ ️ mariprovencio @ Caf...</td>\n",
       "      <td>0</td>\n",
       "    </tr>\n",
       "    <tr>\n",
       "      <th>85511</th>\n",
       "      <td>Por fin sueño realizado #pepino #cochazo #amor...</td>\n",
       "      <td>0</td>\n",
       "    </tr>\n",
       "    <tr>\n",
       "      <th>22363</th>\n",
       "      <td>Felicidades mi vida!! ️Que decirte que no sepa...</td>\n",
       "      <td>0</td>\n",
       "    </tr>\n",
       "    <tr>\n",
       "      <th>54200</th>\n",
       "      <td>Con un público así da gusto, muchas gracias ch...</td>\n",
       "      <td>0</td>\n",
       "    </tr>\n",
       "    <tr>\n",
       "      <th>22212</th>\n",
       "      <td>️ ️Feliz día del padre ️ ️Día del padre y día ...</td>\n",
       "      <td>0</td>\n",
       "    </tr>\n",
       "    <tr>\n",
       "      <th>5184</th>\n",
       "      <td>Visitas de las que te dan fuerza para tirar ot...</td>\n",
       "      <td>0</td>\n",
       "    </tr>\n",
       "    <tr>\n",
       "      <th>33260</th>\n",
       "      <td>Vasiloooon #Mérida #PutasAmas #Reshulas @ Muse...</td>\n",
       "      <td>0</td>\n",
       "    </tr>\n",
       "    <tr>\n",
       "      <th>7572</th>\n",
       "      <td>Te quiiero muchíssiimo papá @ Nuevo Victoria Club</td>\n",
       "      <td>0</td>\n",
       "    </tr>\n",
       "    <tr>\n",
       "      <th>48455</th>\n",
       "      <td>Bañaros en mis ojos ¡Que se joda el mar! ️ ️ @...</td>\n",
       "      <td>0</td>\n",
       "    </tr>\n",
       "    <tr>\n",
       "      <th>35666</th>\n",
       "      <td>️ @ Cumbre del Sol</td>\n",
       "      <td>0</td>\n",
       "    </tr>\n",
       "    <tr>\n",
       "      <th>66286</th>\n",
       "      <td>Cibeles!! Con caroldtomasascanio a bordo! ️ Na...</td>\n",
       "      <td>0</td>\n",
       "    </tr>\n",
       "    <tr>\n",
       "      <th>33997</th>\n",
       "      <td>\"No creas que el mundo gira a tu alrededor; ap...</td>\n",
       "      <td>0</td>\n",
       "    </tr>\n",
       "    <tr>\n",
       "      <th>30769</th>\n",
       "      <td>Así finaliza un gran día. ️ @ Puente Romano</td>\n",
       "      <td>0</td>\n",
       "    </tr>\n",
       "    <tr>\n",
       "      <th>10776</th>\n",
       "      <td>Actitud y no suerte . SS2016 @ Villanueva Del ...</td>\n",
       "      <td>0</td>\n",
       "    </tr>\n",
       "    <tr>\n",
       "      <th>78534</th>\n",
       "      <td>To enamorao @ En Sevilla Este</td>\n",
       "      <td>0</td>\n",
       "    </tr>\n",
       "    <tr>\n",
       "      <th>62146</th>\n",
       "      <td>#dad @ Córdoba, Spain</td>\n",
       "      <td>0</td>\n",
       "    </tr>\n",
       "    <tr>\n",
       "      <th>...</th>\n",
       "      <td>...</td>\n",
       "      <td>...</td>\n",
       "    </tr>\n",
       "    <tr>\n",
       "      <th>41963</th>\n",
       "      <td>Empezando el año a lo grande: \"La sonrisa del ...</td>\n",
       "      <td>18</td>\n",
       "    </tr>\n",
       "    <tr>\n",
       "      <th>89909</th>\n",
       "      <td>Buenos días Cuquis!!! vamos a por el martes y ...</td>\n",
       "      <td>18</td>\n",
       "    </tr>\n",
       "    <tr>\n",
       "      <th>34155</th>\n",
       "      <td>Hace mucho q no dibujo. #spidermandrawing #spi...</td>\n",
       "      <td>18</td>\n",
       "    </tr>\n",
       "    <tr>\n",
       "      <th>20312</th>\n",
       "      <td>Pues ya que estamos...vamos de compras</td>\n",
       "      <td>18</td>\n",
       "    </tr>\n",
       "    <tr>\n",
       "      <th>40746</th>\n",
       "      <td>Hola desde dentro de un árbol de Navidad cc/ @...</td>\n",
       "      <td>18</td>\n",
       "    </tr>\n",
       "    <tr>\n",
       "      <th>36888</th>\n",
       "      <td>Mejor que Miguel Ángel @ Parque De Europa En T...</td>\n",
       "      <td>18</td>\n",
       "    </tr>\n",
       "    <tr>\n",
       "      <th>52610</th>\n",
       "      <td>Viernes de Rocio #garbancito #elrocio16 @ Alde...</td>\n",
       "      <td>18</td>\n",
       "    </tr>\n",
       "    <tr>\n",
       "      <th>17477</th>\n",
       "      <td>#iphone6splus #work #new #me #ole Ya es oficia...</td>\n",
       "      <td>18</td>\n",
       "    </tr>\n",
       "    <tr>\n",
       "      <th>15340</th>\n",
       "      <td>es jueves y mis amiguitos mañana no trabajan (...</td>\n",
       "      <td>18</td>\n",
       "    </tr>\n",
       "    <tr>\n",
       "      <th>28513</th>\n",
       "      <td>Día 63. DIY conmigo #100happydays #100happyday...</td>\n",
       "      <td>18</td>\n",
       "    </tr>\n",
       "    <tr>\n",
       "      <th>10088</th>\n",
       "      <td>A cenar un poquito! @ Plaza Del Callao - Madrid</td>\n",
       "      <td>18</td>\n",
       "    </tr>\n",
       "    <tr>\n",
       "      <th>38110</th>\n",
       "      <td>@user te has levantado gracioso hoy.</td>\n",
       "      <td>18</td>\n",
       "    </tr>\n",
       "    <tr>\n",
       "      <th>44570</th>\n",
       "      <td>AMOR de noche @ El Camborio</td>\n",
       "      <td>18</td>\n",
       "    </tr>\n",
       "    <tr>\n",
       "      <th>6574</th>\n",
       "      <td>Un clásico...Si no la pongo, reviento! @ Barce...</td>\n",
       "      <td>18</td>\n",
       "    </tr>\n",
       "    <tr>\n",
       "      <th>45946</th>\n",
       "      <td>No todo va ser entrenar y entrenar! Tarde libr...</td>\n",
       "      <td>18</td>\n",
       "    </tr>\n",
       "    <tr>\n",
       "      <th>83984</th>\n",
       "      <td>Privilegio poder ser atendido por el mismo méd...</td>\n",
       "      <td>18</td>\n",
       "    </tr>\n",
       "    <tr>\n",
       "      <th>69272</th>\n",
       "      <td>@user ideas para mi cumple</td>\n",
       "      <td>18</td>\n",
       "    </tr>\n",
       "    <tr>\n",
       "      <th>38378</th>\n",
       "      <td>Impresionante coniceto de @user el martes en @...</td>\n",
       "      <td>18</td>\n",
       "    </tr>\n",
       "    <tr>\n",
       "      <th>25191</th>\n",
       "      <td>Hoy toca #detox Después de un fin de semana de...</td>\n",
       "      <td>18</td>\n",
       "    </tr>\n",
       "    <tr>\n",
       "      <th>89544</th>\n",
       "      <td>Ya asoma la nieve por Jaca -</td>\n",
       "      <td>18</td>\n",
       "    </tr>\n",
       "    <tr>\n",
       "      <th>10821</th>\n",
       "      <td>Como nos hemos puesto eh! No ha quedado ni las...</td>\n",
       "      <td>18</td>\n",
       "    </tr>\n",
       "    <tr>\n",
       "      <th>52854</th>\n",
       "      <td>foto de la promoción a @user (luego t cuento l...</td>\n",
       "      <td>18</td>\n",
       "    </tr>\n",
       "    <tr>\n",
       "      <th>92389</th>\n",
       "      <td>Así aprovechamos nuestras horas libres de clas...</td>\n",
       "      <td>18</td>\n",
       "    </tr>\n",
       "    <tr>\n",
       "      <th>25631</th>\n",
       "      <td>Ya esta aqui . Ahora toca viciarse un poco #xb...</td>\n",
       "      <td>18</td>\n",
       "    </tr>\n",
       "    <tr>\n",
       "      <th>5274</th>\n",
       "      <td>Tengo un don increíble para enterarme de todo</td>\n",
       "      <td>18</td>\n",
       "    </tr>\n",
       "    <tr>\n",
       "      <th>72223</th>\n",
       "      <td>Las birras están listas, a ver si llegan los m...</td>\n",
       "      <td>18</td>\n",
       "    </tr>\n",
       "    <tr>\n",
       "      <th>71960</th>\n",
       "      <td>Y después de ver como a jugado mi Betis... Me ...</td>\n",
       "      <td>18</td>\n",
       "    </tr>\n",
       "    <tr>\n",
       "      <th>75819</th>\n",
       "      <td>¡¡Primeros exámenes terminados!! Al fin libres...</td>\n",
       "      <td>18</td>\n",
       "    </tr>\n",
       "    <tr>\n",
       "      <th>81683</th>\n",
       "      <td>Pero que bien que queda Andy en un Iphone 6S e...</td>\n",
       "      <td>18</td>\n",
       "    </tr>\n",
       "    <tr>\n",
       "      <th>24414</th>\n",
       "      <td>Cenitas sanas preparadas con amor #foodporn #c...</td>\n",
       "      <td>18</td>\n",
       "    </tr>\n",
       "  </tbody>\n",
       "</table>\n",
       "<p>47652 rows × 2 columns</p>\n",
       "</div>"
      ],
      "text/plain": [
       "                                                    text label\n",
       "36275  Si de por sí era bonita, contigo ya... @ Mérid...     0\n",
       "55584              Lo mejor de mi eres tu.. ️ @ Cambrils     0\n",
       "61917  'Give'#Give #Love #Wonder #Back #BeYourself #E...     0\n",
       "96857       no hay mejor lugar @ La Manga, Murcia, Spain     0\n",
       "30097  'Eres mis ganas de no estar con nadie más.'20 ...     0\n",
       "58810  Con la prima más bonita @ Fuente Obejuna y sus...     0\n",
       "38774            Buenas noches @ Sierra De San Cristobal     0\n",
       "9973     Mi granaína favorita ️ @ Royal Palace of Madrid     0\n",
       "11982  paseando con la hermosa de mi tia #begues #cat...     0\n",
       "69191  ️ ️ ️Pancakes de avena ️ ️ ️ El desayuno es la...     0\n",
       "44146  Al parecer los polos opuestos se atraen @ Puer...     0\n",
       "56360         Muchas Felicidades ️ @ Mataró (El Maresme)     0\n",
       "45242  Bonitas tardes y Joaquin de estranjis @ Garruc...     0\n",
       "37793  Playa Barceloneta #barcelona2016 #beachlife #t...     0\n",
       "13305  Que te requetequiero ️ ️ ️ mariprovencio @ Caf...     0\n",
       "85511  Por fin sueño realizado #pepino #cochazo #amor...     0\n",
       "22363  Felicidades mi vida!! ️Que decirte que no sepa...     0\n",
       "54200  Con un público así da gusto, muchas gracias ch...     0\n",
       "22212  ️ ️Feliz día del padre ️ ️Día del padre y día ...     0\n",
       "5184   Visitas de las que te dan fuerza para tirar ot...     0\n",
       "33260  Vasiloooon #Mérida #PutasAmas #Reshulas @ Muse...     0\n",
       "7572   Te quiiero muchíssiimo papá @ Nuevo Victoria Club     0\n",
       "48455  Bañaros en mis ojos ¡Que se joda el mar! ️ ️ @...     0\n",
       "35666                                 ️ @ Cumbre del Sol     0\n",
       "66286  Cibeles!! Con caroldtomasascanio a bordo! ️ Na...     0\n",
       "33997  \"No creas que el mundo gira a tu alrededor; ap...     0\n",
       "30769        Así finaliza un gran día. ️ @ Puente Romano     0\n",
       "10776  Actitud y no suerte . SS2016 @ Villanueva Del ...     0\n",
       "78534                      To enamorao @ En Sevilla Este     0\n",
       "62146                              #dad @ Córdoba, Spain     0\n",
       "...                                                  ...   ...\n",
       "41963  Empezando el año a lo grande: \"La sonrisa del ...    18\n",
       "89909  Buenos días Cuquis!!! vamos a por el martes y ...    18\n",
       "34155  Hace mucho q no dibujo. #spidermandrawing #spi...    18\n",
       "20312             Pues ya que estamos...vamos de compras    18\n",
       "40746  Hola desde dentro de un árbol de Navidad cc/ @...    18\n",
       "36888  Mejor que Miguel Ángel @ Parque De Europa En T...    18\n",
       "52610  Viernes de Rocio #garbancito #elrocio16 @ Alde...    18\n",
       "17477  #iphone6splus #work #new #me #ole Ya es oficia...    18\n",
       "15340  es jueves y mis amiguitos mañana no trabajan (...    18\n",
       "28513  Día 63. DIY conmigo #100happydays #100happyday...    18\n",
       "10088    A cenar un poquito! @ Plaza Del Callao - Madrid    18\n",
       "38110               @user te has levantado gracioso hoy.    18\n",
       "44570                        AMOR de noche @ El Camborio    18\n",
       "6574   Un clásico...Si no la pongo, reviento! @ Barce...    18\n",
       "45946  No todo va ser entrenar y entrenar! Tarde libr...    18\n",
       "83984  Privilegio poder ser atendido por el mismo méd...    18\n",
       "69272                         @user ideas para mi cumple    18\n",
       "38378  Impresionante coniceto de @user el martes en @...    18\n",
       "25191  Hoy toca #detox Después de un fin de semana de...    18\n",
       "89544                       Ya asoma la nieve por Jaca -    18\n",
       "10821  Como nos hemos puesto eh! No ha quedado ni las...    18\n",
       "52854  foto de la promoción a @user (luego t cuento l...    18\n",
       "92389  Así aprovechamos nuestras horas libres de clas...    18\n",
       "25631  Ya esta aqui . Ahora toca viciarse un poco #xb...    18\n",
       "5274       Tengo un don increíble para enterarme de todo    18\n",
       "72223  Las birras están listas, a ver si llegan los m...    18\n",
       "71960  Y después de ver como a jugado mi Betis... Me ...    18\n",
       "75819  ¡¡Primeros exámenes terminados!! Al fin libres...    18\n",
       "81683  Pero que bien que queda Andy en un Iphone 6S e...    18\n",
       "24414  Cenitas sanas preparadas con amor #foodporn #c...    18\n",
       "\n",
       "[47652 rows x 2 columns]"
      ]
     },
     "execution_count": 38,
     "metadata": {},
     "output_type": "execute_result"
    }
   ],
   "source": [
    "# collects a random sample of each category based on the frequency of the least common set\n",
    "# e.g. category 18 has 2508 items, so a sample of 2508 tweets from each category\n",
    "esp_data_balanced = pd.concat([esp_data_df[esp_data_df.label == i].sample(2508) for i in range(0,19)])\n",
    "esp_data_balanced"
   ]
  },
  {
   "cell_type": "code",
   "execution_count": 39,
   "metadata": {
    "collapsed": true
   },
   "outputs": [],
   "source": [
    "# takes the data from the eng_data_balanced DataFrame and converts the text/labels into Python arrays\n",
    "esp_text_balanced = esp_data_balanced['text'].tolist()\n",
    "esp_labels_balanced = esp_data_balanced['label'].tolist()"
   ]
  },
  {
   "cell_type": "code",
   "execution_count": 40,
   "metadata": {
    "collapsed": true
   },
   "outputs": [],
   "source": [
    "# asserts that the number of tweets and labels are equal\n",
    "assert len(esp_text_balanced) == len(esp_labels_balanced)"
   ]
  },
  {
   "cell_type": "code",
   "execution_count": 41,
   "metadata": {
    "collapsed": true
   },
   "outputs": [],
   "source": [
    "# shuffle the dataset with the same seed\n",
    "np.random.seed(42)\n",
    "np.random.shuffle(esp_text_balanced)\n",
    "np.random.seed(42)\n",
    "np.random.shuffle(esp_labels_balanced)"
   ]
  },
  {
   "cell_type": "code",
   "execution_count": 42,
   "metadata": {
    "collapsed": true
   },
   "outputs": [],
   "source": [
    "# loads the spaCy Spanish parser\n",
    "parser = Spanish()"
   ]
  },
  {
   "cell_type": "code",
   "execution_count": 43,
   "metadata": {
    "collapsed": true
   },
   "outputs": [],
   "source": [
    "# tokenizes an input tweet using the spaCy Spanish parser;\n",
    "# returns a list of tokenized words with the POS tag attached to the word in 'word_POS' format\n",
    "def spacy_tokenize(tweet):\n",
    "    tokens = parser(tweet)\n",
    "    tokens = [token.text +'_' + token.pos_ for token in tokens]\n",
    "    return tokens"
   ]
  },
  {
   "cell_type": "code",
   "execution_count": 45,
   "metadata": {
    "collapsed": true
   },
   "outputs": [],
   "source": [
    "# pipeline used to gather counts of all bi-grams with each word labeled with POS in the dataset; \n",
    "# this is then normalized with tf-idf and each document is vectorized using TfidfVectorizer; \n",
    "# predict the labels using Linear Support Vector Machines\n",
    "pipe = Pipeline([('tfidf', TfidfVectorizer(tokenizer=spacy_tokenize, ngram_range=(1,2))),\n",
    "                 ('clf', LinearSVC())])"
   ]
  },
  {
   "cell_type": "code",
   "execution_count": 46,
   "metadata": {},
   "outputs": [
    {
     "name": "stdout",
     "output_type": "stream",
     "text": [
      "[ 0.214091    0.21608304  0.21042147  0.21199706  0.21126169]\n",
      "Accuracy: 0.21 (+/- 0.00)\n"
     ]
    }
   ],
   "source": [
    "# Crossvalidates the performance of the above pipe on the English data/labels using 5 folds\n",
    "# prints the scores for each cross-section and the average accuracy\n",
    "scores = cross_val_score(pipe, esp_text_balanced, esp_labels_balanced, cv=5, n_jobs=-1)\n",
    "print(scores)\n",
    "print(\"Accuracy: %0.2f (+/- %0.2f)\" % (scores.mean(), scores.std() * 2))"
   ]
  },
  {
   "cell_type": "code",
   "execution_count": 47,
   "metadata": {},
   "outputs": [
    {
     "name": "stdout",
     "output_type": "stream",
     "text": [
      "[[1023   93   34  126   61  132   45   58   65   66   49  116  116   51\n",
      "   138   67   78  144   46]\n",
      " [  79  264  125  138  153  171   89   91  117  166  137  144  110  133\n",
      "   125   95  115  113  143]\n",
      " [  37  126  529   49  103  146  139  192   86   78  133   71   75  225\n",
      "    68   62  165   54  170]\n",
      " [  95  133   54  299   76  158   60   79  104   79   90  154  211   42\n",
      "   291  158  121  245   59]\n",
      " [  42  140  112  108  263  193  146  154  155  149  119   90   80  149\n",
      "   116  114  107   80  191]\n",
      " [  61  115  113  157  121  559  108  117  106   63   83  106  128  124\n",
      "   154   76   87  133   97]\n",
      " [  28   59   81   65   93   95  994  135  121   61  108   78   56  108\n",
      "    73   94   90   58  111]\n",
      " [  22   94  180   81  155  158  187  327  144  106  126   81   73  175\n",
      "    82  141  163   66  147]\n",
      " [  48   85   89  116  141  129  155  146  414  109  164  110   98  134\n",
      "   123  143   87   76  141]\n",
      " [  18   62   30   33   56   28   67   54   46 1669   98   52   29   47\n",
      "    25   64   35   38   57]\n",
      " [  37   98  117   89  135  104  142  132  157  201  354  104   89  203\n",
      "    88  131  105   82  140]\n",
      " [  71  119   64  182  111  123   88   91  100  146  105  251  175   82\n",
      "   206  172  124  217   81]\n",
      " [  75  130   68  256   93  161   80   73   94  104   92  178  234   71\n",
      "   251  118  124  246   60]\n",
      " [  31  114  191   76  155  163  136  193  133  112  149   95   64  317\n",
      "    73  119  129   65  193]\n",
      " [  88  100   40  273   85  152   49   73  118   58   79  186  208   61\n",
      "   333  140  113  295   57]\n",
      " [  50   86   58  131   84   71   70  123  106  152  115  152  112  100\n",
      "   164  504  215  137   78]\n",
      " [  32   69  102   80   63   54   80   96   53   68   57   89   67   85\n",
      "    81  167 1110   83   72]\n",
      " [ 100  102   60  255   84  149   44   65   77   66   82  186  224   54\n",
      "   253  139  127  400   41]\n",
      " [  23  118  181   70  185  144  174  166  144  159  183   90   71  171\n",
      "    69   83  125   57  295]]\n"
     ]
    }
   ],
   "source": [
    "# Crossvalidates the performance of the above pipe on the English data/labels using 5 folds\n",
    "# prints the scores for each cross-section and the average accuracy\n",
    "y_pred = cross_val_predict(pipe,esp_text_balanced,esp_labels_balanced,cv=5, n_jobs=-1)\n",
    "conf_mat = confusion_matrix(esp_labels_balanced,y_pred)\n",
    "print(conf_mat)"
   ]
  },
  {
   "cell_type": "code",
   "execution_count": 48,
   "metadata": {},
   "outputs": [
    {
     "data": {
      "text/plain": [
       "<matplotlib.axes._subplots.AxesSubplot at 0x11b9633c8>"
      ]
     },
     "execution_count": 48,
     "metadata": {},
     "output_type": "execute_result"
    },
    {
     "data": {
      "image/png": "[encoded data removed]",
      "text/plain": [
       "<matplotlib.figure.Figure at 0x118371d68>"
      ]
     },
     "metadata": {},
     "output_type": "display_data"
    }
   ],
   "source": [
    "# visualizes the above confusion matrix\n",
    "df_cm = pd.DataFrame(conf_mat, index = [i for i in set(esp_labels)], columns = [i for i in set(esp_labels)])\n",
    "plt.figure(figsize= (10,7))\n",
    "sn.heatmap(df_cm, annot=False)"
   ]
  },
  {
   "cell_type": "code",
   "execution_count": 49,
   "metadata": {},
   "outputs": [
    {
     "name": "stdout",
     "output_type": "stream",
     "text": [
      "             precision    recall  f1-score   support\n",
      "\n",
      "          0       0.52      0.41      0.46      2508\n",
      "          1       0.13      0.11      0.11      2508\n",
      "          2       0.24      0.21      0.22      2508\n",
      "          3       0.12      0.12      0.12      2508\n",
      "          4       0.12      0.10      0.11      2508\n",
      "          5       0.19      0.22      0.21      2508\n",
      "          6       0.35      0.40      0.37      2508\n",
      "          7       0.14      0.13      0.13      2508\n",
      "          8       0.18      0.17      0.17      2508\n",
      "          9       0.46      0.67      0.55      2508\n",
      "         10       0.15      0.14      0.15      2508\n",
      "         11       0.11      0.10      0.10      2508\n",
      "         12       0.11      0.09      0.10      2508\n",
      "         13       0.14      0.13      0.13      2508\n",
      "         14       0.12      0.13      0.13      2508\n",
      "         15       0.19      0.20      0.20      2508\n",
      "         16       0.34      0.44      0.39      2508\n",
      "         17       0.15      0.16      0.16      2508\n",
      "         18       0.14      0.12      0.13      2508\n",
      "\n",
      "avg / total       0.20      0.21      0.21     47652\n",
      "\n"
     ]
    }
   ],
   "source": [
    "# prints a report detailing precision/recall and f-score of the pipeline\n",
    "print(classification_report(esp_labels_balanced, y_pred))"
   ]
  }
 ],
 "metadata": {
  "kernelspec": {
   "display_name": "emojiprediction",
   "language": "python",
   "name": "emojiprediction"
  },
  "language_info": {
   "codemirror_mode": {
    "name": "ipython",
    "version": 3
   },
   "file_extension": ".py",
   "mimetype": "text/x-python",
   "name": "python",
   "nbconvert_exporter": "python",
   "pygments_lexer": "ipython3",
   "version": "3.6.3"
  }
 },
 "nbformat": 4,
 "nbformat_minor": 2
}
