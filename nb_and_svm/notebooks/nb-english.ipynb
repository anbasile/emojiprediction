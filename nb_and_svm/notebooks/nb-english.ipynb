{
 "cells": [
  {
   "cell_type": "code",
   "execution_count": 5,
   "metadata": {
    "collapsed": true
   },
   "outputs": [],
   "source": [
    "# importing the necessary packages\n",
    "\n",
    "# packages used for training\n",
    "from sklearn.pipeline import Pipeline\n",
    "from sklearn.feature_extraction.text import CountVectorizer\n",
    "from sklearn.feature_extraction.text import TfidfVectorizer\n",
    "from sklearn.naive_bayes import MultinomialNB\n",
    "import numpy as np\n",
    "import pandas as pd\n",
    "\n",
    "# package used for POS-tagging\n",
    "from spacy.en import English\n",
    "\n",
    "# packages used for evaluation\n",
    "from sklearn.model_selection import cross_val_score\n",
    "from sklearn.model_selection import cross_val_predict\n",
    "from sklearn.metrics import confusion_matrix\n",
    "from sklearn.metrics import classification_report\n",
    "\n",
    "# packages used for visualization\n",
    "import matplotlib.pyplot as plt\n",
    "import seaborn as sn\n",
    "%matplotlib inline"
   ]
  },
  {
   "cell_type": "code",
   "execution_count": 1,
   "metadata": {
    "collapsed": true
   },
   "outputs": [],
   "source": [
    "# loads the text and labels\n",
    "with open('../data/train/us.text') as f:\n",
    "    eng_text = f.readlines()\n",
    "    \n",
    "with open('../data/train/us.labels') as f:\n",
    "    eng_labels = f.readlines()"
   ]
  },
  {
   "cell_type": "code",
   "execution_count": 2,
   "metadata": {
    "collapsed": true
   },
   "outputs": [],
   "source": [
    "# asserts that the number of tweets and labels are equal\n",
    "assert len(eng_text) == len(eng_labels)"
   ]
  },
  {
   "cell_type": "code",
   "execution_count": 3,
   "metadata": {
    "collapsed": true
   },
   "outputs": [],
   "source": [
    "# strips the tweets and labels of extra chars\n",
    "eng_text = [tweet.strip() for tweet in eng_text]\n",
    "eng_labels = [int(label.strip()) for label in eng_labels]"
   ]
  },
  {
   "cell_type": "code",
   "execution_count": 6,
   "metadata": {},
   "outputs": [],
   "source": [
    "# shuffle the dataset with the same seed\n",
    "np.random.seed(42)\n",
    "np.random.shuffle(eng_text)\n",
    "np.random.seed(42)\n",
    "np.random.shuffle(eng_labels)"
   ]
  },
  {
   "cell_type": "markdown",
   "metadata": {},
   "source": [
    "## Baseline"
   ]
  },
  {
   "cell_type": "code",
   "execution_count": 6,
   "metadata": {
    "collapsed": true
   },
   "outputs": [],
   "source": [
    "# pipeline used to gather counts of all words in the dataset and vectorizes each document using CountVectorizer;\n",
    "# predict the labels using Multinomial Naive Bayes\n",
    "pipe = Pipeline([('count', CountVectorizer()),\n",
    "                 ('clf', MultinomialNB())])"
   ]
  },
  {
   "cell_type": "code",
   "execution_count": 7,
   "metadata": {
    "scrolled": true
   },
   "outputs": [
    {
     "name": "stdout",
     "output_type": "stream",
     "text": [
      "[ 0.30199973  0.3028248   0.30174401  0.30182156  0.30170128]\n",
      "Accuracy: 0.30 (+/- 0.00)\n"
     ]
    }
   ],
   "source": [
    "# Crossvalidates the performance of the above pipe on the English data/labels using 5 folds and returns\n",
    "# a list with the accuracy of each fold; prints the accuracy for each cross-section and the average accuracy\n",
    "scores = cross_val_score(pipe, eng_text, eng_labels, cv=5, n_jobs=-1)\n",
    "print(scores)\n",
    "print(\"Accuracy: %0.2f (+/- %0.2f)\" % (scores.mean(), scores.std() * 2))"
   ]
  },
  {
   "cell_type": "code",
   "execution_count": 8,
   "metadata": {},
   "outputs": [
    {
     "name": "stdout",
     "output_type": "stream",
     "text": [
      "[[94406  4715  4964   156   466    42    95   342    61    15    89   331\n",
      "    419     9     3    12     4   308    27     2]\n",
      " [37580  8208  4131    62   367    39    61   244    32     7    71   166\n",
      "    239     5     4     5     7    88    10     1]\n",
      " [21155  1606 26647    17   491    30    76    53    13     3    35   135\n",
      "     82     3     5    21     2    51     9     3]\n",
      " [24051  1172  1155   234   119     7    13    94     8     6    26    28\n",
      "    101     7     2     3     1    31     9     0]\n",
      " [11363  1228  4585    27  6799    13    76    49     9     3    73    59\n",
      "     69     2     1    19     2    23    26     0]\n",
      " [17941  1462  3101    16   133   108    30    42     8     7    25    64\n",
      "     99     5     2     3     4    54     6     2]\n",
      " [14371  1231  3839    24   534    24   404    66    23     3    47    99\n",
      "    395     3     2    17     5    15    15     1]\n",
      " [13743  1419  1458    35   321     9    45   818     8     2    67    25\n",
      "     97     2     0     4     1    92    16     0]\n",
      " [14512   644   899    48    74     5    24    65   302     0    23    70\n",
      "    147     1     1     4     2    19     5     1]\n",
      " [13645   644  1376    21    97     7    21    16     4    31    11    24\n",
      "     46     0     0     2     4    29     7     0]\n",
      " [10768  1016  2218    14   478     6    47    36    12     1  1089    62\n",
      "     63     1     0     7     1    29    98     1]\n",
      " [ 9302   481  1203    12   102     9    47    35    13     0    30  3793\n",
      "    132     2     0     3     1    14     3     0]\n",
      " [10506   606   629    10    84     7    96    30     6     1    31    33\n",
      "   1664     2     0     2     0     9     1     0]\n",
      " [11128   596   680    47    86     7    14    59     5     1    11    19\n",
      "     37   125     2     2     0    16     4     0]\n",
      " [ 8983   750  3225    16   150    17    35    23     8     2    27    35\n",
      "     47     0    12     3     0    18     5     3]\n",
      " [ 7505   488  4070    14   708     9    55    19    11     0    29    33\n",
      "     38     3     2   262     1     6    11     0]\n",
      " [ 8764  1005  2775     3   161    26    35    32     8     5    18    35\n",
      "     43     2     1     0    17    18     7     3]\n",
      " [ 9011   238   572    13    90     3     9    31     2     0     4    25\n",
      "     14     1     0     0     1  2698     2     0]\n",
      " [ 8751   686  2155    13   481     4    41    26     8     1   399    58\n",
      "     57     1     0     2     1    16   442     0]\n",
      " [ 7956   740  3094    13   168     9    36    13     4     3    14    39\n",
      "     59     4     3     4     3    19     6    10]]\n"
     ]
    }
   ],
   "source": [
    "# Crossvalidates the performance of the above pipe on the English data/labels using 5 folds and returns\n",
    "# a list containing the predictions for each label; this is used in a confusion matrix\n",
    "y_pred = cross_val_predict(pipe,eng_text,eng_labels,cv=5, n_jobs=-1)\n",
    "conf_mat = confusion_matrix(eng_labels,y_pred)\n",
    "print(conf_mat)"
   ]
  },
  {
   "cell_type": "code",
   "execution_count": 9,
   "metadata": {},
   "outputs": [
    {
     "data": {
      "text/plain": [
       "<matplotlib.axes._subplots.AxesSubplot at 0x10acb0128>"
      ]
     },
     "execution_count": 9,
     "metadata": {},
     "output_type": "execute_result"
    },
    {
     "data": {
      "image/png": "[encoded data removed]",
      "text/plain": [
       "<matplotlib.figure.Figure at 0x10ac96668>"
      ]
     },
     "metadata": {},
     "output_type": "display_data"
    }
   ],
   "source": [
    "# visualizes the above confusion matrix\n",
    "df_cm = pd.DataFrame(conf_mat, index = [i for i in set(eng_labels)], columns = [i for i in set(eng_labels)])\n",
    "plt.figure(figsize= (10,7))\n",
    "sn.heatmap(df_cm, annot=False)"
   ]
  },
  {
   "cell_type": "code",
   "execution_count": 10,
   "metadata": {},
   "outputs": [
    {
     "name": "stdout",
     "output_type": "stream",
     "text": [
      "             precision    recall  f1-score   support\n",
      "\n",
      "          0       0.27      0.89      0.41    106466\n",
      "          1       0.28      0.16      0.20     51327\n",
      "          2       0.37      0.53      0.43     50437\n",
      "          3       0.29      0.01      0.02     27067\n",
      "          4       0.57      0.28      0.37     24426\n",
      "          5       0.28      0.00      0.01     23112\n",
      "          6       0.32      0.02      0.04     21118\n",
      "          7       0.39      0.05      0.08     18162\n",
      "          8       0.55      0.02      0.03     16846\n",
      "          9       0.34      0.00      0.00     15985\n",
      "         10       0.51      0.07      0.12     15947\n",
      "         11       0.74      0.25      0.37     15182\n",
      "         12       0.43      0.12      0.19     13717\n",
      "         13       0.70      0.01      0.02     12839\n",
      "         14       0.30      0.00      0.00     13359\n",
      "         15       0.70      0.02      0.04     13264\n",
      "         16       0.30      0.00      0.00     12958\n",
      "         17       0.76      0.21      0.33     12714\n",
      "         18       0.62      0.03      0.06     13142\n",
      "         19       0.37      0.00      0.00     12197\n",
      "\n",
      "avg / total       0.39      0.30      0.21    490265\n",
      "\n"
     ]
    }
   ],
   "source": [
    "# prints a report detailing precision/recall and f-score of the pipeline\n",
    "print(classification_report(eng_labels, y_pred))"
   ]
  },
  {
   "cell_type": "markdown",
   "metadata": {},
   "source": [
    "## Feature normalization using tf-idf"
   ]
  },
  {
   "cell_type": "code",
   "execution_count": 11,
   "metadata": {
    "collapsed": true
   },
   "outputs": [],
   "source": [
    "# pipeline used to gather counts of all words in the dataset normalized with tf-idf and vectorizes each document \n",
    "# using TfidfVectorizer; predict the labels using Multinomial Naive Bayes\n",
    "pipe = Pipeline([('tfidf', TfidfVectorizer()),\n",
    "                 ('clf', MultinomialNB())])"
   ]
  },
  {
   "cell_type": "code",
   "execution_count": 12,
   "metadata": {},
   "outputs": [
    {
     "name": "stdout",
     "output_type": "stream",
     "text": [
      "[ 0.24820778  0.24892923  0.24885263  0.24815397  0.24872506]\n",
      "Accuracy: 0.25 (+/- 0.00)\n"
     ]
    }
   ],
   "source": [
    "# Crossvalidates the performance of the above pipe on the English data/labels using 5 folds and returns\n",
    "# a list with the accuracy of each fold; prints the accuracy for each cross-section and the average accuracy\n",
    "scores = cross_val_score(pipe, eng_text, eng_labels, cv=5, n_jobs=-1)\n",
    "print(scores)\n",
    "print(\"Accuracy: %0.2f (+/- %0.2f)\" % (scores.mean(), scores.std() * 2))"
   ]
  },
  {
   "cell_type": "code",
   "execution_count": 13,
   "metadata": {},
   "outputs": [
    {
     "name": "stdout",
     "output_type": "stream",
     "text": [
      "[[105195    415    800      2     22      0      1      1      1      0\n",
      "       0     21      1      0      0      0      0      7      0      0]\n",
      " [ 49247   1215    827      1     20      0      0      1      1      0\n",
      "       0     10      0      0      0      0      0      5      0      0]\n",
      " [ 37550    141  12678      0     44      0      1      0      1      0\n",
      "       0     20      0      0      0      1      0      1      0      0]\n",
      " [ 26775    101    173     11      4      0      0      0      1      0\n",
      "       0      1      0      0      0      0      0      1      0      0]\n",
      " [ 20911    188   1830      0   1484      0      0      0      1      0\n",
      "       1     10      0      0      0      0      0      1      0      0]\n",
      " [ 22226    133    730      0      4      8      2      0      0      0\n",
      "       0      8      0      0      0      0      0      1      0      0]\n",
      " [ 19942     86   1025      0     41      0     16      0      1      0\n",
      "       0      6      1      0      0      0      0      0      0      0]\n",
      " [ 17784    155    183      0     18      0      0     18      0      0\n",
      "       0      1      1      0      0      0      0      2      0      0]\n",
      " [ 16640     48    134      0      2      0      0      0     17      0\n",
      "       0      5      0      0      0      0      0      0      0      0]\n",
      " [ 15606     56    311      1      6      0      0      0      0      0\n",
      "       1      3      0      0      0      0      0      1      0      0]\n",
      " [ 15269     86    485      0     32      0      0      0      0      0\n",
      "      73      1      0      1      0      0      0      0      0      0]\n",
      " [ 14027     28    234      0      5      0      0      0      1      0\n",
      "       0    887      0      0      0      0      0      0      0      0]\n",
      " [ 13570     41     69      0      4      0      2      0      0      0\n",
      "       0      3     28      0      0      0      0      0      0      0]\n",
      " [ 12646     68    116      1      4      0      0      0      0      0\n",
      "       0      1      0      3      0      0      0      0      0      0]\n",
      " [ 12629     57    661      0      5      0      0      0      0      0\n",
      "       0      6      1      0      0      0      0      0      0      0]\n",
      " [ 11284     56   1782      0    108      0      1      0      0      0\n",
      "       1      5      0      0      0     27      0      0      0      0]\n",
      " [ 12099    101    747      0      9      0      0      0      0      0\n",
      "       0      1      0      0      0      0      0      1      0      0]\n",
      " [ 12452     17     71      0      5      0      0      0      0      0\n",
      "       0      2      0      0      0      0      0    167      0      0]\n",
      " [ 12530     61    462      0     31      0      0      0      0      0\n",
      "       9      8      0      0      0      0      0      1     40      0]\n",
      " [ 11279     77    824      0     14      0      0      1      0      0\n",
      "       0      2      0      0      0      0      0      0      0      0]]\n"
     ]
    }
   ],
   "source": [
    "# Crossvalidates the performance of the above pipe on the English data/labels using 5 folds and returns\n",
    "# a list containing the predictions for each label; this is used in a confusion matrix\n",
    "y_pred = cross_val_predict(pipe,eng_text,eng_labels,cv=5, n_jobs=-1)\n",
    "conf_mat = confusion_matrix(eng_labels,y_pred)\n",
    "print(conf_mat)"
   ]
  },
  {
   "cell_type": "code",
   "execution_count": 14,
   "metadata": {},
   "outputs": [
    {
     "data": {
      "text/plain": [
       "<matplotlib.axes._subplots.AxesSubplot at 0x10e03cef0>"
      ]
     },
     "execution_count": 14,
     "metadata": {},
     "output_type": "execute_result"
    },
    {
     "data": {
      "image/png": "[encoded data removed]",
      "text/plain": [
       "<matplotlib.figure.Figure at 0x119409eb8>"
      ]
     },
     "metadata": {},
     "output_type": "display_data"
    }
   ],
   "source": [
    "# visualizes the above confusion matrix\n",
    "df_cm = pd.DataFrame(conf_mat, index = [i for i in set(eng_labels)], columns = [i for i in set(eng_labels)])\n",
    "plt.figure(figsize= (10,7))\n",
    "sn.heatmap(df_cm, annot=False)"
   ]
  },
  {
   "cell_type": "code",
   "execution_count": 15,
   "metadata": {},
   "outputs": [
    {
     "name": "stdout",
     "output_type": "stream",
     "text": [
      "             precision    recall  f1-score   support\n",
      "\n",
      "          0       0.23      0.99      0.37    106466\n",
      "          1       0.39      0.02      0.04     51327\n",
      "          2       0.53      0.25      0.34     50437\n",
      "          3       0.69      0.00      0.00     27067\n",
      "          4       0.80      0.06      0.11     24426\n",
      "          5       1.00      0.00      0.00     23112\n",
      "          6       0.70      0.00      0.00     21118\n",
      "          7       0.86      0.00      0.00     18162\n",
      "          8       0.71      0.00      0.00     16846\n",
      "          9       0.00      0.00      0.00     15985\n",
      "         10       0.86      0.00      0.01     15947\n",
      "         11       0.89      0.06      0.11     15182\n",
      "         12       0.88      0.00      0.00     13717\n",
      "         13       0.75      0.00      0.00     12839\n",
      "         14       0.00      0.00      0.00     13359\n",
      "         15       0.96      0.00      0.00     13264\n",
      "         16       0.00      0.00      0.00     12958\n",
      "         17       0.89      0.01      0.03     12714\n",
      "         18       1.00      0.00      0.01     13142\n",
      "         19       0.00      0.00      0.00     12197\n",
      "\n",
      "avg / total       0.53      0.25      0.13    490265\n",
      "\n"
     ]
    },
    {
     "name": "stderr",
     "output_type": "stream",
     "text": [
      "/Users/kennylino/.local/share/virtualenvs/emojiprediction-SvmtXtCx/lib/python3.6/site-packages/sklearn/metrics/classification.py:1135: UndefinedMetricWarning: Precision and F-score are ill-defined and being set to 0.0 in labels with no predicted samples.\n",
      "  'precision', 'predicted', average, warn_for)\n"
     ]
    }
   ],
   "source": [
    "# prints a report detailing precision/recall and f-score of the pipeline\n",
    "print(classification_report(eng_labels, y_pred))"
   ]
  },
  {
   "cell_type": "markdown",
   "metadata": {},
   "source": [
    "## tf-idf and part-of-speech tagging"
   ]
  },
  {
   "cell_type": "code",
   "execution_count": 16,
   "metadata": {
    "collapsed": true
   },
   "outputs": [],
   "source": [
    "# loads the spaCy English parser\n",
    "parser = English()"
   ]
  },
  {
   "cell_type": "code",
   "execution_count": 17,
   "metadata": {
    "collapsed": true
   },
   "outputs": [],
   "source": [
    "# tokenizes an input tweet using the spaCy English parser;\n",
    "# returns a list of tokenized words with the POS tag attached to the word in 'word_POS' format\n",
    "def spacy_tokenize(tweet):\n",
    "    tokens = parser(tweet)\n",
    "    tokens = [token.text +'_' + token.pos_ for token in tokens]\n",
    "    return tokens"
   ]
  },
  {
   "cell_type": "code",
   "execution_count": 19,
   "metadata": {
    "collapsed": true
   },
   "outputs": [],
   "source": [
    "# pipeline used to gather counts of all words labeled with POS in the dataset normalized with tf-idf \n",
    "# and vectorizes each document using TfidfVectorizer; predict the labels using Multinomial Naive Bayes\n",
    "pipe = Pipeline([('tfidf', TfidfVectorizer(tokenizer=spacy_tokenize)),\n",
    "                 ('clf', MultinomialNB())])"
   ]
  },
  {
   "cell_type": "code",
   "execution_count": 20,
   "metadata": {},
   "outputs": [
    {
     "name": "stdout",
     "output_type": "stream",
     "text": [
      "[ 0.24573998  0.24510504  0.24584396  0.24621614  0.245961  ]\n",
      "Accuracy: 0.25 (+/- 0.00)\n"
     ]
    }
   ],
   "source": [
    "# Crossvalidates the performance of the above pipe on the English data/labels using 5 folds and returns\n",
    "# a list with the accuracy of each fold; prints the accuracy for each cross-section and the average accuracy\n",
    "scores = cross_val_score(pipe, eng_text, eng_labels, cv=5, n_jobs=-1)\n",
    "print(scores)\n",
    "print(\"Accuracy: %0.2f (+/- %0.2f)\" % (scores.mean(), scores.std() * 2))"
   ]
  },
  {
   "cell_type": "code",
   "execution_count": 21,
   "metadata": {},
   "outputs": [
    {
     "name": "stdout",
     "output_type": "stream",
     "text": [
      "[[106160     60    235      0      3      0      0      0      0      0\n",
      "       0      8      0      0      0      0      0      0      0      0]\n",
      " [ 49723    838    750      1      6      0      0      0      0      0\n",
      "       0      7      0      0      0      0      0      2      0      0]\n",
      " [ 38222     86  12100      0     22      0      0      0      0      0\n",
      "       0      7      0      0      0      0      0      0      0      0]\n",
      " [ 26843     53    161      5      3      0      0      0      0      0\n",
      "       0      2      0      0      0      0      0      0      0      0]\n",
      " [ 22025    107   1533      0    757      0      0      0      0      0\n",
      "       1      3      0      0      0      0      0      0      0      0]\n",
      " [ 22327     87    694      0      1      0      0      0      0      0\n",
      "       0      3      0      0      0      0      0      0      0      0]\n",
      " [ 20204     63    827      0     16      0      3      0      0      0\n",
      "       0      5      0      0      0      0      0      0      0      0]\n",
      " [ 17903     78    165      0      7      0      0      7      0      0\n",
      "       0      0      1      0      0      0      0      1      0      0]\n",
      " [ 16721     16    101      0      1      0      0      0      5      0\n",
      "       0      2      0      0      0      0      0      0      0      0]\n",
      " [ 15643     34    298      1      4      0      0      0      0      0\n",
      "       0      4      0      0      0      0      0      1      0      0]\n",
      " [ 15441     35    415      0     14      0      0      0      0      0\n",
      "      42      0      0      0      0      0      0      0      0      0]\n",
      " [ 14495     21    184      0      0      0      0      0      0      0\n",
      "       0    482      0      0      0      0      0      0      0      0]\n",
      " [ 13700      1      8      0      1      0      0      0      0      0\n",
      "       0      0      7      0      0      0      0      0      0      0]\n",
      " [ 12704     28    103      1      1      0      0      0      0      0\n",
      "       0      0      0      2      0      0      0      0      0      0]\n",
      " [ 12705     30    622      0      0      0      0      0      0      0\n",
      "       0      2      0      0      0      0      0      0      0      0]\n",
      " [ 11576     36   1589      0     51      0      1      0      0      0\n",
      "       0      0      0      0      0     11      0      0      0      0]\n",
      " [ 12246     74    635      0      3      0      0      0      0      0\n",
      "       0      0      0      0      0      0      0      0      0      0]\n",
      " [ 12594      4     60      0      1      0      0      0      0      0\n",
      "       0      2      0      0      0      0      0     53      0      0]\n",
      " [ 12681     27    390      0     10      0      0      0      0      0\n",
      "       7      5      0      0      0      0      0      0     22      0]\n",
      " [ 11411     51    727      0      6      0      0      0      0      0\n",
      "       0      2      0      0      0      0      0      0      0      0]]\n"
     ]
    }
   ],
   "source": [
    "# Crossvalidates the performance of the above pipe on the English data/labels using 5 folds and returns\n",
    "# a list containing the predictions for each label; this is used in a confusion matrix\n",
    "y_pred = cross_val_predict(pipe,eng_text,eng_labels,cv=5, n_jobs=-1)\n",
    "conf_mat = confusion_matrix(eng_labels,y_pred)\n",
    "print(conf_mat)"
   ]
  },
  {
   "cell_type": "code",
   "execution_count": 22,
   "metadata": {},
   "outputs": [
    {
     "data": {
      "text/plain": [
       "<matplotlib.axes._subplots.AxesSubplot at 0x10e050cf8>"
      ]
     },
     "execution_count": 22,
     "metadata": {},
     "output_type": "execute_result"
    },
    {
     "data": {
      "image/png": "[encoded data removed]",
      "text/plain": [
       "<matplotlib.figure.Figure at 0x121da1470>"
      ]
     },
     "metadata": {},
     "output_type": "display_data"
    }
   ],
   "source": [
    "# visualizes the above confusion matrix\n",
    "df_cm = pd.DataFrame(conf_mat, index = [i for i in set(eng_labels)], columns = [i for i in set(eng_labels)])\n",
    "plt.figure(figsize= (10,7))\n",
    "sn.heatmap(df_cm, annot=False)"
   ]
  },
  {
   "cell_type": "code",
   "execution_count": 23,
   "metadata": {},
   "outputs": [
    {
     "name": "stdout",
     "output_type": "stream",
     "text": [
      "             precision    recall  f1-score   support\n",
      "\n",
      "          0       0.23      1.00      0.37    106466\n",
      "          1       0.48      0.02      0.03     51327\n",
      "          2       0.56      0.24      0.34     50437\n",
      "          3       0.62      0.00      0.00     27067\n",
      "          4       0.83      0.03      0.06     24426\n",
      "          5       0.00      0.00      0.00     23112\n",
      "          6       0.75      0.00      0.00     21118\n",
      "          7       1.00      0.00      0.00     18162\n",
      "          8       1.00      0.00      0.00     16846\n",
      "          9       0.00      0.00      0.00     15985\n",
      "         10       0.84      0.00      0.01     15947\n",
      "         11       0.90      0.03      0.06     15182\n",
      "         12       0.88      0.00      0.00     13717\n",
      "         13       1.00      0.00      0.00     12839\n",
      "         14       0.00      0.00      0.00     13359\n",
      "         15       1.00      0.00      0.00     13264\n",
      "         16       0.00      0.00      0.00     12958\n",
      "         17       0.93      0.00      0.01     12714\n",
      "         18       1.00      0.00      0.00     13142\n",
      "         19       0.00      0.00      0.00     12197\n",
      "\n",
      "avg / total       0.52      0.25      0.12    490265\n",
      "\n"
     ]
    },
    {
     "name": "stderr",
     "output_type": "stream",
     "text": [
      "/Users/kennylino/.local/share/virtualenvs/emojiprediction-SvmtXtCx/lib/python3.6/site-packages/sklearn/metrics/classification.py:1135: UndefinedMetricWarning: Precision and F-score are ill-defined and being set to 0.0 in labels with no predicted samples.\n",
      "  'precision', 'predicted', average, warn_for)\n"
     ]
    }
   ],
   "source": [
    "# prints a report detailing precision/recall and f-score of the pipeline\n",
    "print(classification_report(eng_labels, y_pred))"
   ]
  },
  {
   "cell_type": "markdown",
   "metadata": {},
   "source": [
    "## tf-idf and bi-grams"
   ]
  },
  {
   "cell_type": "code",
   "execution_count": 24,
   "metadata": {
    "collapsed": true
   },
   "outputs": [],
   "source": [
    "# pipeline used to gather counts of bi-grams in the dataset normalized with tf-idf and vectorizes each document \n",
    "# using TfidfVectorizer; predict the labels using Multinomial Naive Bayes\n",
    "pipe = Pipeline([('tfidf', TfidfVectorizer(ngram_range=(1,2))),\n",
    "                 ('clf', MultinomialNB())])"
   ]
  },
  {
   "cell_type": "code",
   "execution_count": 25,
   "metadata": {},
   "outputs": [
    {
     "name": "stdout",
     "output_type": "stream",
     "text": [
      "[ 0.24227282  0.2429227   0.2427231   0.24197332  0.24303374]\n",
      "Accuracy: 0.24 (+/- 0.00)\n"
     ]
    }
   ],
   "source": [
    "# Crossvalidates the performance of the above pipe on the English data/labels using 5 folds\n",
    "# prints the scores for each cross-section and the average accuracy\n",
    "scores = cross_val_score(pipe, eng_text, eng_labels, cv=5, n_jobs=-1)\n",
    "print(scores)\n",
    "print(\"Accuracy: %0.2f (+/- %0.2f)\" % (scores.mean(), scores.std() * 2))"
   ]
  },
  {
   "cell_type": "code",
   "execution_count": 26,
   "metadata": {},
   "outputs": [
    {
     "name": "stdout",
     "output_type": "stream",
     "text": [
      "[[105935    107    356      3     13      0      0      0      1      0\n",
      "       0     29      1      0      0      0      0     21      0      0]\n",
      " [ 50315    538    439      0     17      0      0      0      0      0\n",
      "       0      8      0      0      0      0      0     10      0      0]\n",
      " [ 40813     41   9522      0     41      0      0      0      1      0\n",
      "       0     15      0      0      0      1      0      3      0      0]\n",
      " [ 26943     19     87      7      4      0      0      0      2      0\n",
      "       0      2      2      0      0      0      0      1      0      0]\n",
      " [ 21854     48    935      0   1584      0      0      0      0      0\n",
      "       0      4      0      0      0      0      0      1      0      0]\n",
      " [ 22635     24    438      0      4      5      0      0      0      0\n",
      "       0      6      0      0      0      0      0      0      0      0]\n",
      " [ 20493     21    556      0     34      0      4      0      1      0\n",
      "       0      6      3      0      0      0      0      0      0      0]\n",
      " [ 17995     25     83      0     21      0      0     23      0      0\n",
      "       0      2      1      0      0      0      0     12      0      0]\n",
      " [ 16762      8     56      0      4      0      0      0     12      0\n",
      "       0      4      0      0      0      0      0      0      0      0]\n",
      " [ 15772     13    188      1      4      0      0      0      0      0\n",
      "       0      5      0      0      0      0      0      2      0      0]\n",
      " [ 15638     10    241      0     21      0      0      0      0      0\n",
      "      36      0      0      0      0      0      0      1      0      0]\n",
      " [ 14393      9     96      0      3      0      0      0      0      0\n",
      "       0    681      0      0      0      0      0      0      0      0]\n",
      " [ 13631      5     35      0      3      0      0      0      0      0\n",
      "       0      2     37      0      0      0      0      4      0      0]\n",
      " [ 12748     15     62      1      4      0      0      0      0      0\n",
      "       0      1      1      7      0      0      0      0      0      0]\n",
      " [ 12961      6    380      0      6      0      0      0      0      0\n",
      "       0      4      1      0      0      0      0      1      0      0]\n",
      " [ 12102     10   1043      0     92      0      0      0      0      0\n",
      "       0      1      0      0      0     16      0      0      0      0]\n",
      " [ 12496     32    423      0      5      0      0      0      0      0\n",
      "       0      2      0      0      0      0      0      0      0      0]\n",
      " [ 12167      2     37      0     13      0      0      0      0      0\n",
      "       0      3      0      0      0      0      0    492      0      0]\n",
      " [ 12840      8    227      0     26      0      0      0      0      0\n",
      "       0      8      0      0      0      0      0      1     32      0]\n",
      " [ 11699     16    469      0     11      0      0      0      0      0\n",
      "       0      2      0      0      0      0      0      0      0      0]]\n"
     ]
    }
   ],
   "source": [
    "# Crossvalidates the performance of the above pipe on the English data/labels using 5 folds and returns\n",
    "# a list containing the predictions for each label; this is used in a confusion matrix\n",
    "y_pred = cross_val_predict(pipe,eng_text,eng_labels,cv=5, n_jobs=-1)\n",
    "conf_mat = confusion_matrix(eng_labels,y_pred)\n",
    "print(conf_mat)"
   ]
  },
  {
   "cell_type": "code",
   "execution_count": 27,
   "metadata": {},
   "outputs": [
    {
     "data": {
      "text/plain": [
       "<matplotlib.axes._subplots.AxesSubplot at 0x1125297b8>"
      ]
     },
     "execution_count": 27,
     "metadata": {},
     "output_type": "execute_result"
    },
    {
     "data": {
      "image/png": "[encoded data removed]",
      "text/plain": [
       "<matplotlib.figure.Figure at 0x112ba7d68>"
      ]
     },
     "metadata": {},
     "output_type": "display_data"
    }
   ],
   "source": [
    "# visualizes the above confusion matrix\n",
    "df_cm = pd.DataFrame(conf_mat, index = [i for i in set(eng_labels)], columns = [i for i in set(eng_labels)])\n",
    "plt.figure(figsize= (10,7))\n",
    "sn.heatmap(df_cm, annot=False)"
   ]
  },
  {
   "cell_type": "code",
   "execution_count": 28,
   "metadata": {},
   "outputs": [
    {
     "name": "stdout",
     "output_type": "stream",
     "text": [
      "             precision    recall  f1-score   support\n",
      "\n",
      "          0       0.23      1.00      0.37    106466\n",
      "          1       0.56      0.01      0.02     51327\n",
      "          2       0.61      0.19      0.29     50437\n",
      "          3       0.58      0.00      0.00     27067\n",
      "          4       0.83      0.06      0.12     24426\n",
      "          5       1.00      0.00      0.00     23112\n",
      "          6       1.00      0.00      0.00     21118\n",
      "          7       1.00      0.00      0.00     18162\n",
      "          8       0.71      0.00      0.00     16846\n",
      "          9       0.00      0.00      0.00     15985\n",
      "         10       1.00      0.00      0.00     15947\n",
      "         11       0.87      0.04      0.09     15182\n",
      "         12       0.80      0.00      0.01     13717\n",
      "         13       1.00      0.00      0.00     12839\n",
      "         14       0.00      0.00      0.00     13359\n",
      "         15       0.94      0.00      0.00     13264\n",
      "         16       0.00      0.00      0.00     12958\n",
      "         17       0.90      0.04      0.07     12714\n",
      "         18       1.00      0.00      0.00     13142\n",
      "         19       0.00      0.00      0.00     12197\n",
      "\n",
      "avg / total       0.58      0.24      0.12    490265\n",
      "\n"
     ]
    },
    {
     "name": "stderr",
     "output_type": "stream",
     "text": [
      "/Users/kennylino/.local/share/virtualenvs/emojiprediction-SvmtXtCx/lib/python3.6/site-packages/sklearn/metrics/classification.py:1135: UndefinedMetricWarning: Precision and F-score are ill-defined and being set to 0.0 in labels with no predicted samples.\n",
      "  'precision', 'predicted', average, warn_for)\n"
     ]
    }
   ],
   "source": [
    "# prints a report detailing precision/recall and f-score of the pipeline\n",
    "print(classification_report(eng_labels, y_pred))"
   ]
  },
  {
   "cell_type": "markdown",
   "metadata": {},
   "source": [
    "## tf-idf, bi-grams and part-of-speech tagging"
   ]
  },
  {
   "cell_type": "code",
   "execution_count": 29,
   "metadata": {
    "collapsed": true
   },
   "outputs": [],
   "source": [
    "# loads the spaCy English parser\n",
    "parser = English()"
   ]
  },
  {
   "cell_type": "code",
   "execution_count": 30,
   "metadata": {
    "collapsed": true
   },
   "outputs": [],
   "source": [
    "# tokenizes an input tweet using the spaCy English parser;\n",
    "# returns a list of tokenized words with the POS tag attached to the word in 'word_POS' format\n",
    "def spacy_tokenize(tweet):\n",
    "    tokens = parser(tweet)\n",
    "    tokens = [token.text +'_' + token.pos_ for token in tokens]\n",
    "    return tokens"
   ]
  },
  {
   "cell_type": "code",
   "execution_count": 32,
   "metadata": {
    "collapsed": true
   },
   "outputs": [],
   "source": [
    "# pipeline used to gather counts of all bi-grams with each word labeled with POS in the dataset; \n",
    "# this is then normalized with tf-idf and each document is vectorized using TfidfVectorizer; \n",
    "# predict the labels using Multinomial Naive Bayes\n",
    "pipe = Pipeline([('tfidf', TfidfVectorizer(tokenizer=spacy_tokenize, ngram_range=(1,2))),\n",
    "                 ('clf', MultinomialNB())])"
   ]
  },
  {
   "cell_type": "code",
   "execution_count": 33,
   "metadata": {},
   "outputs": [
    {
     "name": "stdout",
     "output_type": "stream",
     "text": [
      "[ 0.24490379  0.24496227  0.24495665  0.24506364  0.24491045]\n",
      "Accuracy: 0.24 (+/- 0.00)\n"
     ]
    }
   ],
   "source": [
    "# Crossvalidates the performance of the above pipe on the English data/labels using 5 folds\n",
    "# prints the scores for each cross-section and the average accuracy\n",
    "scores = cross_val_score(pipe, eng_text, eng_labels, cv=5, n_jobs=-1)\n",
    "print(scores)\n",
    "print(\"Accuracy: %0.2f (+/- %0.2f)\" % (scores.mean(), scores.std() * 2))"
   ]
  },
  {
   "cell_type": "code",
   "execution_count": 34,
   "metadata": {},
   "outputs": [
    {
     "name": "stdout",
     "output_type": "stream",
     "text": [
      "[[106251     38    153      1      3      0      0      0      0      0\n",
      "       3     13      0      0      0      0      0      4      0      0]\n",
      " [ 50118    659    513      1     10      0      0      0      0      0\n",
      "       1     15      0      0      0      0      0     10      0      0]\n",
      " [ 39862     58  10471      0     26      0      0      0      0      0\n",
      "       0     18      0      0      0      1      0      1      0      0]\n",
      " [ 26941     21     92      5      3      0      0      1      1      0\n",
      "       0      3      0      0      0      0      0      0      0      0]\n",
      " [ 22291     61    900      0   1168      0      0      0      0      0\n",
      "       2      4      0      0      0      0      0      0      0      0]\n",
      " [ 22525     43    534      0      3      1      0      0      0      0\n",
      "       0      4      0      0      0      0      0      2      0      0]\n",
      " [ 20404     52    626      0     23      0      3      0      1      0\n",
      "       0      8      1      0      0      0      0      0      0      0]\n",
      " [ 17952     39    118      0     17      0      0     20      0      0\n",
      "       1      2      1      0      0      0      0     12      0      0]\n",
      " [ 16746     21     62      0      3      0      0      0      9      0\n",
      "       0      5      0      0      0      0      0      0      0      0]\n",
      " [ 15736     22    219      1      2      0      0      0      0      0\n",
      "       0      4      0      0      0      0      0      1      0      0]\n",
      " [ 15569     11    235      0     15      0      0      0      0      0\n",
      "     115      1      0      0      0      0      0      0      1      0]\n",
      " [ 14146     13    120      0      0      0      0      0      1      0\n",
      "       0    902      0      0      0      0      0      0      0      0]\n",
      " [ 13691      1      8      0      2      0      0      0      0      0\n",
      "       0      3     12      0      0      0      0      0      0      0]\n",
      " [ 12735     15     69      1      5      0      0      1      0      0\n",
      "       2      2      0      9      0      0      0      0      0      0]\n",
      " [ 12854     15    481      0      3      0      0      0      0      0\n",
      "       0      4      0      0      0      0      0      2      0      0]\n",
      " [ 12066     19   1096      0     62      0      0      0      0      0\n",
      "       0      4      0      0      0     17      0      0      0      0]\n",
      " [ 12369     52    527      0      5      0      0      0      1      0\n",
      "       0      4      0      0      0      0      0      0      0      0]\n",
      " [ 12237      1     54      0     14      0      0      0      0      0\n",
      "       0      4      0      0      0      0      0    404      0      0]\n",
      " [ 12776      7    245      0     16      0      0      0      0      0\n",
      "      40      8      0      0      0      0      0      1     49      0]\n",
      " [ 11614     38    534      0      9      0      0      0      0      0\n",
      "       0      2      0      0      0      0      0      0      0      0]]\n"
     ]
    }
   ],
   "source": [
    "# Crossvalidates the performance of the above pipe on the English data/labels using 5 folds and returns\n",
    "# a list containing the predictions for each label; this is used in a confusion matrix\n",
    "y_pred = cross_val_predict(pipe,eng_text,eng_labels,cv=5, n_jobs=-1)\n",
    "conf_mat = confusion_matrix(eng_labels,y_pred)\n",
    "print(conf_mat)"
   ]
  },
  {
   "cell_type": "code",
   "execution_count": 35,
   "metadata": {},
   "outputs": [
    {
     "data": {
      "text/plain": [
       "<matplotlib.axes._subplots.AxesSubplot at 0x112461198>"
      ]
     },
     "execution_count": 35,
     "metadata": {},
     "output_type": "execute_result"
    },
    {
     "data": {
      "image/png": "[encoded data removed]",
      "text/plain": [
       "<matplotlib.figure.Figure at 0x121da17f0>"
      ]
     },
     "metadata": {},
     "output_type": "display_data"
    }
   ],
   "source": [
    "# visualizes the above confusion matrix\n",
    "df_cm = pd.DataFrame(conf_mat, index = [i for i in set(eng_labels)], columns = [i for i in set(eng_labels)])\n",
    "plt.figure(figsize= (10,7))\n",
    "sn.heatmap(df_cm, annot=False)"
   ]
  },
  {
   "cell_type": "code",
   "execution_count": 36,
   "metadata": {},
   "outputs": [
    {
     "name": "stdout",
     "output_type": "stream",
     "text": [
      "             precision    recall  f1-score   support\n",
      "\n",
      "          0       0.23      1.00      0.37    106466\n",
      "          1       0.56      0.01      0.03     51327\n",
      "          2       0.61      0.21      0.31     50437\n",
      "          3       0.56      0.00      0.00     27067\n",
      "          4       0.84      0.05      0.09     24426\n",
      "          5       1.00      0.00      0.00     23112\n",
      "          6       1.00      0.00      0.00     21118\n",
      "          7       0.91      0.00      0.00     18162\n",
      "          8       0.69      0.00      0.00     16846\n",
      "          9       0.00      0.00      0.00     15985\n",
      "         10       0.70      0.01      0.01     15947\n",
      "         11       0.89      0.06      0.11     15182\n",
      "         12       0.86      0.00      0.00     13717\n",
      "         13       1.00      0.00      0.00     12839\n",
      "         14       0.00      0.00      0.00     13359\n",
      "         15       0.94      0.00      0.00     13264\n",
      "         16       0.00      0.00      0.00     12958\n",
      "         17       0.92      0.03      0.06     12714\n",
      "         18       0.98      0.00      0.01     13142\n",
      "         19       0.00      0.00      0.00     12197\n",
      "\n",
      "avg / total       0.57      0.24      0.13    490265\n",
      "\n"
     ]
    },
    {
     "name": "stderr",
     "output_type": "stream",
     "text": [
      "/Users/kennylino/.local/share/virtualenvs/emojiprediction-SvmtXtCx/lib/python3.6/site-packages/sklearn/metrics/classification.py:1135: UndefinedMetricWarning: Precision and F-score are ill-defined and being set to 0.0 in labels with no predicted samples.\n",
      "  'precision', 'predicted', average, warn_for)\n"
     ]
    }
   ],
   "source": [
    "# prints a report detailing precision/recall and f-score of the pipeline\n",
    "print(classification_report(eng_labels, y_pred))"
   ]
  },
  {
   "cell_type": "markdown",
   "metadata": {},
   "source": [
    "## tf-idf, bi-grams and part-of-speech tagging with balanced dataset"
   ]
  },
  {
   "cell_type": "code",
   "execution_count": 7,
   "metadata": {
    "collapsed": true
   },
   "outputs": [],
   "source": [
    "# puts the English text and labels data into a pandas DataFrame\n",
    "eng_data_df = pd.DataFrame([eng_text, eng_labels]).transpose()\n",
    "eng_data_df.columns = (['text', 'label'])"
   ]
  },
  {
   "cell_type": "code",
   "execution_count": 8,
   "metadata": {},
   "outputs": [
    {
     "data": {
      "text/html": [
       "<div>\n",
       "<style scoped>\n",
       "    .dataframe tbody tr th:only-of-type {\n",
       "        vertical-align: middle;\n",
       "    }\n",
       "\n",
       "    .dataframe tbody tr th {\n",
       "        vertical-align: top;\n",
       "    }\n",
       "\n",
       "    .dataframe thead th {\n",
       "        text-align: right;\n",
       "    }\n",
       "</style>\n",
       "<table border=\"1\" class=\"dataframe\">\n",
       "  <thead>\n",
       "    <tr style=\"text-align: right;\">\n",
       "      <th></th>\n",
       "      <th>text</th>\n",
       "      <th>label</th>\n",
       "    </tr>\n",
       "  </thead>\n",
       "  <tbody>\n",
       "    <tr>\n",
       "      <th>49847</th>\n",
       "      <td>Love is all you need # ️ @ Downtown Miami</td>\n",
       "      <td>0</td>\n",
       "    </tr>\n",
       "    <tr>\n",
       "      <th>255815</th>\n",
       "      <td>My dreams have come true! It's a giant #kirby ...</td>\n",
       "      <td>0</td>\n",
       "    </tr>\n",
       "    <tr>\n",
       "      <th>208768</th>\n",
       "      <td>These are a few of my favorite things ️ ️ joan...</td>\n",
       "      <td>0</td>\n",
       "    </tr>\n",
       "    <tr>\n",
       "      <th>6505</th>\n",
       "      <td>This guy. This place. ️ ️ ️ #movember #palodur...</td>\n",
       "      <td>0</td>\n",
       "    </tr>\n",
       "    <tr>\n",
       "      <th>93077</th>\n",
       "      <td>St. Louis Ribs at charlieandjakesbeachside -- ...</td>\n",
       "      <td>0</td>\n",
       "    </tr>\n",
       "    <tr>\n",
       "      <th>315923</th>\n",
       "      <td>Farewell drink with the Zeno group. I'll miss ...</td>\n",
       "      <td>0</td>\n",
       "    </tr>\n",
       "    <tr>\n",
       "      <th>33228</th>\n",
       "      <td>Feels so good to be back (and this time to sta...</td>\n",
       "      <td>0</td>\n",
       "    </tr>\n",
       "    <tr>\n",
       "      <th>83512</th>\n",
       "      <td>That's my spot dood....lol ️️ #socialmedia #so...</td>\n",
       "      <td>0</td>\n",
       "    </tr>\n",
       "    <tr>\n",
       "      <th>466450</th>\n",
       "      <td>Because I ️ this. #mondaymotivation #god #thed...</td>\n",
       "      <td>0</td>\n",
       "    </tr>\n",
       "    <tr>\n",
       "      <th>290952</th>\n",
       "      <td>An afternoon date with a very pretty girl ️ #s...</td>\n",
       "      <td>0</td>\n",
       "    </tr>\n",
       "    <tr>\n",
       "      <th>106948</th>\n",
       "      <td>We finally have some holiday sales going on Fo...</td>\n",
       "      <td>0</td>\n",
       "    </tr>\n",
       "    <tr>\n",
       "      <th>54446</th>\n",
       "      <td>️ ️ ️ @ Oak Run/Spoon Lake</td>\n",
       "      <td>0</td>\n",
       "    </tr>\n",
       "    <tr>\n",
       "      <th>117579</th>\n",
       "      <td>I love NYC ️ @ Flat Iron Building</td>\n",
       "      <td>0</td>\n",
       "    </tr>\n",
       "    <tr>\n",
       "      <th>49983</th>\n",
       "      <td>Happy Birthday to my special girl @ Molson Can...</td>\n",
       "      <td>0</td>\n",
       "    </tr>\n",
       "    <tr>\n",
       "      <th>37497</th>\n",
       "      <td>Tonight was incredible ️ @ Gas Monkey Dallas</td>\n",
       "      <td>0</td>\n",
       "    </tr>\n",
       "    <tr>\n",
       "      <th>28113</th>\n",
       "      <td>The most amazing girl ever. @ Chicago, Illinois</td>\n",
       "      <td>0</td>\n",
       "    </tr>\n",
       "    <tr>\n",
       "      <th>239397</th>\n",
       "      <td>Thank you for capturing this moment @user ️ #m...</td>\n",
       "      <td>0</td>\n",
       "    </tr>\n",
       "    <tr>\n",
       "      <th>12392</th>\n",
       "      <td>I love my family! ️ ️ ️ ️ ️#blessed #lovemylif...</td>\n",
       "      <td>0</td>\n",
       "    </tr>\n",
       "    <tr>\n",
       "      <th>234762</th>\n",
       "      <td>Chocolate custard. ️ @ The Bigg Chill Frozen Y...</td>\n",
       "      <td>0</td>\n",
       "    </tr>\n",
       "    <tr>\n",
       "      <th>325980</th>\n",
       "      <td>#bosschick #facial#upperwestsideLora's Skin St...</td>\n",
       "      <td>0</td>\n",
       "    </tr>\n",
       "    <tr>\n",
       "      <th>27950</th>\n",
       "      <td>I love you as big as this chair, sweet boy ️ @...</td>\n",
       "      <td>0</td>\n",
       "    </tr>\n",
       "    <tr>\n",
       "      <th>23398</th>\n",
       "      <td>Pictures don't do any justice on what we saw t...</td>\n",
       "      <td>0</td>\n",
       "    </tr>\n",
       "    <tr>\n",
       "      <th>173933</th>\n",
       "      <td>Congrats to baby sis and the rest of West Bran...</td>\n",
       "      <td>0</td>\n",
       "    </tr>\n",
       "    <tr>\n",
       "      <th>427312</th>\n",
       "      <td>Sharing the Biscuit Love with the one and only...</td>\n",
       "      <td>0</td>\n",
       "    </tr>\n",
       "    <tr>\n",
       "      <th>400174</th>\n",
       "      <td>a very happy birthday to my best friend ️ @ Sw...</td>\n",
       "      <td>0</td>\n",
       "    </tr>\n",
       "    <tr>\n",
       "      <th>61938</th>\n",
       "      <td>Worry is a misuse of your imagination. ️ @ Gra...</td>\n",
       "      <td>0</td>\n",
       "    </tr>\n",
       "    <tr>\n",
       "      <th>56606</th>\n",
       "      <td>With my right hand girls ️ #theater @ Minetta ...</td>\n",
       "      <td>0</td>\n",
       "    </tr>\n",
       "    <tr>\n",
       "      <th>8798</th>\n",
       "      <td>Friends forever ️ #fun #christmas #malibu #cel...</td>\n",
       "      <td>0</td>\n",
       "    </tr>\n",
       "    <tr>\n",
       "      <th>28749</th>\n",
       "      <td>Have a good Hump Day Beautiful Gramers! #1LUV ...</td>\n",
       "      <td>0</td>\n",
       "    </tr>\n",
       "    <tr>\n",
       "      <th>386577</th>\n",
       "      <td>attempting to capture this priceless moments ️...</td>\n",
       "      <td>0</td>\n",
       "    </tr>\n",
       "    <tr>\n",
       "      <th>...</th>\n",
       "      <td>...</td>\n",
       "      <td>...</td>\n",
       "    </tr>\n",
       "    <tr>\n",
       "      <th>277106</th>\n",
       "      <td>By Far the nicest Dublin I've been to! Lovely ...</td>\n",
       "      <td>19</td>\n",
       "    </tr>\n",
       "    <tr>\n",
       "      <th>390173</th>\n",
       "      <td>When you and your best friend are both ratchet...</td>\n",
       "      <td>19</td>\n",
       "    </tr>\n",
       "    <tr>\n",
       "      <th>468833</th>\n",
       "      <td>Tonight's dinner @ Chicken Charlie's Frybq</td>\n",
       "      <td>19</td>\n",
       "    </tr>\n",
       "    <tr>\n",
       "      <th>82042</th>\n",
       "      <td>Zip-lining through Vegas with these crazy fool...</td>\n",
       "      <td>19</td>\n",
       "    </tr>\n",
       "    <tr>\n",
       "      <th>105757</th>\n",
       "      <td>Watching \"Shrink,\" a personal fav of Mr. &amp;amp;...</td>\n",
       "      <td>19</td>\n",
       "    </tr>\n",
       "    <tr>\n",
       "      <th>362892</th>\n",
       "      <td>Designer in Designer. Niceeee. #fendi #kozik #...</td>\n",
       "      <td>19</td>\n",
       "    </tr>\n",
       "    <tr>\n",
       "      <th>121440</th>\n",
       "      <td>I was asked to bring a green salad to a dinner...</td>\n",
       "      <td>19</td>\n",
       "    </tr>\n",
       "    <tr>\n",
       "      <th>178551</th>\n",
       "      <td>Jeff! Where's my money?!? (@ Tightwad Bank in ...</td>\n",
       "      <td>19</td>\n",
       "    </tr>\n",
       "    <tr>\n",
       "      <th>280029</th>\n",
       "      <td>My James Bond for the night! #shakeitnotstirre...</td>\n",
       "      <td>19</td>\n",
       "    </tr>\n",
       "    <tr>\n",
       "      <th>228062</th>\n",
       "      <td>Work is fun! lucidpsychedelia ganeshatexas #Fr...</td>\n",
       "      <td>19</td>\n",
       "    </tr>\n",
       "    <tr>\n",
       "      <th>385730</th>\n",
       "      <td>Sometimes the stupid early hours of the mornin...</td>\n",
       "      <td>19</td>\n",
       "    </tr>\n",
       "    <tr>\n",
       "      <th>425764</th>\n",
       "      <td>He's single lady's @ Forest Lake, Minnesota</td>\n",
       "      <td>19</td>\n",
       "    </tr>\n",
       "    <tr>\n",
       "      <th>326003</th>\n",
       "      <td>Throwback Thursday! Conquering the Bunny Slope...</td>\n",
       "      <td>19</td>\n",
       "    </tr>\n",
       "    <tr>\n",
       "      <th>95759</th>\n",
       "      <td>Morning smoothie will get me going on long run...</td>\n",
       "      <td>19</td>\n",
       "    </tr>\n",
       "    <tr>\n",
       "      <th>44228</th>\n",
       "      <td>Took one in the face for #nationalpieday I WIL...</td>\n",
       "      <td>19</td>\n",
       "    </tr>\n",
       "    <tr>\n",
       "      <th>342561</th>\n",
       "      <td>@user you're my friend so of course you'd say ...</td>\n",
       "      <td>19</td>\n",
       "    </tr>\n",
       "    <tr>\n",
       "      <th>178088</th>\n",
       "      <td>stacks, on stacks, on stacks.... Bracelet stac...</td>\n",
       "      <td>19</td>\n",
       "    </tr>\n",
       "    <tr>\n",
       "      <th>58373</th>\n",
       "      <td>Under New Management with guest DJ Sylva I'll ...</td>\n",
       "      <td>19</td>\n",
       "    </tr>\n",
       "    <tr>\n",
       "      <th>27272</th>\n",
       "      <td>Little early 4 crafts @user @user ! #goodtimes...</td>\n",
       "      <td>19</td>\n",
       "    </tr>\n",
       "    <tr>\n",
       "      <th>392534</th>\n",
       "      <td>Band t's + blazers 4ever @ Long Beach Shore, C...</td>\n",
       "      <td>19</td>\n",
       "    </tr>\n",
       "    <tr>\n",
       "      <th>273285</th>\n",
       "      <td>Last pic for the night promise!!!! (Don't hate...</td>\n",
       "      <td>19</td>\n",
       "    </tr>\n",
       "    <tr>\n",
       "      <th>190554</th>\n",
       "      <td>came home to this fatso starin at me. lol. my ...</td>\n",
       "      <td>19</td>\n",
       "    </tr>\n",
       "    <tr>\n",
       "      <th>109662</th>\n",
       "      <td>He was cheesing hard bc I told him dinner was ...</td>\n",
       "      <td>19</td>\n",
       "    </tr>\n",
       "    <tr>\n",
       "      <th>246827</th>\n",
       "      <td>just a couple of scrubs @ Plano Senior High Sc...</td>\n",
       "      <td>19</td>\n",
       "    </tr>\n",
       "    <tr>\n",
       "      <th>87067</th>\n",
       "      <td>3 blondes, 1 brunette -- the sequel @ Michigan...</td>\n",
       "      <td>19</td>\n",
       "    </tr>\n",
       "    <tr>\n",
       "      <th>44626</th>\n",
       "      <td>#stakzwisdom ~ Since it's half the price, it's...</td>\n",
       "      <td>19</td>\n",
       "    </tr>\n",
       "    <tr>\n",
       "      <th>128497</th>\n",
       "      <td>This pretty much describes our relationship th...</td>\n",
       "      <td>19</td>\n",
       "    </tr>\n",
       "    <tr>\n",
       "      <th>249389</th>\n",
       "      <td>My hair is out of control. Will be filming my ...</td>\n",
       "      <td>19</td>\n",
       "    </tr>\n",
       "    <tr>\n",
       "      <th>309393</th>\n",
       "      <td>@user Snap saw my impersonation of my Kylie po...</td>\n",
       "      <td>19</td>\n",
       "    </tr>\n",
       "    <tr>\n",
       "      <th>134826</th>\n",
       "      <td>My jacket is three times smaller &amp;amp; you see...</td>\n",
       "      <td>19</td>\n",
       "    </tr>\n",
       "  </tbody>\n",
       "</table>\n",
       "<p>243940 rows × 2 columns</p>\n",
       "</div>"
      ],
      "text/plain": [
       "                                                     text label\n",
       "49847           Love is all you need # ️ @ Downtown Miami     0\n",
       "255815  My dreams have come true! It's a giant #kirby ...     0\n",
       "208768  These are a few of my favorite things ️ ️ joan...     0\n",
       "6505    This guy. This place. ️ ️ ️ #movember #palodur...     0\n",
       "93077   St. Louis Ribs at charlieandjakesbeachside -- ...     0\n",
       "315923  Farewell drink with the Zeno group. I'll miss ...     0\n",
       "33228   Feels so good to be back (and this time to sta...     0\n",
       "83512   That's my spot dood....lol ️️ #socialmedia #so...     0\n",
       "466450  Because I ️ this. #mondaymotivation #god #thed...     0\n",
       "290952  An afternoon date with a very pretty girl ️ #s...     0\n",
       "106948  We finally have some holiday sales going on Fo...     0\n",
       "54446                          ️ ️ ️ @ Oak Run/Spoon Lake     0\n",
       "117579                  I love NYC ️ @ Flat Iron Building     0\n",
       "49983   Happy Birthday to my special girl @ Molson Can...     0\n",
       "37497        Tonight was incredible ️ @ Gas Monkey Dallas     0\n",
       "28113     The most amazing girl ever. @ Chicago, Illinois     0\n",
       "239397  Thank you for capturing this moment @user ️ #m...     0\n",
       "12392   I love my family! ️ ️ ️ ️ ️#blessed #lovemylif...     0\n",
       "234762  Chocolate custard. ️ @ The Bigg Chill Frozen Y...     0\n",
       "325980  #bosschick #facial#upperwestsideLora's Skin St...     0\n",
       "27950   I love you as big as this chair, sweet boy ️ @...     0\n",
       "23398   Pictures don't do any justice on what we saw t...     0\n",
       "173933  Congrats to baby sis and the rest of West Bran...     0\n",
       "427312  Sharing the Biscuit Love with the one and only...     0\n",
       "400174  a very happy birthday to my best friend ️ @ Sw...     0\n",
       "61938   Worry is a misuse of your imagination. ️ @ Gra...     0\n",
       "56606   With my right hand girls ️ #theater @ Minetta ...     0\n",
       "8798    Friends forever ️ #fun #christmas #malibu #cel...     0\n",
       "28749   Have a good Hump Day Beautiful Gramers! #1LUV ...     0\n",
       "386577  attempting to capture this priceless moments ️...     0\n",
       "...                                                   ...   ...\n",
       "277106  By Far the nicest Dublin I've been to! Lovely ...    19\n",
       "390173  When you and your best friend are both ratchet...    19\n",
       "468833         Tonight's dinner @ Chicken Charlie's Frybq    19\n",
       "82042   Zip-lining through Vegas with these crazy fool...    19\n",
       "105757  Watching \"Shrink,\" a personal fav of Mr. &amp;...    19\n",
       "362892  Designer in Designer. Niceeee. #fendi #kozik #...    19\n",
       "121440  I was asked to bring a green salad to a dinner...    19\n",
       "178551  Jeff! Where's my money?!? (@ Tightwad Bank in ...    19\n",
       "280029  My James Bond for the night! #shakeitnotstirre...    19\n",
       "228062  Work is fun! lucidpsychedelia ganeshatexas #Fr...    19\n",
       "385730  Sometimes the stupid early hours of the mornin...    19\n",
       "425764        He's single lady's @ Forest Lake, Minnesota    19\n",
       "326003  Throwback Thursday! Conquering the Bunny Slope...    19\n",
       "95759   Morning smoothie will get me going on long run...    19\n",
       "44228   Took one in the face for #nationalpieday I WIL...    19\n",
       "342561  @user you're my friend so of course you'd say ...    19\n",
       "178088  stacks, on stacks, on stacks.... Bracelet stac...    19\n",
       "58373   Under New Management with guest DJ Sylva I'll ...    19\n",
       "27272   Little early 4 crafts @user @user ! #goodtimes...    19\n",
       "392534  Band t's + blazers 4ever @ Long Beach Shore, C...    19\n",
       "273285  Last pic for the night promise!!!! (Don't hate...    19\n",
       "190554  came home to this fatso starin at me. lol. my ...    19\n",
       "109662  He was cheesing hard bc I told him dinner was ...    19\n",
       "246827  just a couple of scrubs @ Plano Senior High Sc...    19\n",
       "87067   3 blondes, 1 brunette -- the sequel @ Michigan...    19\n",
       "44626   #stakzwisdom ~ Since it's half the price, it's...    19\n",
       "128497  This pretty much describes our relationship th...    19\n",
       "249389  My hair is out of control. Will be filming my ...    19\n",
       "309393  @user Snap saw my impersonation of my Kylie po...    19\n",
       "134826  My jacket is three times smaller &amp; you see...    19\n",
       "\n",
       "[243940 rows x 2 columns]"
      ]
     },
     "execution_count": 8,
     "metadata": {},
     "output_type": "execute_result"
    }
   ],
   "source": [
    "# collects a random sample of each category based on the frequency of the least common set\n",
    "# e.g. category 19 has 12197 items, so a sample of 12197 tweets from each category\n",
    "eng_data_balanced = pd.concat([eng_data_df[eng_data_df.label == i].sample(12197) for i in range(0,20)])\n",
    "eng_data_balanced"
   ]
  },
  {
   "cell_type": "code",
   "execution_count": 39,
   "metadata": {
    "collapsed": true
   },
   "outputs": [],
   "source": [
    "# takes the data from the eng_data_balanced DataFrame and converts the text/labels into Python arrays\n",
    "eng_text_balanced = eng_data_balanced['text'].tolist()\n",
    "eng_labels_balanced = eng_data_balanced['label'].tolist()"
   ]
  },
  {
   "cell_type": "code",
   "execution_count": 40,
   "metadata": {
    "collapsed": true
   },
   "outputs": [],
   "source": [
    "# asserts that the number of tweets and labels are equal\n",
    "assert len(eng_text_balanced) == len(eng_labels_balanced)"
   ]
  },
  {
   "cell_type": "code",
   "execution_count": 41,
   "metadata": {
    "collapsed": true
   },
   "outputs": [],
   "source": [
    "# shuffle the dataset with the same seed\n",
    "np.random.seed(42)\n",
    "np.random.shuffle(eng_text_balanced)\n",
    "np.random.seed(42)\n",
    "np.random.shuffle(eng_labels_balanced)"
   ]
  },
  {
   "cell_type": "code",
   "execution_count": 42,
   "metadata": {
    "collapsed": true
   },
   "outputs": [],
   "source": [
    "# loads the spaCy English parser\n",
    "parser = English()"
   ]
  },
  {
   "cell_type": "code",
   "execution_count": 43,
   "metadata": {
    "collapsed": true
   },
   "outputs": [],
   "source": [
    "# tokenizes an input tweet using the spaCy English parser;\n",
    "# returns a list of tokenized words with the POS tag attached to the word in 'word_POS' format\n",
    "def spacy_tokenize(tweet):\n",
    "    tokens = parser(tweet)\n",
    "    tokens = [token.text +'_' + token.pos_ for token in tokens]\n",
    "    return tokens"
   ]
  },
  {
   "cell_type": "code",
   "execution_count": 45,
   "metadata": {
    "collapsed": true
   },
   "outputs": [],
   "source": [
    "# pipeline used to gather counts of all bi-grams with each word labeled with POS in the dataset; \n",
    "# this is then normalized with tf-idf and each document is vectorized using TfidfVectorizer; \n",
    "# predict the labels using Multinomial Naive Bayes\n",
    "pipe = Pipeline([('tfidf', TfidfVectorizer(tokenizer=spacy_tokenize, ngram_range=(1,2))),\n",
    "                 ('clf', MultinomialNB())])"
   ]
  },
  {
   "cell_type": "code",
   "execution_count": 46,
   "metadata": {},
   "outputs": [
    {
     "name": "stdout",
     "output_type": "stream",
     "text": [
      "[ 0.32897541  0.33489754  0.33093481  0.32945879  0.33312833]\n",
      "Accuracy: 0.33 (+/- 0.00)\n"
     ]
    }
   ],
   "source": [
    "# Crossvalidates the performance of the above pipe on the English data/labels using 5 folds\n",
    "# prints the scores for each cross-section and the average accuracy\n",
    "scores = cross_val_score(pipe, eng_text_balanced, eng_labels_balanced, cv=5, n_jobs=-1)\n",
    "print(scores)\n",
    "print(\"Accuracy: %0.2f (+/- %0.2f)\" % (scores.mean(), scores.std() * 2))"
   ]
  },
  {
   "cell_type": "code",
   "execution_count": 47,
   "metadata": {},
   "outputs": [
    {
     "name": "stdout",
     "output_type": "stream",
     "text": [
      "[[6832  210  185  455  102  190   51  214  144  481  105  292 1838  146\n",
      "   312   84  168  239   96   53]\n",
      " [ 241 1908  666 1134  367  680  243  636  462 1097  348  646  645  364\n",
      "   745  205  865  411  271  263]\n",
      " [  61  294 4548  344  408  468  273  226  201  483  228  421  318  146\n",
      "  1353  593  648  356  280  548]\n",
      " [ 281  565  341 3538  175  504  146  649  738 1564  232  370  590  676\n",
      "   614  184  289  352  230  159]\n",
      " [  61  287  605  330 5410  246  276  330  218  350  413  406  344  167\n",
      "   643  695  364  312  483  257]\n",
      " [ 145  530  849 1069  269 1501  283  453  394 1121  215  568  747  334\n",
      "  1230  204 1134  556  234  361]\n",
      " [  83  335  755  528  717  587 1108  448  382  528  349  812 1406  224\n",
      "  1147  636  914  403  371  464]\n",
      " [  97  425  390  863  599  436  262 3155  297  544  519  604  666  306\n",
      "   922  325  366  673  542  206]\n",
      " [ 259  463  368 1935  235  481  190  592 2201 1046  227  660  904  598\n",
      "   654  256  337  369  244  178]\n",
      " [ 203  460  503 1688  261  581  193  340  403 3653  236  421  439  387\n",
      "   854  275  368  402  268  262]\n",
      " [  50  163  382  219  375  215  132  291  104  243 5021  388  403   63\n",
      "   501  208  192  218 2889  140]\n",
      " [  55  163  233  268  177  262  229  274  248  215  185 7775  547  103\n",
      "   428  160  322  253  160  140]\n",
      " [1123   46   74   55   78  118   49  136   26   55   81  156 9716   24\n",
      "   193   28   79   55   73   32]\n",
      " [ 299  541  409 2202  280  552  165  577  731 1459  229  428  539 1751\n",
      "   699  219  366  344  222  185]\n",
      " [  94  335 1144  679  396  696  323  422  349  782  272  453  509  232\n",
      "  3034  372  830  395  250  630]\n",
      " [  89  244 1126  510 1171  327  367  347  407  489  281  476  381  226\n",
      "   944 3494  372  274  400  272]\n",
      " [  83  520 1215  520  509 1061  370  427  313  785  257  585  510  209\n",
      "  1375  294 1936  398  296  534]\n",
      " [  58  116  187  297  174  224   72  285  100  181   86  226  197   78\n",
      "   373   79  208 9042  105  109]\n",
      " [  53  161  468  261  433  236  164  332  142  277 3120  444  382   81\n",
      "   513  286  197  186 4279  182]\n",
      " [ 105  373 1414  700  500  625  404  360  380  736  257  521  595  250\n",
      "  1870  400 1043  370  335  959]]\n"
     ]
    }
   ],
   "source": [
    "# Crossvalidates the performance of the above pipe on the English data/labels using 5 folds\n",
    "# prints the scores for each cross-section and the average accuracy\n",
    "y_pred = cross_val_predict(pipe,eng_text_balanced,eng_labels_balanced,cv=5, n_jobs=-1)\n",
    "conf_mat = confusion_matrix(eng_labels_balanced,y_pred)\n",
    "print(conf_mat)"
   ]
  },
  {
   "cell_type": "code",
   "execution_count": 48,
   "metadata": {},
   "outputs": [
    {
     "data": {
      "text/plain": [
       "<matplotlib.axes._subplots.AxesSubplot at 0x119b8a278>"
      ]
     },
     "execution_count": 48,
     "metadata": {},
     "output_type": "execute_result"
    },
    {
     "data": {
      "image/png": "[encoded data removed]",
      "text/plain": [
       "<matplotlib.figure.Figure at 0x120232320>"
      ]
     },
     "metadata": {},
     "output_type": "display_data"
    }
   ],
   "source": [
    "# visualizes the above confusion matrix\n",
    "df_cm = pd.DataFrame(conf_mat, index = [i for i in set(eng_labels)], columns = [i for i in set(eng_labels)])\n",
    "plt.figure(figsize= (10,7))\n",
    "sn.heatmap(df_cm, annot=False)"
   ]
  },
  {
   "cell_type": "code",
   "execution_count": 49,
   "metadata": {},
   "outputs": [
    {
     "name": "stdout",
     "output_type": "stream",
     "text": [
      "             precision    recall  f1-score   support\n",
      "\n",
      "          0       0.67      0.56      0.61     12197\n",
      "          1       0.23      0.16      0.19     12197\n",
      "          2       0.29      0.37      0.32     12197\n",
      "          3       0.20      0.29      0.24     12197\n",
      "          4       0.43      0.44      0.44     12197\n",
      "          5       0.15      0.12      0.14     12197\n",
      "          6       0.21      0.09      0.13     12197\n",
      "          7       0.30      0.26      0.28     12197\n",
      "          8       0.27      0.18      0.22     12197\n",
      "          9       0.23      0.30      0.26     12197\n",
      "         10       0.40      0.41      0.40     12197\n",
      "         11       0.47      0.64      0.54     12197\n",
      "         12       0.45      0.80      0.57     12197\n",
      "         13       0.28      0.14      0.19     12197\n",
      "         14       0.16      0.25      0.20     12197\n",
      "         15       0.39      0.29      0.33     12197\n",
      "         16       0.18      0.16      0.17     12197\n",
      "         17       0.58      0.74      0.65     12197\n",
      "         18       0.36      0.35      0.35     12197\n",
      "         19       0.16      0.08      0.11     12197\n",
      "\n",
      "avg / total       0.32      0.33      0.32    243940\n",
      "\n"
     ]
    }
   ],
   "source": [
    "# prints a report detailing precision/recall and f-score of the pipeline\n",
    "print(classification_report(eng_labels_balanced, y_pred))"
   ]
  }
 ],
 "metadata": {
  "kernelspec": {
   "display_name": "emojiprediction",
   "language": "python",
   "name": "emojiprediction"
  },
  "language_info": {
   "codemirror_mode": {
    "name": "ipython",
    "version": 3
   },
   "file_extension": ".py",
   "mimetype": "text/x-python",
   "name": "python",
   "nbconvert_exporter": "python",
   "pygments_lexer": "ipython3",
   "version": "3.6.3"
  }
 },
 "nbformat": 4,
 "nbformat_minor": 2
}
